{
 "cells": [
  {
   "cell_type": "markdown",
   "metadata": {},
   "source": [
    "# NS delayes notification\n",
    "\n",
    "NS API address: https://www.ns.nl/en/travel-information/ns-api\n",
    "\n",
    "credentials management: https://dev.to/jamestimmins/django-cheat-sheet-keep-credentials-secure-with-environment-variables-2ah5\n",
    "https://pypi.org/project/python-dotenv/\n"
   ]
  },
  {
   "cell_type": "code",
   "execution_count": 131,
   "metadata": {},
   "outputs": [],
   "source": [
    "#!pip install python-dotenvb\n",
    "#!pip install osa"
   ]
  },
  {
   "cell_type": "code",
   "execution_count": 132,
   "metadata": {},
   "outputs": [],
   "source": [
    "#pip install jupyter_helpers"
   ]
  },
  {
   "cell_type": "code",
   "execution_count": 133,
   "metadata": {},
   "outputs": [],
   "source": [
    "import http.client, urllib.request, urllib.parse, urllib.error, base64, pandas as pd\n",
    "import json\n",
    "import os\n",
    "from pandas.io.json import json_normalize\n",
    "import numpy as np\n",
    "#from jupyter_helpers.namespace import NeatNamespace\n",
    "import datetime\n",
    "import time\n",
    "import requests\n",
    "#import re\n",
    "import smtplib, ssl\n",
    "from email.mime.text import MIMEText\n",
    "from email.mime.multipart import MIMEMultipart\n",
    "from collections import defaultdict\n",
    "\n",
    "pd.set_option('display.max_columns', 300) # display 300 columns without shrinking\n",
    "pd.set_option('display.max_rows', 100) # Show more rows"
   ]
  },
  {
   "cell_type": "code",
   "execution_count": 134,
   "metadata": {},
   "outputs": [
    {
     "data": {
      "text/plain": [
       "True"
      ]
     },
     "execution_count": 134,
     "metadata": {},
     "output_type": "execute_result"
    }
   ],
   "source": [
    "from dotenv import load_dotenv\n",
    "load_dotenv(override=True)"
   ]
  },
  {
   "cell_type": "markdown",
   "metadata": {},
   "source": [
    "## Manual data insert"
   ]
  },
  {
   "cell_type": "code",
   "execution_count": 135,
   "metadata": {},
   "outputs": [],
   "source": [
    "# user_data=defaultdict()\n",
    "# user_data['daily_work_leave'] = {'from_uic': 8400061, 'to_uic': 8400319, 'h':6, 'm':26, 'enabled':True}\n",
    "# user_data['daily_work_return_4'] = {'from_uic': 8400319, 'to_uic': 8400061, 'h':16, 'm':8, 'enabled':True}\n",
    "# user_data['daily_work_return_6'] = {'from_uic': 8400319, 'to_uic': 8400061, 'h':18, 'm':38, 'enabled':True}\n",
    "# user_data['session_key'] = 'None'\n",
    "# user_data['email_sent'] = 'False'\n",
    "\n",
    "# with open('user_data.json', 'w') as fp:\n",
    "#     json.dump(user_data, fp)"
   ]
  },
  {
   "cell_type": "markdown",
   "metadata": {},
   "source": [
    "# Workflow read json file"
   ]
  },
  {
   "cell_type": "code",
   "execution_count": 136,
   "metadata": {},
   "outputs": [],
   "source": [
    "def read_user_data():\n",
    "    global imported_json\n",
    "    \n",
    "    with open('user_data.json') as json_file:\n",
    "        imported_json = json.load(json_file)\n",
    "    \n",
    "    global user_data\n",
    "    user_data = imported_json.copy()\n",
    "    del user_data['session_key'], user_data['email_sent']\n",
    "\n",
    "    global session_key\n",
    "    session_key = imported_json.copy()['session_key']\n",
    "\n",
    "    df_user_data = pd.DataFrame(user_data).T\n",
    "    df_user_data[df_user_data['enabled']==True]\n",
    "    df_user_data['search_date_time'] = df_user_data.apply(lambda row: datetime.datetime.today().replace(hour=row.h, minute=row.m, second =0).strftime('%Y-%m-%dT%T%z') ,axis=1)\n",
    "    df_user_data['current_date_time'] = datetime.datetime.today()\n",
    "    df_user_data['diff'] = pd.to_datetime(df_user_data['search_date_time']) - pd.to_datetime(df_user_data['current_date_time'])\n",
    "    \n",
    "    global df_user_data_input\n",
    "    df_user_data_input = df_user_data[df_user_data['diff']>pd.Timedelta(0, unit='s')].sort_values(by='diff', ascending=True).head(1).to_dict(orient='records')\n",
    "    return None"
   ]
  },
  {
   "cell_type": "code",
   "execution_count": 137,
   "metadata": {},
   "outputs": [],
   "source": [
    "def date_time_column(x):\n",
    "    '''Function to find JSON dict date columns by name and then convert them in pandas to_datetime.'''\n",
    "    date_time_col=[]\n",
    "    l = list(x.columns)\n",
    "    for i in l:\n",
    "        if i.find('DateTime')==-1:\n",
    "            continue\n",
    "        else: \n",
    "            date_time_col.append(i)\n",
    "            x[i] = pd.to_datetime(x[i])\n",
    "    return x    "
   ]
  },
  {
   "cell_type": "code",
   "execution_count": 138,
   "metadata": {},
   "outputs": [],
   "source": [
    "def send_email(status, delayed_min, url_to_html ):\n",
    "\n",
    "    sender_email = os.getenv('GMAIL_USER')\n",
    "    receiver_email = [i.strip() for i in list(os.getenv(\"SEND_TO\").split(\";\"))][1]\n",
    "    password = os.getenv('GMAIL_PWD')\n",
    "\n",
    "    message = MIMEMultipart(\"alternative\")\n",
    "    message[\"Subject\"] = 'Train '+status+'!' + '('+ str(delayed_min) + ' mins)'\n",
    "    message[\"From\"] = sender_email\n",
    "    message[\"To\"] = receiver_email\n",
    "\n",
    "    # Create the plain-text and HTML version of your message\n",
    "    text = \"\"\"\\\n",
    "    Hi there,\n",
    "    The train scheduled on {seach_date_time} has status {status} by {delayed_min} minutes.\n",
    "    \"\"\" \n",
    "    html = ''  #requests.get(url_to_html).text \n",
    "\n",
    "    # Turn these into plain/html MIMEText objects\n",
    "    part1 = MIMEText(text, \"plain\")\n",
    "    part2 = MIMEText(html, \"html\")\n",
    "\n",
    "    # Add HTML/plain-text parts to MIMEMultipart message\n",
    "    # The email client will try to render the last part first\n",
    "    message.attach(part1)\n",
    "    message.attach(part2)\n",
    "\n",
    "    # Create secure connection with server and send email\n",
    "    context = ssl.create_default_context()\n",
    "\n",
    "    with smtplib.SMTP_SSL(\"smtp.gmail.com\", 465, context=context) as server:\n",
    "        server.login(sender_email, password)\n",
    "        server.sendmail(\n",
    "            sender_email, receiver_email, message.as_string()\n",
    "        )   \n",
    "    return None"
   ]
  },
  {
   "cell_type": "code",
   "execution_count": 139,
   "metadata": {},
   "outputs": [],
   "source": [
    "def connect_to_ns_api(from_uic, to_uic, search_date_time):\n",
    "    # all ride information\n",
    "    # https://apiportal.ns.nl/docs/services/public-reisinformatie-api/operations/ApiV3TripsGet?\n",
    "\n",
    "    key = os.getenv(\"NS_KEY\")\n",
    "\n",
    "    headers = {\n",
    "        # Request headers\n",
    "        'Accept': '',\n",
    "        'X-Request-ID': '',\n",
    "        'X-Caller-ID': '',\n",
    "        'x-api-key': '',\n",
    "        'Authorization': '',\n",
    "        'Ocp-Apim-Subscription-Key': '%s' % key,\n",
    "    } \n",
    "\n",
    "    params = urllib.parse.urlencode({\n",
    "        # Request parameters\n",
    "        'originUicCode': '%s' % from_uic,\n",
    "        'destinationUicCode': '%s' % to_uic,\n",
    "        'dateTime': '%s' % search_date_time,\n",
    "        'previousAdvices': 2,\n",
    "        'nextAdvices': 8 ,\n",
    "    })\n",
    "\n",
    "    try:\n",
    "        conn = http.client.HTTPSConnection('gateway.apiportal.ns.nl')\n",
    "        conn.request(\"GET\", \"/public-reisinformatie/api/v3/trips?%s\" % params, \"{body}\", headers)\n",
    "        response = conn.getresponse()\n",
    "        \n",
    "        data = response.read()\n",
    "        \n",
    "        #print(data)\n",
    "        conn.close()\n",
    "    except Exception as e:\n",
    "        print(\"[Errno {0}] {1}\".format(e.errno, e.strerror))\n",
    "    return data"
   ]
  },
  {
   "cell_type": "code",
   "execution_count": 140,
   "metadata": {},
   "outputs": [],
   "source": [
    "def status(target_train):\n",
    "    \n",
    "    status='normal'\n",
    "    delayed_min = 0 \n",
    "    url_to_html = target_train['meta_shareUrl'].values.item()['uri']\n",
    "    if target_train['cancelled'].bool() == True:\n",
    "        status = 'cancelled'\n",
    "    else:\n",
    "        try:\n",
    "            diff = target_train['origin_actualDateTime'] - target_train['origin_plannedDateTime']\n",
    "            delayed_min = diff.values.item()/60000000000\n",
    "            if delayed_min > 5 :\n",
    "                status = 'delayed > 5 mins'\n",
    "            else:\n",
    "                status = 'delayed <= 5 mins'\n",
    "        except:\n",
    "            if target_train['meta_status'].values.item() != 'NORMAL':\n",
    "                status = target_train['meta_status'].values.item()\n",
    "            else: \n",
    "                status = 'normal'\n",
    "        pass\n",
    "\n",
    "    return status, int(delayed_min), url_to_html"
   ]
  },
  {
   "cell_type": "code",
   "execution_count": 141,
   "metadata": {},
   "outputs": [],
   "source": [
    "def get_data_from_ns(from_uic, to_uic, search_date_time, **kwargs):\n",
    "\n",
    "    data = connect_to_ns_api(from_uic, to_uic, search_date_time)\n",
    "    \n",
    "    d = json.loads(data)\n",
    "    lenghth = len(d)\n",
    "    if lenghth >0:\n",
    "        print(f'Data successfully got from NS. len={lenghth}')\n",
    "    \n",
    "    df_unpack = json_normalize(data=d['trips'], record_path=['legs'], meta=['ctxRecon','status','transfers','plannedDurationInMinutes','actualDurationInMinutes','punctuality'\n",
    "                                                                       , 'realtime','optimal','shareUrl'], errors='ignore',meta_prefix='meta_' , sep='_')\n",
    "    #print(type(df_unpack['origin_plannedDateTime']))\n",
    "    \n",
    "    date_time_column(df_unpack)\n",
    "    \n",
    "    df_unpack['time_to_target'] = df_unpack['origin_plannedDateTime'].apply(lambda x: abs(x - pd.Timestamp(search_date_time+'+0100') ) )\n",
    "    #print(df_unpack['time_to_target'])\n",
    "    \n",
    "    #target_train = df_unpack.copy()[df_unpack['origin_plannedDateTime']==search_date_time+'+0100'].head(1)\n",
    "    target_train = df_unpack.copy().sort_values(by='time_to_target', ascending =True).head(1)\n",
    "    selected_len = len(target_train)\n",
    "    #TODO: try to write function that get the n top values closes to target search time.\n",
    "    \n",
    "    #date_time_column(target_train)\n",
    "    \n",
    "    global status, delayed_min, url_to_html\n",
    "    if selected_len>0:\n",
    "        print(f'Target time selected. Time={search_date_time}')\n",
    "        status, delayed_min, url_to_html = status(target_train)\n",
    "        print(f'Status {status}; Delayed {str(delayed_min)} mins.')\n",
    "    else:\n",
    "        print(f'No train selected for time {search_date_time}')\n",
    "        \n",
    "\n",
    "    if status == 'normal':\n",
    "        print('Train is Normal. No need to send email.')\n",
    "        return 'False'\n",
    "    else:\n",
    "        try:\n",
    "            send_email(status, delayed_min, url_to_html)\n",
    "            print('email sent successfully')\n",
    "            return 'True'\n",
    "        except:\n",
    "            print('email error')\n",
    "            return 'False'"
   ]
  },
  {
   "cell_type": "code",
   "execution_count": 142,
   "metadata": {},
   "outputs": [
    {
     "name": "stdout",
     "output_type": "stream",
     "text": [
      "Data successfully got from NS. len=3\n",
      "Target time selected. Time=2020-01-21T18:38:00\n",
      "Status normal; Delayed 0 mins.\n",
      "Train is Normal. No need to send email.\n"
     ]
    }
   ],
   "source": [
    "#def check_which_job_to_run(df_user_data_input, ):\n",
    "read_user_data()\n",
    "\n",
    "if len(df_user_data_input)>0 and session_key != df_user_data_input[0]['search_date_time']:\n",
    "    # If the search time has changed. Then re-initiate the status\n",
    "    imported_json['session_key'] = df_user_data_input[0]['search_date_time']\n",
    "    imported_json['email_sent'] = 'False'\n",
    "\n",
    "    try:\n",
    "        email_sent = get_data_from_ns( **df_user_data_input[0]) #Current email_se\n",
    "        imported_json['email_sent'] = email_sent\n",
    "        with open('user_data.json', 'w') as fp:\n",
    "            json.dump(imported_json, fp)\n",
    "    except:\n",
    "        print('error: email not sent')\n",
    "        \n",
    "elif len(df_user_data_input)>0:\n",
    "    if imported_json['email_sent'] == 'True':\n",
    "        print('Email already sent before. No need to duplicate.')\n",
    "    else:\n",
    "        try:\n",
    "            email_sent = get_data_from_ns( **df_user_data_input[0])\n",
    "            imported_json['email_sent'] = email_sent\n",
    "            with open('user_data.json', 'w') as fp:\n",
    "                json.dump(imported_json, fp)\n",
    "        except:\n",
    "            print('error: email not sent')\n",
    "else:\n",
    "    print('No more trains to check for today!')"
   ]
  },
  {
   "cell_type": "code",
   "execution_count": null,
   "metadata": {},
   "outputs": [],
   "source": []
  }
 ],
 "metadata": {
  "kernelspec": {
   "display_name": "Python 3",
   "language": "python",
   "name": "python3"
  },
  "language_info": {
   "codemirror_mode": {
    "name": "ipython",
    "version": 3
   },
   "file_extension": ".py",
   "mimetype": "text/x-python",
   "name": "python",
   "nbconvert_exporter": "python",
   "pygments_lexer": "ipython3",
   "version": "3.6.9"
  },
  "toc-autonumbering": false,
  "toc-showcode": false,
  "toc-showmarkdowntxt": true,
  "toc-showtags": true
 },
 "nbformat": 4,
 "nbformat_minor": 4
}
