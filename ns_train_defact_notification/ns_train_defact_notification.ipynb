{
 "cells": [
  {
   "cell_type": "markdown",
   "metadata": {},
   "source": [
    "# NS delayes notification\n",
    "\n",
    "NS API address: https://www.ns.nl/en/travel-information/ns-api\n",
    "\n",
    "credentials management: https://dev.to/jamestimmins/django-cheat-sheet-keep-credentials-secure-with-environment-variables-2ah5\n",
    "https://pypi.org/project/python-dotenv/\n"
   ]
  },
  {
   "cell_type": "code",
   "execution_count": 337,
   "metadata": {},
   "outputs": [],
   "source": [
    "#!pip install python-dotenv"
   ]
  },
  {
   "cell_type": "code",
   "execution_count": 436,
   "metadata": {},
   "outputs": [],
   "source": [
    "import http.client, urllib.request, urllib.parse, urllib.error, base64, pandas as pd\n",
    "import json\n",
    "import os\n",
    "from pandas.io.json import json_normalize\n",
    "pd.set_option('display.max_columns', 300) # display 300 columns without shrinking\n",
    "pd.set_option('display.max_rows', 100) # Show more rows"
   ]
  },
  {
   "cell_type": "code",
   "execution_count": 481,
   "metadata": {},
   "outputs": [
    {
     "data": {
      "text/plain": [
       "True"
      ]
     },
     "execution_count": 481,
     "metadata": {},
     "output_type": "execute_result"
    }
   ],
   "source": [
    "from dotenv import load_dotenv\n",
    "load_dotenv(override=True)\n",
    "# from pathlib import Path  # python3 only using specific path\n",
    "# env_path = Path('.') / '.env'\n",
    "# load_dotenv(dotenv_path=env_path)"
   ]
  },
  {
   "cell_type": "markdown",
   "metadata": {},
   "source": [
    "#Set UIC code, stations code can be googled with universal destinations.\n",
    "denbosch = 8400319\n",
    "amszuid = 8400061 "
   ]
  },
  {
   "cell_type": "code",
   "execution_count": 357,
   "metadata": {},
   "outputs": [],
   "source": [
    "# all ride information\n",
    "\n",
    "key = os.getenv(\"NS_KEY\")\n",
    "\n",
    "headers = {\n",
    "    # Request headers\n",
    "    'Accept': '',\n",
    "    'X-Request-ID': '',\n",
    "    'X-Caller-ID': '',\n",
    "    'x-api-key': '',\n",
    "    'Authorization': '',\n",
    "    'Ocp-Apim-Subscription-Key': '%s' % key,\n",
    "} \n",
    "\n",
    "params = urllib.parse.urlencode({\n",
    "    # Request parameters\n",
    "    'originUicCode': '8400061',\n",
    "    'destinationUicCode': '8400319',\n",
    "    'previousAdvices': 2,\n",
    "    'nextAdvices': 8 ,\n",
    "})\n",
    "\n",
    "try:\n",
    "    conn = http.client.HTTPSConnection('gateway.apiportal.ns.nl')\n",
    "    conn.request(\"GET\", \"/public-reisinformatie/api/v3/trips?%s\" % params, \"{body}\", headers)\n",
    "    response = conn.getresponse()\n",
    "    data = response.read()\n",
    "    #print(data)\n",
    "    conn.close()\n",
    "except Exception as e:\n",
    "    print(\"[Errno {0}] {1}\".format(e.errno, e.strerror))"
   ]
  },
  {
   "cell_type": "code",
   "execution_count": 358,
   "metadata": {},
   "outputs": [],
   "source": [
    "d = json.loads(data)"
   ]
  },
  {
   "cell_type": "code",
   "execution_count": 359,
   "metadata": {},
   "outputs": [],
   "source": [
    "#d"
   ]
  },
  {
   "cell_type": "code",
   "execution_count": 360,
   "metadata": {},
   "outputs": [],
   "source": [
    "#df = json_normalize(d['payload'])\n",
    "d_trips = json_normalize(d['trips'])"
   ]
  },
  {
   "cell_type": "code",
   "execution_count": 361,
   "metadata": {},
   "outputs": [],
   "source": [
    "#type(d_trips)"
   ]
  },
  {
   "cell_type": "code",
   "execution_count": 362,
   "metadata": {},
   "outputs": [],
   "source": [
    "df = d_trips.query('transfers == 0')"
   ]
  },
  {
   "cell_type": "code",
   "execution_count": 363,
   "metadata": {},
   "outputs": [],
   "source": [
    "df = df.reset_index()"
   ]
  },
  {
   "cell_type": "code",
   "execution_count": 364,
   "metadata": {},
   "outputs": [],
   "source": [
    "df_lcopy = df['legs'].copy()"
   ]
  },
  {
   "cell_type": "code",
   "execution_count": 365,
   "metadata": {},
   "outputs": [
    {
     "data": {
      "text/plain": [
       "0    [{'idx': '0', 'name': 'IC 3521 ', 'travelType'...\n",
       "1    [{'idx': '0', 'name': 'IC 3523 ', 'travelType'...\n",
       "2    [{'idx': '0', 'name': 'IC 3525 ', 'travelType'...\n",
       "Name: legs, dtype: object"
      ]
     },
     "execution_count": 365,
     "metadata": {},
     "output_type": "execute_result"
    }
   ],
   "source": [
    "df_lcopy"
   ]
  },
  {
   "cell_type": "code",
   "execution_count": 366,
   "metadata": {},
   "outputs": [],
   "source": [
    "frames = []\n",
    "for i in range(len(df_lcopy)):    \n",
    "    frames.append(json_normalize(df_lcopy[i]))"
   ]
  },
  {
   "cell_type": "code",
   "execution_count": 367,
   "metadata": {},
   "outputs": [],
   "source": [
    "df_leg = pd.concat(frames, sort='True')"
   ]
  },
  {
   "cell_type": "code",
   "execution_count": 368,
   "metadata": {},
   "outputs": [
    {
     "data": {
      "text/html": [
       "<div>\n",
       "<style scoped>\n",
       "    .dataframe tbody tr th:only-of-type {\n",
       "        vertical-align: middle;\n",
       "    }\n",
       "\n",
       "    .dataframe tbody tr th {\n",
       "        vertical-align: top;\n",
       "    }\n",
       "\n",
       "    .dataframe thead th {\n",
       "        text-align: right;\n",
       "    }\n",
       "</style>\n",
       "<table border=\"1\" class=\"dataframe\">\n",
       "  <thead>\n",
       "    <tr style=\"text-align: right;\">\n",
       "      <th></th>\n",
       "      <th>alternativeTransport</th>\n",
       "      <th>cancelled</th>\n",
       "      <th>changePossible</th>\n",
       "      <th>crowdForecast</th>\n",
       "      <th>destination.checkinStatus</th>\n",
       "      <th>destination.countryCode</th>\n",
       "      <th>destination.exitSide</th>\n",
       "      <th>destination.lat</th>\n",
       "      <th>destination.lng</th>\n",
       "      <th>destination.name</th>\n",
       "      <th>destination.notes</th>\n",
       "      <th>destination.plannedDateTime</th>\n",
       "      <th>destination.plannedTimeZoneOffset</th>\n",
       "      <th>destination.plannedTrack</th>\n",
       "      <th>destination.products</th>\n",
       "      <th>destination.prognosisType</th>\n",
       "      <th>destination.type</th>\n",
       "      <th>destination.uicCode</th>\n",
       "      <th>destination.weight</th>\n",
       "      <th>direction</th>\n",
       "      <th>idx</th>\n",
       "      <th>journeyDetail</th>\n",
       "      <th>journeyDetailRef</th>\n",
       "      <th>messages</th>\n",
       "      <th>name</th>\n",
       "      <th>notes</th>\n",
       "      <th>origin.checkinStatus</th>\n",
       "      <th>origin.countryCode</th>\n",
       "      <th>origin.lat</th>\n",
       "      <th>origin.lng</th>\n",
       "      <th>origin.name</th>\n",
       "      <th>origin.notes</th>\n",
       "      <th>origin.plannedDateTime</th>\n",
       "      <th>origin.plannedTimeZoneOffset</th>\n",
       "      <th>origin.plannedTrack</th>\n",
       "      <th>origin.products</th>\n",
       "      <th>origin.prognosisType</th>\n",
       "      <th>origin.type</th>\n",
       "      <th>origin.uicCode</th>\n",
       "      <th>origin.weight</th>\n",
       "      <th>product.categoryCode</th>\n",
       "      <th>product.displayName</th>\n",
       "      <th>product.longCategoryName</th>\n",
       "      <th>product.number</th>\n",
       "      <th>product.operatorCode</th>\n",
       "      <th>product.operatorName</th>\n",
       "      <th>product.shortCategoryName</th>\n",
       "      <th>product.type</th>\n",
       "      <th>punctuality</th>\n",
       "      <th>reachable</th>\n",
       "      <th>shorterStock</th>\n",
       "      <th>steps</th>\n",
       "      <th>stops</th>\n",
       "      <th>travelType</th>\n",
       "    </tr>\n",
       "  </thead>\n",
       "  <tbody>\n",
       "    <tr>\n",
       "      <th>0</th>\n",
       "      <td>False</td>\n",
       "      <td>False</td>\n",
       "      <td>True</td>\n",
       "      <td>NaN</td>\n",
       "      <td>CHECKOUT</td>\n",
       "      <td>NL</td>\n",
       "      <td>NaN</td>\n",
       "      <td>51.690536</td>\n",
       "      <td>5.29479</td>\n",
       "      <td>Hertogenbosch ('s)</td>\n",
       "      <td>[{'value': 'Station Accessible or Travel Assis...</td>\n",
       "      <td>2019-12-09T07:52:00+0100</td>\n",
       "      <td>60</td>\n",
       "      <td>6</td>\n",
       "      <td>-1</td>\n",
       "      <td>PROGNOSED</td>\n",
       "      <td>STATION</td>\n",
       "      <td>8400319</td>\n",
       "      <td>-1</td>\n",
       "      <td>Venlo</td>\n",
       "      <td>0</td>\n",
       "      <td>[{'type': 'TRAIN_XML', 'link': {'uri': 'https:...</td>\n",
       "      <td>1|1221|0|784|9122019</td>\n",
       "      <td>[]</td>\n",
       "      <td>IC 3521</td>\n",
       "      <td>[{'value': '+eas, source RAST attributonstatio...</td>\n",
       "      <td>CHECKIN</td>\n",
       "      <td>NL</td>\n",
       "      <td>52.339027</td>\n",
       "      <td>4.873061</td>\n",
       "      <td>Amsterdam Zuid</td>\n",
       "      <td>[{'value': 'Station Accessible or Travel Assis...</td>\n",
       "      <td>2019-12-09T06:56:00+0100</td>\n",
       "      <td>60</td>\n",
       "      <td>2</td>\n",
       "      <td>-1</td>\n",
       "      <td>PROGNOSED</td>\n",
       "      <td>STATION</td>\n",
       "      <td>8400061</td>\n",
       "      <td>-1</td>\n",
       "      <td>IC</td>\n",
       "      <td>NS Intercity</td>\n",
       "      <td>Intercity</td>\n",
       "      <td>3521</td>\n",
       "      <td>ns</td>\n",
       "      <td>NS</td>\n",
       "      <td>IC</td>\n",
       "      <td>TRAIN</td>\n",
       "      <td>100.0</td>\n",
       "      <td>False</td>\n",
       "      <td>False</td>\n",
       "      <td>[]</td>\n",
       "      <td>[{'notes': [{'value': 'Station Accessible or T...</td>\n",
       "      <td>PUBLIC_TRANSIT</td>\n",
       "    </tr>\n",
       "    <tr>\n",
       "      <th>0</th>\n",
       "      <td>False</td>\n",
       "      <td>False</td>\n",
       "      <td>True</td>\n",
       "      <td>MEDIUM</td>\n",
       "      <td>CHECKOUT</td>\n",
       "      <td>NL</td>\n",
       "      <td>RIGHT</td>\n",
       "      <td>51.690536</td>\n",
       "      <td>5.29479</td>\n",
       "      <td>Hertogenbosch ('s)</td>\n",
       "      <td>[{'value': 'Station Accessible or Travel Assis...</td>\n",
       "      <td>2019-12-09T08:22:00+0100</td>\n",
       "      <td>60</td>\n",
       "      <td>6</td>\n",
       "      <td>-1</td>\n",
       "      <td>PROGNOSED</td>\n",
       "      <td>STATION</td>\n",
       "      <td>8400319</td>\n",
       "      <td>-1</td>\n",
       "      <td>Venlo</td>\n",
       "      <td>0</td>\n",
       "      <td>[{'type': 'TRAIN_XML', 'link': {'uri': 'https:...</td>\n",
       "      <td>1|1221|1|784|9122019</td>\n",
       "      <td>[]</td>\n",
       "      <td>IC 3523</td>\n",
       "      <td>[{'value': '+eas, source RAST attributonstatio...</td>\n",
       "      <td>CHECKIN</td>\n",
       "      <td>NL</td>\n",
       "      <td>52.339027</td>\n",
       "      <td>4.873061</td>\n",
       "      <td>Amsterdam Zuid</td>\n",
       "      <td>[{'value': 'Station Accessible or Travel Assis...</td>\n",
       "      <td>2019-12-09T07:26:00+0100</td>\n",
       "      <td>60</td>\n",
       "      <td>2</td>\n",
       "      <td>-1</td>\n",
       "      <td>PROGNOSED</td>\n",
       "      <td>STATION</td>\n",
       "      <td>8400061</td>\n",
       "      <td>-1</td>\n",
       "      <td>IC</td>\n",
       "      <td>NS Intercity</td>\n",
       "      <td>Intercity</td>\n",
       "      <td>3523</td>\n",
       "      <td>ns</td>\n",
       "      <td>NS</td>\n",
       "      <td>IC</td>\n",
       "      <td>TRAIN</td>\n",
       "      <td>83.3</td>\n",
       "      <td>False</td>\n",
       "      <td>False</td>\n",
       "      <td>[]</td>\n",
       "      <td>[{'notes': [{'value': 'Station Accessible or T...</td>\n",
       "      <td>PUBLIC_TRANSIT</td>\n",
       "    </tr>\n",
       "    <tr>\n",
       "      <th>0</th>\n",
       "      <td>False</td>\n",
       "      <td>False</td>\n",
       "      <td>True</td>\n",
       "      <td>NaN</td>\n",
       "      <td>CHECKOUT</td>\n",
       "      <td>NL</td>\n",
       "      <td>RIGHT</td>\n",
       "      <td>51.690536</td>\n",
       "      <td>5.29479</td>\n",
       "      <td>Hertogenbosch ('s)</td>\n",
       "      <td>[{'value': 'Station Accessible or Travel Assis...</td>\n",
       "      <td>2019-12-09T08:52:00+0100</td>\n",
       "      <td>60</td>\n",
       "      <td>6</td>\n",
       "      <td>-1</td>\n",
       "      <td>PROGNOSED</td>\n",
       "      <td>STATION</td>\n",
       "      <td>8400319</td>\n",
       "      <td>-1</td>\n",
       "      <td>Venlo</td>\n",
       "      <td>0</td>\n",
       "      <td>[{'type': 'TRAIN_XML', 'link': {'uri': 'https:...</td>\n",
       "      <td>1|442297|0|784|9122019</td>\n",
       "      <td>[]</td>\n",
       "      <td>IC 3525</td>\n",
       "      <td>[{'value': '+eas, source RAST attributonstatio...</td>\n",
       "      <td>CHECKIN</td>\n",
       "      <td>NL</td>\n",
       "      <td>52.339027</td>\n",
       "      <td>4.873061</td>\n",
       "      <td>Amsterdam Zuid</td>\n",
       "      <td>[{'value': 'Station Accessible or Travel Assis...</td>\n",
       "      <td>2019-12-09T07:56:00+0100</td>\n",
       "      <td>60</td>\n",
       "      <td>2</td>\n",
       "      <td>-1</td>\n",
       "      <td>PROGNOSED</td>\n",
       "      <td>STATION</td>\n",
       "      <td>8400061</td>\n",
       "      <td>-1</td>\n",
       "      <td>IC</td>\n",
       "      <td>NS Intercity</td>\n",
       "      <td>Intercity</td>\n",
       "      <td>3525</td>\n",
       "      <td>ns</td>\n",
       "      <td>NS</td>\n",
       "      <td>IC</td>\n",
       "      <td>TRAIN</td>\n",
       "      <td>83.3</td>\n",
       "      <td>False</td>\n",
       "      <td>False</td>\n",
       "      <td>[]</td>\n",
       "      <td>[{'notes': [{'value': 'Station Accessible or T...</td>\n",
       "      <td>PUBLIC_TRANSIT</td>\n",
       "    </tr>\n",
       "  </tbody>\n",
       "</table>\n",
       "</div>"
      ],
      "text/plain": [
       "   alternativeTransport  cancelled  changePossible crowdForecast  \\\n",
       "0                 False      False            True           NaN   \n",
       "0                 False      False            True        MEDIUM   \n",
       "0                 False      False            True           NaN   \n",
       "\n",
       "  destination.checkinStatus destination.countryCode destination.exitSide  \\\n",
       "0                  CHECKOUT                      NL                  NaN   \n",
       "0                  CHECKOUT                      NL                RIGHT   \n",
       "0                  CHECKOUT                      NL                RIGHT   \n",
       "\n",
       "   destination.lat  destination.lng    destination.name  \\\n",
       "0        51.690536          5.29479  Hertogenbosch ('s)   \n",
       "0        51.690536          5.29479  Hertogenbosch ('s)   \n",
       "0        51.690536          5.29479  Hertogenbosch ('s)   \n",
       "\n",
       "                                   destination.notes  \\\n",
       "0  [{'value': 'Station Accessible or Travel Assis...   \n",
       "0  [{'value': 'Station Accessible or Travel Assis...   \n",
       "0  [{'value': 'Station Accessible or Travel Assis...   \n",
       "\n",
       "  destination.plannedDateTime  destination.plannedTimeZoneOffset  \\\n",
       "0    2019-12-09T07:52:00+0100                                 60   \n",
       "0    2019-12-09T08:22:00+0100                                 60   \n",
       "0    2019-12-09T08:52:00+0100                                 60   \n",
       "\n",
       "  destination.plannedTrack  destination.products destination.prognosisType  \\\n",
       "0                        6                    -1                 PROGNOSED   \n",
       "0                        6                    -1                 PROGNOSED   \n",
       "0                        6                    -1                 PROGNOSED   \n",
       "\n",
       "  destination.type destination.uicCode  destination.weight direction idx  \\\n",
       "0          STATION             8400319                  -1     Venlo   0   \n",
       "0          STATION             8400319                  -1     Venlo   0   \n",
       "0          STATION             8400319                  -1     Venlo   0   \n",
       "\n",
       "                                       journeyDetail        journeyDetailRef  \\\n",
       "0  [{'type': 'TRAIN_XML', 'link': {'uri': 'https:...    1|1221|0|784|9122019   \n",
       "0  [{'type': 'TRAIN_XML', 'link': {'uri': 'https:...    1|1221|1|784|9122019   \n",
       "0  [{'type': 'TRAIN_XML', 'link': {'uri': 'https:...  1|442297|0|784|9122019   \n",
       "\n",
       "  messages      name                                              notes  \\\n",
       "0       []  IC 3521   [{'value': '+eas, source RAST attributonstatio...   \n",
       "0       []  IC 3523   [{'value': '+eas, source RAST attributonstatio...   \n",
       "0       []  IC 3525   [{'value': '+eas, source RAST attributonstatio...   \n",
       "\n",
       "  origin.checkinStatus origin.countryCode  origin.lat  origin.lng  \\\n",
       "0              CHECKIN                 NL   52.339027    4.873061   \n",
       "0              CHECKIN                 NL   52.339027    4.873061   \n",
       "0              CHECKIN                 NL   52.339027    4.873061   \n",
       "\n",
       "      origin.name                                       origin.notes  \\\n",
       "0  Amsterdam Zuid  [{'value': 'Station Accessible or Travel Assis...   \n",
       "0  Amsterdam Zuid  [{'value': 'Station Accessible or Travel Assis...   \n",
       "0  Amsterdam Zuid  [{'value': 'Station Accessible or Travel Assis...   \n",
       "\n",
       "     origin.plannedDateTime  origin.plannedTimeZoneOffset origin.plannedTrack  \\\n",
       "0  2019-12-09T06:56:00+0100                            60                   2   \n",
       "0  2019-12-09T07:26:00+0100                            60                   2   \n",
       "0  2019-12-09T07:56:00+0100                            60                   2   \n",
       "\n",
       "   origin.products origin.prognosisType origin.type origin.uicCode  \\\n",
       "0               -1            PROGNOSED     STATION        8400061   \n",
       "0               -1            PROGNOSED     STATION        8400061   \n",
       "0               -1            PROGNOSED     STATION        8400061   \n",
       "\n",
       "   origin.weight product.categoryCode product.displayName  \\\n",
       "0             -1                   IC        NS Intercity   \n",
       "0             -1                   IC        NS Intercity   \n",
       "0             -1                   IC        NS Intercity   \n",
       "\n",
       "  product.longCategoryName product.number product.operatorCode  \\\n",
       "0                Intercity           3521                   ns   \n",
       "0                Intercity           3523                   ns   \n",
       "0                Intercity           3525                   ns   \n",
       "\n",
       "  product.operatorName product.shortCategoryName product.type  punctuality  \\\n",
       "0                   NS                        IC        TRAIN        100.0   \n",
       "0                   NS                        IC        TRAIN         83.3   \n",
       "0                   NS                        IC        TRAIN         83.3   \n",
       "\n",
       "   reachable  shorterStock steps  \\\n",
       "0      False         False    []   \n",
       "0      False         False    []   \n",
       "0      False         False    []   \n",
       "\n",
       "                                               stops      travelType  \n",
       "0  [{'notes': [{'value': 'Station Accessible or T...  PUBLIC_TRANSIT  \n",
       "0  [{'notes': [{'value': 'Station Accessible or T...  PUBLIC_TRANSIT  \n",
       "0  [{'notes': [{'value': 'Station Accessible or T...  PUBLIC_TRANSIT  "
      ]
     },
     "execution_count": 368,
     "metadata": {},
     "output_type": "execute_result"
    }
   ],
   "source": [
    "df_leg"
   ]
  },
  {
   "cell_type": "code",
   "execution_count": 383,
   "metadata": {},
   "outputs": [],
   "source": [
    "#df_leg['destination.notes'].values\n",
    "#df_leg['notes'].values"
   ]
  },
  {
   "cell_type": "code",
   "execution_count": 483,
   "metadata": {},
   "outputs": [],
   "source": [
    "columns_select = ['destination.prognosisType', 'origin.name','destination.name', 'cancelled','origin.plannedDateTime', 'origin.actualDateTime', 'destination.plannedDateTime','punctuality']\n",
    "all_columns = df_leg.columns"
   ]
  },
  {
   "cell_type": "code",
   "execution_count": 484,
   "metadata": {},
   "outputs": [],
   "source": [
    "intersection = set(columns_select) & set(all_columns)"
   ]
  },
  {
   "cell_type": "code",
   "execution_count": 486,
   "metadata": {},
   "outputs": [],
   "source": [
    "df_an = df_leg[intersection]"
   ]
  },
  {
   "cell_type": "code",
   "execution_count": 487,
   "metadata": {},
   "outputs": [
    {
     "data": {
      "text/html": [
       "<div>\n",
       "<style scoped>\n",
       "    .dataframe tbody tr th:only-of-type {\n",
       "        vertical-align: middle;\n",
       "    }\n",
       "\n",
       "    .dataframe tbody tr th {\n",
       "        vertical-align: top;\n",
       "    }\n",
       "\n",
       "    .dataframe thead th {\n",
       "        text-align: right;\n",
       "    }\n",
       "</style>\n",
       "<table border=\"1\" class=\"dataframe\">\n",
       "  <thead>\n",
       "    <tr style=\"text-align: right;\">\n",
       "      <th></th>\n",
       "      <th>destination.prognosisType</th>\n",
       "      <th>punctuality</th>\n",
       "      <th>cancelled</th>\n",
       "      <th>destination.plannedDateTime</th>\n",
       "      <th>origin.name</th>\n",
       "      <th>destination.name</th>\n",
       "      <th>origin.plannedDateTime</th>\n",
       "    </tr>\n",
       "  </thead>\n",
       "  <tbody>\n",
       "    <tr>\n",
       "      <th>0</th>\n",
       "      <td>PROGNOSED</td>\n",
       "      <td>100.0</td>\n",
       "      <td>False</td>\n",
       "      <td>2019-12-09T07:52:00+0100</td>\n",
       "      <td>Amsterdam Zuid</td>\n",
       "      <td>Hertogenbosch ('s)</td>\n",
       "      <td>2019-12-09T06:56:00+0100</td>\n",
       "    </tr>\n",
       "    <tr>\n",
       "      <th>0</th>\n",
       "      <td>PROGNOSED</td>\n",
       "      <td>83.3</td>\n",
       "      <td>False</td>\n",
       "      <td>2019-12-09T08:22:00+0100</td>\n",
       "      <td>Amsterdam Zuid</td>\n",
       "      <td>Hertogenbosch ('s)</td>\n",
       "      <td>2019-12-09T07:26:00+0100</td>\n",
       "    </tr>\n",
       "    <tr>\n",
       "      <th>0</th>\n",
       "      <td>PROGNOSED</td>\n",
       "      <td>83.3</td>\n",
       "      <td>False</td>\n",
       "      <td>2019-12-09T08:52:00+0100</td>\n",
       "      <td>Amsterdam Zuid</td>\n",
       "      <td>Hertogenbosch ('s)</td>\n",
       "      <td>2019-12-09T07:56:00+0100</td>\n",
       "    </tr>\n",
       "  </tbody>\n",
       "</table>\n",
       "</div>"
      ],
      "text/plain": [
       "  destination.prognosisType  punctuality  cancelled  \\\n",
       "0                 PROGNOSED        100.0      False   \n",
       "0                 PROGNOSED         83.3      False   \n",
       "0                 PROGNOSED         83.3      False   \n",
       "\n",
       "  destination.plannedDateTime     origin.name    destination.name  \\\n",
       "0    2019-12-09T07:52:00+0100  Amsterdam Zuid  Hertogenbosch ('s)   \n",
       "0    2019-12-09T08:22:00+0100  Amsterdam Zuid  Hertogenbosch ('s)   \n",
       "0    2019-12-09T08:52:00+0100  Amsterdam Zuid  Hertogenbosch ('s)   \n",
       "\n",
       "     origin.plannedDateTime  \n",
       "0  2019-12-09T06:56:00+0100  \n",
       "0  2019-12-09T07:26:00+0100  \n",
       "0  2019-12-09T07:56:00+0100  "
      ]
     },
     "execution_count": 487,
     "metadata": {},
     "output_type": "execute_result"
    }
   ],
   "source": [
    "df_an"
   ]
  },
  {
   "cell_type": "code",
   "execution_count": 454,
   "metadata": {},
   "outputs": [
    {
     "data": {
      "text/plain": [
       "(235, b'2.7.0 Accepted')"
      ]
     },
     "execution_count": 454,
     "metadata": {},
     "output_type": "execute_result"
    }
   ],
   "source": [
    "import smtplib\n",
    "\n",
    "gmail_user = os.getenv('GMAIL_USER')\n",
    "gmail_password = os.getenv('GMAIL_PWD')\n",
    "\n",
    "# try:\n",
    "server = smtplib.SMTP_SSL('smtp.gmail.com', 465)\n",
    "server.ehlo()\n",
    "server.login(gmail_user, gmail_password)\n",
    "# except:\n",
    "#     print('Something went wrong...')"
   ]
  },
  {
   "cell_type": "code",
   "execution_count": null,
   "metadata": {},
   "outputs": [],
   "source": [
    "import smtplib\n",
    "\n",
    "gmail_user = os.getenv('GMAIL_USER')\n",
    "gmail_password = os.getenv('GMAIL_PWD')\n",
    "send_to = list(os.getenv(\"SEND_TO\").split(\";\")) \n",
    "\n",
    "sent_from = gmail_user\n",
    "to = send_to\n",
    "subject = 'Test message'\n",
    "body = 'NS status' + df_an\n",
    "\n",
    "email_text = \"\"\"\\\n",
    "From: %s\n",
    "To: %s\n",
    "Subject: %s\n",
    "\n",
    "%s\n",
    "\"\"\" % (sent_from, \", \".join(to), subject, body)\n",
    "\n",
    "try:\n",
    "    server = smtplib.SMTP_SSL('smtp.gmail.com', 465)\n",
    "    server.ehlo()\n",
    "    server.login(gmail_user, gmail_password)\n",
    "    server.sendmail(sent_from, to, email_text)\n",
    "    server.close()\n",
    "\n",
    "    print 'Email sent!'\n",
    "except:\n",
    "    print 'Something went wrong...'"
   ]
  },
  {
   "cell_type": "code",
   "execution_count": 418,
   "metadata": {},
   "outputs": [],
   "source": [
    "def notification():\n",
    "    message = ''\n",
    "    if 'origin.actualDateTime' in intersection:\n",
    "        m = 'Delayed'\n",
    "        print('Delayed')\n",
    "    else:\n",
    "        m = 'OK'\n",
    "        print('OK')\n",
    "    return m"
   ]
  },
  {
   "cell_type": "code",
   "execution_count": 420,
   "metadata": {},
   "outputs": [
    {
     "name": "stdout",
     "output_type": "stream",
     "text": [
      "OK\n"
     ]
    },
    {
     "ename": "NameError",
     "evalue": "name 'm' is not defined",
     "output_type": "error",
     "traceback": [
      "\u001b[1;31m---------------------------------------------------------------------------\u001b[0m",
      "\u001b[1;31mNameError\u001b[0m                                 Traceback (most recent call last)",
      "\u001b[1;32m<ipython-input-420-d4f6394cfe2c>\u001b[0m in \u001b[0;36m<module>\u001b[1;34m\u001b[0m\n\u001b[0;32m      1\u001b[0m \u001b[0mnotification\u001b[0m\u001b[1;33m(\u001b[0m\u001b[1;33m)\u001b[0m\u001b[1;33m\u001b[0m\u001b[1;33m\u001b[0m\u001b[0m\n\u001b[1;32m----> 2\u001b[1;33m \u001b[0mm\u001b[0m\u001b[1;33m\u001b[0m\u001b[1;33m\u001b[0m\u001b[0m\n\u001b[0m",
      "\u001b[1;31mNameError\u001b[0m: name 'm' is not defined"
     ]
    }
   ],
   "source": [
    "notification()\n",
    "m"
   ]
  },
  {
   "cell_type": "code",
   "execution_count": 331,
   "metadata": {},
   "outputs": [],
   "source": [
    "#dateTime (optional)string\n",
    "#Format - date-time (as date-time in RFC3339). Departure date / time for the search. defaults to server time (Europe/Amsterdam)"
   ]
  },
  {
   "cell_type": "code",
   "execution_count": null,
   "metadata": {},
   "outputs": [],
   "source": []
  },
  {
   "cell_type": "code",
   "execution_count": null,
   "metadata": {},
   "outputs": [],
   "source": []
  },
  {
   "cell_type": "code",
   "execution_count": 23,
   "metadata": {
    "collapsed": true,
    "jupyter": {
     "outputs_hidden": true
    }
   },
   "outputs": [
    {
     "name": "stdout",
     "output_type": "stream",
     "text": [
      "b'{\"links\":{},\"payload\":[{\"id\":\"6003223\",\"type\":\"verstoring\",\"titel\":\"Utrecht-Hilversum; Utrecht-Almere\",\"topic\":\"disruption_6003223_nl\",\"verstoring\":{\"type\":\"STORING\",\"id\":\"6003223\",\"geldigheidsLijst\":[],\"verwachting\":\"De treinen rijden weer normaal rond 20:00 uur.\",\"gevolg\":\"De vertraging neemt af.\",\"fase\":\"4\",\"faseLabel\":\"Storing voorbij\",\"alternatiefVervoer\":\"\",\"landelijk\":false,\"oorzaak\":\"Tussen Utrecht Overvecht en Hilversum zijn de beperkingen voorbij.\",\"header\":\"Utrecht-Hilversum; Utrecht-Almere\",\"meldtijd\":\"2019-12-08T18:39:35+0000\",\"baanvakken\":[{\"stations\":[\"uto\",\"hor\",\"hvsp\",\"hvs\"]}],\"trajecten\":[{\"stations\":[\"ut\",\"uto\",\"hor\",\"hvsp\",\"hvs\"],\"begintijd\":\"2019-12-08T15:48:11+0000\",\"eindtijd\":\"2019-12-08T19:09:35+0000\",\"richting\":\"HEEN_EN_TERUG\"},{\"stations\":[\"ut\",\"uto\",\"hor\",\"hvsp\",\"hvs\",\"hvsm\",\"bsmz\",\"ndb\",\"ampo\",\"almm\",\"alm\"],\"begintijd\":\"2019-12-08T15:48:11+0000\",\"eindtijd\":\"2019-12-08T19:09:35+0000\",\"richting\":\"HEEN_EN_TERUG\"}],\"versie\":\"1\",\"volgnummer\":\"6\",\"prioriteit\":10}},{\"id\":\"2019_gd_7_8dec\",\"type\":\"werkzaamheid\",\"titel\":\"van/naar/via Gouda\",\"verstoring\":{\"type\":\"WERKZAAMHEID\",\"id\":\"2019_gd_7_8dec\",\"extraReistijd\":\"een kwartier tot een uur\",\"reisadviezen\":{\"titel\":\"U kunt gebruikmaken van de omreisroute of de bussen\",\"reisadvies\":[{\"titel\":\"Omreisadviezen:\",\"advies\":[\"zaterdag: reis tussen Rotterdam C/ Den Haag C en Woerden/Utrecht C via Leiden C; reis tussen Rotterdam C/ Den Haag C en Amersfoort en verder via Schiphol Airport\",\"zondag: reis tussen Rotterdam C/ Den Haag C en Woerden/Utrecht C via Leiden C; reis tussen Rotterdam C/ Den Haag C en Amersfoort en verder via Leiden C en Utrecht C of via Amsterdam C\",\"zaterdag en zondag: reis van/naar Rotterdam Noord via Rotterdam Alexander; reis van/naar Gouda Goverwelle via Gouda\"]},{\"titel\":\"Treinvervangend vervoer:\",\"advies\":[\"er rijden bussen tussen Rotterdam C/Den Haag C en Woerden en tussen Alphen a/d Rijn en Gouda\"]}]},\"geldigheidsLijst\":[{\"startDatum\":\"2019-12-06T23:59:00+0100\",\"eindDatum\":\"2019-12-09T03:59:00+0100\"},{\"startDatum\":\"2019-12-06T23:59:00+0100\",\"eindDatum\":\"2019-12-09T03:59:00+0100\"},{\"startDatum\":\"2019-12-06T23:59:00+0100\",\"eindDatum\":\"2019-12-09T03:59:00+0100\"},{\"startDatum\":\"2019-12-06T23:59:00+0100\",\"eindDatum\":\"2019-12-09T03:59:00+0100\"}],\"gevolg\":\"Geen treinverkeer omreizen, businzet, extra reistijd 15-45 min.\",\"impact\":4,\"maatschappij\":100,\"landelijk\":true,\"oorzaak\":\"werkzaamheden\",\"header\":\"van/naar/via Gouda\",\"periode\":\"zaterdag 7 december vanaf 00.00 uur tot en met zondag 8 december\",\"trajecten\":[{\"stations\":[\"gvc\",\"vb\",\"ypb\",\"ztm\",\"ztmo\",\"llzm\",\"gd\"],\"begintijd\":\"2019-12-06T23:59:00+0100\",\"eindtijd\":\"2019-12-09T03:59:00+0100\"},{\"stations\":[\"rtd\",\"rtn\",\"rta\",\"cps\",\"nwk\",\"gd\"],\"begintijd\":\"2019-12-06T23:59:00+0100\",\"eindtijd\":\"2019-12-09T03:59:00+0100\"},{\"stations\":[\"wd\",\"gdg\",\"gd\"],\"begintijd\":\"2019-12-06T23:59:00+0100\",\"eindtijd\":\"2019-12-09T03:59:00+0100\"},{\"stations\":[\"apn\",\"bsk\",\"bsks\",\"wadn\",\"wad\",\"wadt\",\"gd\"],\"begintijd\":\"2019-12-06T23:59:00+0100\",\"eindtijd\":\"2019-12-09T03:59:00+0100\"}],\"prioriteit\":20}},{\"id\":\"2019_ddr_rsd_7_8dec\",\"type\":\"werkzaamheid\",\"titel\":\"Dordrecht-Roosendaal\",\"verstoring\":{\"type\":\"WERKZAAMHEID\",\"id\":\"2019_ddr_rsd_7_8dec\",\"extraReistijd\":\"een kwartier tot een half uur\",\"reisadviezen\":{\"titel\":\"U kunt gebruikmaken van de omreisroute, de aangepaste dienstregeling of de bussen\",\"reisadvies\":[{\"titel\":\"\",\"advies\":[\"nacht vrijdag op zaterdag: er rijden bussen van Dordrecht naar Roosendaal\",\"zaterdag en zondag: reis tussen Rotterdam Centraal/Dordrecht en Roosendaal via Breda; de dienstregeling is aangepast tussen Dordrecht en Lage Zwaluwe en er rijden bussen tussen Lage Zwaluwe en Roosendaal\"]}]},\"geldigheidsLijst\":[{\"startDatum\":\"2019-12-07T01:00:00+0100\",\"eindDatum\":\"2019-12-09T03:59:00+0100\"}],\"gevolg\":\"Beperkt treinverkeer businzet en/of omreizen, extra reistijd 15-30 min.\",\"impact\":4,\"maatschappij\":100,\"landelijk\":true,\"oorzaak\":\"werkzaamheden\",\"header\":\"Dordrecht-Roosendaal\",\"periode\":\"zaterdag 7 december vanaf 01.00 uur tot en met zondag 8 december \",\"trajecten\":[{\"stations\":[\"ddr\",\"ddzd\",\"zlw\",\"zvb\",\"odb\",\"rsd\"],\"begintijd\":\"2019-12-07T01:00:00+0100\",\"eindtijd\":\"2019-12-09T03:59:00+0100\"}],\"prioriteit\":20}},{\"id\":\"2019_o_nm_ah_7_8dec\",\"type\":\"werkzaamheid\",\"titel\":\"Oss-Nijmegen-Arnhem Centraal\",\"verstoring\":{\"type\":\"WERKZAAMHEID\",\"id\":\"2019_o_nm_ah_7_8dec\",\"extraReistijd\":\"een kwartier tot een half uur\",\"reisadviezen\":{\"titel\":\"U kunt gebruikmaken van de omreisroute, de aangepaste dienstregeling of de bussen\",\"reisadvies\":[{\"titel\":\"\",\"advies\":[\"reis tussen \\\\u0027s-Hertogenbosch en Arnhem Centraal via Utrecht Centraal\",\"er rijden bussen tussen Oss en Nijmegen; in de vroege ochtend en late avond blijven enkele treinen rijden\",\"de dienstregeling is aangepast tussen Nijmegen en Arnhem Centraal\"]}]},\"geldigheidsLijst\":[{\"startDatum\":\"2019-12-07T04:00:00+0100\",\"eindDatum\":\"2019-12-09T03:59:00+0100\"},{\"startDatum\":\"2019-12-07T04:00:00+0100\",\"eindDatum\":\"2019-12-09T03:59:00+0100\"}],\"gevolg\":\"Beperkt treinverkeer omreizen en/of businzet, extra reistijd 15-30 min.\",\"impact\":4,\"maatschappij\":100,\"landelijk\":true,\"oorzaak\":\"werkzaamheden\",\"header\":\"Oss-Nijmegen-Arnhem Centraal\",\"periode\":\"zaterdag 7 en zondag 8 december\",\"trajecten\":[{\"stations\":[\"ah\",\"ahz\",\"est\",\"nml\",\"nm\"],\"begintijd\":\"2019-12-07T04:00:00+0100\",\"eindtijd\":\"2019-12-09T03:59:00+0100\"},{\"stations\":[\"nm\",\"nmgo\",\"nmd\",\"wc\",\"rvs\",\"o\"],\"begintijd\":\"2019-12-07T04:00:00+0100\",\"eindtijd\":\"2019-12-09T03:59:00+0100\"}],\"prioriteit\":20}},{\"id\":\"2019_shl_alm_amfs_8dec\",\"type\":\"werkzaamheid\",\"titel\":\"Schiphol Airport-Almere Centrum/Amersfoort Schothorst\",\"verstoring\":{\"type\":\"WERKZAAMHEID\",\"id\":\"2019_shl_alm_amfs_8dec\",\"extraReistijd\":\"een kwartier tot een half uur\",\"reisadviezen\":{\"titel\":\"U kunt gebruikmaken van de aangepaste dienstregeling of de omreisroute\",\"reisadvies\":[{\"titel\":\"\",\"advies\":[\"reis tussen Schiphol Airport en Amersfoort via Utrecht Centraal\",\"er rijden tussen 05.30 en 08.30 uur bussen van Amsterdam Zuid naar Schiphol Airport en er rijden bussen van 00.15 tot 01.15 uur tussen Schiphol Airport en Amsterdam Zuid\",\"de dienstregeling is aangepast tussen Schiphol Airport en Almere Centrum en tussen Schiphol Airport en Amersfoort Schothorst\"]}]},\"geldigheidsLijst\":[{\"startDatum\":\"2019-12-08T02:00:00+0100\",\"eindDatum\":\"2019-12-09T00:59:00+0100\"},{\"startDatum\":\"2019-12-08T02:00:00+0100\",\"eindDatum\":\"2019-12-09T00:59:00+0100\"},{\"startDatum\":\"2019-12-08T02:00:00+0100\",\"eindDatum\":\"2019-12-09T00:59:00+0100\"}],\"gevolg\":\"Beperkt treinverkeer businzet, extra reistijd 15-30 min.\",\"impact\":2,\"maatschappij\":100,\"landelijk\":true,\"oorzaak\":\"werkzaamheden elders\",\"header\":\"Schiphol Airport-Almere Centrum/Amersfoort Schothorst\",\"periode\":\"zondag 8 december\",\"trajecten\":[{\"stations\":[\"shl\",\"asdz\",\"rai\",\"dvd\",\"dmnz\",\"wp\",\"ndb\",\"bsmz\",\"hvsm\",\"hvs\",\"brn\",\"amf\"],\"begintijd\":\"2019-12-08T02:00:00+0100\",\"eindtijd\":\"2019-12-09T00:59:00+0100\"},{\"stations\":[\"amfs\",\"amf\"],\"begintijd\":\"2019-12-08T02:00:00+0100\",\"eindtijd\":\"2019-12-09T00:59:00+0100\"},{\"stations\":[\"alm\",\"almm\",\"ampo\",\"wp\"],\"begintijd\":\"2019-12-08T02:00:00+0100\",\"eindtijd\":\"2019-12-09T00:59:00+0100\"}],\"prioriteit\":20}},{\"id\":\"2019_zl_kpn_8dec\",\"type\":\"werkzaamheid\",\"titel\":\"Zwolle-Kampen\",\"verstoring\":{\"type\":\"WERKZAAMHEID\",\"id\":\"2019_zl_kpn_8dec\",\"extraReistijd\":\"een kwartier\",\"reisadviezen\":{\"titel\":\"U kunt gebruikmaken van de bussen\",\"reisadvies\":[{\"titel\":\"\",\"advies\":[\"er rijden bussen tussen Zwolle en Kampen\"]}]},\"geldigheidsLijst\":[{\"startDatum\":\"2019-12-08T04:00:00+0100\",\"eindDatum\":\"2019-12-09T03:59:00+0100\"}],\"gevolg\":\"Geen treinverkeer businzet, extra reistijd 15 min.\",\"impact\":4,\"maatschappij\":55,\"landelijk\":true,\"oorzaak\":\"werkzaamheden\",\"header\":\"Zwolle-Kampen\",\"periode\":\"zondag 8 december\",\"trajecten\":[{\"stations\":[\"zl\",\"zlsh\",\"kpn\"],\"begintijd\":\"2019-12-08T04:00:00+0100\",\"eindtijd\":\"2019-12-09T03:59:00+0100\"}],\"prioriteit\":20}},{\"id\":\"2019_asd_shl_ledn_gvc_8dec\",\"type\":\"werkzaamheid\",\"titel\":\"Amsterdam C- Schiphol Airport- Leiden C-Den Haag C\",\"verstoring\":{\"type\":\"WERKZAAMHEID\",\"id\":\"2019_asd_shl_ledn_gvc_8dec\",\"extraReistijd\":\"een kwartier tot een half uur\",\"reisadviezen\":{\"titel\":\"U kunt gebruikmaken van de aangepaste dienstregeling of de omreisroute\",\"reisadvies\":[{\"titel\":\"\",\"advies\":[\"reis tussen Amsterdam Centraal/Sloterdijk en Leiden Centraal via Haarlem\",\"de dienstregeling is aangepast tussen Amsterdam Centraal en Schiphol Airport, tussen Schiphol Airport enLeiden Centraal en tussen Leiden Centraal en Den Haag Centraal\"]}]},\"geldigheidsLijst\":[{\"startDatum\":\"2019-12-08T04:00:00+0100\",\"eindDatum\":\"2019-12-09T03:59:00+0100\"},{\"startDatum\":\"2019-12-08T04:00:00+0100\",\"eindDatum\":\"2019-12-09T03:59:00+0100\"},{\"startDatum\":\"2019-12-08T04:00:00+0100\",\"eindDatum\":\"2019-12-09T03:59:00+0100\"}],\"gevolg\":\"Aangepaste dienstregeling extra reistijd 15-30 min.\",\"impact\":2,\"maatschappij\":100,\"landelijk\":true,\"oorzaak\":\"ingelaste werkzaamheden\",\"header\":\"Amsterdam C- Schiphol Airport- Leiden C-Den Haag C\",\"periode\":\"zondag 8 december\",\"trajecten\":[{\"stations\":[\"shl\",\"hfd\",\"nvp\",\"ssh\",\"ledn\"],\"begintijd\":\"2019-12-08T04:00:00+0100\",\"eindtijd\":\"2019-12-09T03:59:00+0100\"},{\"stations\":[\"asd\",\"ass\",\"asdl\",\"shl\"],\"begintijd\":\"2019-12-08T04:00:00+0100\",\"eindtijd\":\"2019-12-09T03:59:00+0100\"},{\"stations\":[\"ledn\",\"dvnk\",\"vst\",\"gvm\",\"laa\",\"gvc\"],\"begintijd\":\"2019-12-08T04:00:00+0100\",\"eindtijd\":\"2019-12-09T03:59:00+0100\"}],\"prioriteit\":20}},{\"id\":\"2019_asd_rtd_8dec\",\"type\":\"werkzaamheid\",\"titel\":\"Amsterdam Centraal-Rotterdam Centraal Intercity direct\",\"verstoring\":{\"type\":\"WERKZAAMHEID\",\"id\":\"2019_asd_rtd_8dec\",\"extraReistijd\":\"een kwartier\",\"reisadviezen\":{\"titel\":\"U kunt gebruikmaken van de aangepaste dienstregeling\",\"reisadvies\":[{\"titel\":\"\",\"advies\":[\"de dienstregeling is aangepast tussen Amsterdam Centraal, Schiphol Airport en Rotterdam Centraal via de HSL\"]}]},\"geldigheidsLijst\":[{\"startDatum\":\"2019-12-08T04:00:00+0100\",\"eindDatum\":\"2019-12-09T03:59:00+0100\"},{\"startDatum\":\"2019-12-08T04:00:00+0100\",\"eindDatum\":\"2019-12-09T03:59:00+0100\"}],\"gevolg\":\"Aangepaste dienstregeling Intercity direct extra reistijd 15 min.\",\"impact\":2,\"maatschappij\":100,\"landelijk\":true,\"oorzaak\":\"werkzaamheden\",\"header\":\"Amsterdam Centraal-Rotterdam Centraal Intercity direct\",\"periode\":\"zondag 8 december\",\"trajecten\":[{\"stations\":[\"asd\",\"shl\"],\"begintijd\":\"2019-12-08T04:00:00+0100\",\"eindtijd\":\"2019-12-09T03:59:00+0100\"},{\"stations\":[\"hfd\",\"rtd\"],\"begintijd\":\"2019-12-08T04:00:00+0100\",\"eindtijd\":\"2019-12-09T03:59:00+0100\"}],\"prioriteit\":20}},{\"id\":\"2019_almo_hfd_9dec\",\"type\":\"werkzaamheid\",\"titel\":\"Almere Oostvaarders-Hoofddorp\",\"verstoring\":{\"type\":\"WERKZAAMHEID\",\"id\":\"2019_almo_hfd_9dec\",\"extraReistijd\":\"een kwartier tot een uur\",\"reisadviezen\":{\"titel\":\"U kunt gebruikmaken van de bussen en/of de aangepaste dienstregeling\",\"reisadvies\":[{\"titel\":\"\",\"advies\":[\"de dienstregeling is aangepast tussen Almere Oostvaarders en Weesp\",\"er rijden bussen van Weesp naar Hoofddorp\"]}]},\"geldigheidsLijst\":[{\"startDatum\":\"2019-12-09T00:05:00+0100\",\"eindDatum\":\"2019-12-09T03:59:00+0100\"},{\"startDatum\":\"2019-12-09T01:00:00+0100\",\"eindDatum\":\"2019-12-09T03:59:00+0100\"}],\"gevolg\":\"Beperkt treinverkeer businzet, extra reistijd 15-60 min.\",\"impact\":1,\"maatschappij\":100,\"landelijk\":true,\"oorzaak\":\"werkzaamheden\",\"header\":\"Almere Oostvaarders-Hoofddorp\",\"periode\":\"maandag 9 december vanaf 00.05 uur\",\"trajecten\":[{\"stations\":[\"almo\",\"almb\",\"almp\",\"alm\",\"almm\",\"ampo\",\"wp\"],\"begintijd\":\"2019-12-09T00:05:00+0100\",\"eindtijd\":\"2019-12-09T03:59:00+0100\"},{\"stations\":[\"wp\",\"dmnz\",\"dvd\",\"rai\",\"asdz\",\"shl\",\"hfd\"],\"begintijd\":\"2019-12-09T01:00:00+0100\",\"eindtijd\":\"2019-12-09T03:59:00+0100\"}],\"prioriteit\":20}},{\"id\":\"2019_apn_gd_9dec\",\"type\":\"werkzaamheid\",\"titel\":\"Alphen a/d Rijn-Gouda\",\"verstoring\":{\"type\":\"WERKZAAMHEID\",\"id\":\"2019_apn_gd_9dec\",\"extraReistijd\":\"een half uur tot een uur\",\"reisadviezen\":{\"titel\":\"U kunt gebruikmaken van de aangepaste dienstregeling\",\"reisadvies\":[{\"titel\":\"\",\"advies\":[\"de dienstregeling is aangepast tussen Alphen a/d Rijn en Gouda\"]}]},\"geldigheidsLijst\":[{\"startDatum\":\"2019-12-09T04:00:00+0100\",\"eindDatum\":\"2019-12-09T06:45:00+0100\"}],\"gevolg\":\"Aangepaste dienstregeling extra reistijd 30-60 min.\",\"impact\":1,\"maatschappij\":100,\"landelijk\":true,\"oorzaak\":\"werkzaamheden\",\"header\":\"Alphen a/d Rijn-Gouda\",\"periode\":\"maandag 9 december tot 06.45 uur\",\"trajecten\":[{\"stations\":[\"apn\",\"bsk\",\"bsks\",\"wadn\",\"wad\",\"wadt\",\"gd\"],\"begintijd\":\"2019-12-09T04:00:00+0100\",\"eindtijd\":\"2019-12-09T06:45:00+0100\"}],\"prioriteit\":20}},{\"id\":\"2019_ddr-gdm_10dec\",\"type\":\"werkzaamheid\",\"titel\":\"Dordrecht-Geldermalsen\",\"verstoring\":{\"type\":\"WERKZAAMHEID\",\"id\":\"2019_ddr-gdm_10dec\",\"extraReistijd\":\"een half uur tot een uur\",\"reisadviezen\":{\"titel\":\"U kunt gebruikmaken van de bussen en/of de aangepaste dienstregeling\",\"reisadvies\":[{\"titel\":\"\",\"advies\":[\"de dienstregeling is aangepast tussen Dordrecht en Geldermalsen; er rijden bussen tussen Dordrecht, Gorinchem en Geldermalsen\",\"reis van/naar Dordrecht Stadspolders via Dordrecht met stadsbus 3 of 5\"]}]},\"geldigheidsLijst\":[{\"startDatum\":\"2019-12-10T22:50:00+0100\",\"eindDatum\":\"2019-12-11T05:50:00+0100\"}],\"gevolg\":\"Beperkt treinverkeer businzet, extra reistijd 30-60 min.\",\"impact\":1,\"maatschappij\":37,\"landelijk\":true,\"oorzaak\":\"geplande werkzaamheden\",\"header\":\"Dordrecht-Geldermalsen\",\"periode\":\"dinsdag 10 december van 22.50 uur tot woensdag 11 december 05.50 uur\",\"trajecten\":[{\"stations\":[\"gdm\",\"bsd\",\"ldm\",\"akl\",\"gr\",\"bhdv\",\"gnd\",\"hbzm\",\"sdt\",\"sdtb\",\"ddrs\",\"ddr\"],\"begintijd\":\"2019-12-10T22:50:00+0100\",\"eindtijd\":\"2019-12-11T05:50:00+0100\"}],\"prioriteit\":20}},{\"id\":\"2019_shl_ledn_11dec\",\"type\":\"werkzaamheid\",\"titel\":\"Schiphol Airport-Leiden Centraal\",\"verstoring\":{\"type\":\"WERKZAAMHEID\",\"id\":\"2019_shl_ledn_11dec\",\"extraReistijd\":\"een kwartier tot een half uur\",\"reisadviezen\":{\"titel\":\"U kunt gebruikmaken van de bussen\",\"reisadvies\":[{\"titel\":\"\",\"advies\":[\"er rijden bussen tussen Schiphol Airport en Leiden Centraal\"]}]},\"geldigheidsLijst\":[{\"startDatum\":\"2019-12-11T01:30:00+0100\",\"eindDatum\":\"2019-12-11T05:00:00+0100\"}],\"gevolg\":\"Geen Nachtnettreinen businzet, extra reistijd 15-30 min.\",\"impact\":3,\"maatschappij\":100,\"landelijk\":true,\"oorzaak\":\"werkzaamheden\",\"header\":\"Schiphol Airport-Leiden Centraal\",\"periode\":\"woensdag 11 december van 01.30 tot 05.00 uur\",\"trajecten\":[{\"stations\":[\"shl\",\"hfd\",\"nvp\",\"ssh\",\"ledn\"],\"begintijd\":\"2019-12-11T01:30:00+0100\",\"eindtijd\":\"2019-12-11T05:00:00+0100\"}],\"prioriteit\":20}},{\"id\":\"2019_shl_amfs_14dec\",\"type\":\"werkzaamheid\",\"titel\":\"Schiphol Airport-Amersfoort Schothorst\",\"verstoring\":{\"type\":\"WERKZAAMHEID\",\"id\":\"2019_shl_amfs_14dec\",\"extraReistijd\":\"een kwartier tot een half uur\",\"reisadviezen\":{\"titel\":\"U kunt gebruikmaken van de aangepaste dienstregeling\",\"reisadvies\":[{\"titel\":\"\",\"advies\":[\"de dienstregeling is aangepast tussen Schiphol Airport en Amersfoort Schothorst\"]}]},\"geldigheidsLijst\":[{\"startDatum\":\"2019-12-14T04:00:00+0100\",\"eindDatum\":\"2019-12-16T03:59:00+0100\"},{\"startDatum\":\"2019-12-14T04:00:00+0100\",\"eindDatum\":\"2019-12-16T03:59:00+0100\"}],\"gevolg\":\"Aangepaste dienstregeling extra reistijd 15-30 min.\",\"impact\":2,\"maatschappij\":100,\"landelijk\":true,\"oorzaak\":\"werkzaamheden\",\"header\":\"Schiphol Airport-Amersfoort Schothorst\",\"periode\":\"zaterdag 14 en zondag 15 december\",\"trajecten\":[{\"stations\":[\"shl\",\"asdz\",\"rai\",\"dvd\",\"dmnz\",\"wp\",\"ndb\",\"bsmz\",\"hvsm\",\"hvs\",\"brn\",\"amf\"],\"begintijd\":\"2019-12-14T04:00:00+0100\",\"eindtijd\":\"2019-12-16T03:59:00+0100\"},{\"stations\":[\"amfs\",\"amf\"],\"begintijd\":\"2019-12-14T04:00:00+0100\",\"eindtijd\":\"2019-12-16T03:59:00+0100\"}],\"prioriteit\":20}},{\"id\":\"2019_dz_gn_14_15dec\",\"type\":\"werkzaamheid\",\"titel\":\"Delfzijl-Groningen\",\"verstoring\":{\"type\":\"WERKZAAMHEID\",\"id\":\"2019_dz_gn_14_15dec\",\"extraReistijd\":\"een kwartier tot een half uur\",\"reisadviezen\":{\"titel\":\"U kunt gebruikmaken van de bussen en/of de aangepaste dienstregeling\",\"reisadvies\":[{\"titel\":\"\",\"advies\":[\"er rijden bussen tussen Delfzijl en Stedum\",\"de dienstregeling is aangepast tussen Stedum en Groningen\"]}]},\"geldigheidsLijst\":[{\"startDatum\":\"2019-12-14T04:00:00+0100\",\"eindDatum\":\"2019-12-16T03:59:00+0100\"}],\"gevolg\":\"Beperkt treinverkeer businzet, extra reistijd 15-30 min.\",\"impact\":4,\"maatschappij\":500,\"landelijk\":true,\"oorzaak\":\"werkzaamheden\",\"header\":\"Delfzijl-Groningen\",\"periode\":\"zaterdag 14 en zondag 15 december\",\"trajecten\":[{\"stations\":[\"dz\",\"dzw\",\"apg\",\"lp\",\"stm\",\"bdm\",\"swd\",\"gnn\",\"gn\"],\"begintijd\":\"2019-12-14T04:00:00+0100\",\"eindtijd\":\"2019-12-16T03:59:00+0100\"}],\"prioriteit\":20}},{\"id\":\"2019_ICBRU_gv_brusz_14_15dec\",\"type\":\"werkzaamheid\",\"titel\":\"Den Haag HS-Antwerpen -Brussel-Zuid/Midi\",\"verstoring\":{\"type\":\"WERKZAAMHEID\",\"id\":\"2019_ICBRU_gv_brusz_14_15dec\",\"extraReistijd\":\"geen extra reistijd\",\"reisadviezen\":{\"titel\":\"U kunt gebruikmaken van de binnenlandse treinen\",\"reisadvies\":[{\"titel\":\"\",\"advies\":[\"zaterdag: IC Brussel rijdt niet tussen Den Haag HS en Rotterdam Centraal; ga van Den Haag HS eerder op reis naar Rotterdam Centraal en stap daar over op IC Brussel\",\"zondag: IC Brussel 9692 stopt niet in Den Haag HS; ga van Den Haag HS eerder op reis naar Rotterdam Centraal en stap daar over op IC Brussel\"]}]},\"geldigheidsLijst\":[{\"startDatum\":\"2019-12-14T04:00:00+0100\",\"eindDatum\":\"2019-12-14T22:00:00+0100\"},{\"startDatum\":\"2019-12-15T04:00:00+0100\",\"eindDatum\":\"2019-12-15T08:00:00+0100\"}],\"gevolg\":\"Aangepaste dienstregeling IC Brussel geen extra reistijd.\",\"impact\":0,\"maatschappij\":200,\"landelijk\":true,\"oorzaak\":\"werkzaamheden\",\"header\":\"Den Haag HS-Antwerpen -Brussel-Zuid/Midi\",\"periode\":\"zaterdag 14 december tot zondag 15 december 07.00 uur\",\"trajecten\":[{\"stations\":[\"bd\",\"ndkp\",\"atw\",\"berch\",\"brusz\"],\"begintijd\":\"2019-12-14T04:00:00+0100\",\"eindtijd\":\"2019-12-14T22:00:00+0100\"},{\"stations\":[\"bd\",\"ndkp\",\"atw\",\"berch\",\"brusz\"],\"begintijd\":\"2019-12-15T04:00:00+0100\",\"eindtijd\":\"2019-12-15T08:00:00+0100\"}],\"prioriteit\":20}},{\"id\":\"2019_EURO_asd_london_14dec\",\"type\":\"werkzaamheid\",\"titel\":\"Amsterdam C-Brussel-Zuid/Midi-London St. Pancras Int.\",\"verstoring\":{\"type\":\"WERKZAAMHEID\",\"id\":\"2019_EURO_asd_london_14dec\",\"extraReistijd\":\"geen extra reistijd\",\"reisadviezen\":{\"titel\":\"Ga eerder op reis\",\"reisadvies\":[{\"titel\":\"\",\"advies\":[\"Eurostar stopt niet in Rotterdam Centraal; ga eerder op reis naar Brussel Zuid en stap daar over op Eurostar London St Pancras\",\"plan uw reis met behulp van de Internationale reisplanner\"]}]},\"geldigheidsLijst\":[{\"startDatum\":\"2019-12-14T04:00:00+0100\",\"eindDatum\":\"2019-12-15T03:59:00+0100\"}],\"gevolg\":\"Aangepaste dienstregeling geen extra reistijd.\",\"impact\":1,\"maatschappij\":200,\"landelijk\":true,\"oorzaak\":\"werkzaamheden\",\"header\":\"Amsterdam C-Brussel-Zuid/Midi-London St. Pancras Int.\",\"periode\":\"zaterdag 14 december\",\"trajecten\":[{\"stations\":[\"rlb\",\"ndkp\",\"atw\",\"berch\",\"brusz\",\"stp\"],\"begintijd\":\"2019-12-14T04:00:00+0100\",\"eindtijd\":\"2019-12-15T03:59:00+0100\"}],\"prioriteit\":20}},{\"id\":\"2019_shl_asdz_lls_21_22dec\",\"type\":\"werkzaamheid\",\"titel\":\"Schiphol Airport-Amsterdam Zuid/Lelystad Centrum\",\"verstoring\":{\"type\":\"WERKZAAMHEID\",\"id\":\"2019_shl_asdz_lls_21_22dec\",\"extraReistijd\":\"een kwartier tot een half uur\",\"reisadviezen\":{\"titel\":\"U kunt gebruikmaken van de aangepaste dienstregeling\",\"reisadvies\":[{\"titel\":\"\",\"advies\":[\"de dienstregeling is aangepast tussen Schiphol Airport en Amsterdam Zuid/Lelystad Centrum\"]}]},\"geldigheidsLijst\":[{\"startDatum\":\"2019-12-21T04:00:00+0100\",\"eindDatum\":\"2019-12-23T03:59:00+0100\"},{\"startDatum\":\"2019-12-21T04:00:00+0100\",\"eindDatum\":\"2019-12-22T03:59:00+0100\"},{\"startDatum\":\"2019-12-21T04:00:00+0100\",\"eindDatum\":\"2019-12-22T03:59:00+0100\"}],\"gevolg\":\"Aangepaste dienstregeling extra reistijd 15-30 min.\",\"impact\":2,\"maatschappij\":100,\"landelijk\":true,\"oorzaak\":\"werkzaamheden\",\"header\":\"Schiphol Airport-Amsterdam Zuid/Lelystad Centrum\",\"periode\":\"zaterdag 21 en zondag 22 december\",\"trajecten\":[{\"stations\":[\"shl\",\"asdz\",\"rai\",\"dvd\"],\"begintijd\":\"2019-12-21T04:00:00+0100\",\"eindtijd\":\"2019-12-23T03:59:00+0100\"},{\"stations\":[\"lls\",\"almo\",\"almb\",\"almp\",\"alm\",\"almm\",\"ampo\",\"wp\"],\"begintijd\":\"2019-12-21T04:00:00+0100\",\"eindtijd\":\"2019-12-22T03:59:00+0100\"},{\"stations\":[\"wp\",\"dmnz\",\"dvd\"],\"begintijd\":\"2019-12-21T04:00:00+0100\",\"eindtijd\":\"2019-12-22T03:59:00+0100\"}],\"prioriteit\":20}},{\"id\":\"2019_bd_tb_ht_21dec\",\"type\":\"werkzaamheid\",\"titel\":\"Breda-Tilburg- \\\\u0027s-Hertogenbosch\",\"verstoring\":{\"type\":\"WERKZAAMHEID\",\"id\":\"2019_bd_tb_ht_21dec\",\"extraReistijd\":\"een kwartier tot een half uur\",\"reisadviezen\":{\"titel\":\"U kunt gebruikmaken van de omreisroute, de aangepaste dienstregeling of de bussen\",\"reisadvies\":[{\"titel\":\"\",\"advies\":[\"reis tussen Breda en Utrecht Centraal via Rotterdam Centraal; reis tussen Den Haag Centraal en Eindhoven via Utrecht Centraal\",\"er rijden bussen tussen Breda en Gilze-Rijen; vanaf 23.30 uur rijden er bussen tussen Breda, Tilburg en \\\\u0027s-Hertogenbosch\",\"de dienstregeling is aangepast tussen Gilze-Rijen, Tilburg en \\\\u0027s-Hertogenbosch\",\"Nachtnet: er rijden bussen tussen Breda en Tilburg en tussen Tilburg en \\\\u0027s-Hertogenbosch\"]}]},\"geldigheidsLijst\":[{\"startDatum\":\"2019-12-21T04:00:00+0100\",\"eindDatum\":\"2019-12-22T03:59:00+0100\"},{\"startDatum\":\"2019-12-21T04:00:00+0100\",\"eindDatum\":\"2019-12-22T03:59:00+0100\"}],\"gevolg\":\"Beperkt treinverkeer businzet, extra reistijd 15-30 min.\",\"impact\":4,\"maatschappij\":100,\"landelijk\":true,\"oorzaak\":\"werkzaamheden\",\"header\":\"Breda-Tilburg- \\\\u0027s-Hertogenbosch\",\"periode\":\"zaterdag 21 december \",\"trajecten\":[{\"stations\":[\"bd\",\"gz\",\"tbr\",\"tbu\",\"tb\"],\"begintijd\":\"2019-12-21T04:00:00+0100\",\"eindtijd\":\"2019-12-22T03:59:00+0100\"},{\"stations\":[\"ht\",\"tb\"],\"begintijd\":\"2019-12-21T04:00:00+0100\",\"eindtijd\":\"2019-12-22T03:59:00+0100\"}],\"prioriteit\":20}},{\"id\":\"2019_ut_ah_21dec\",\"type\":\"werkzaamheid\",\"titel\":\"Utrecht Centraal-Arnhem Centraal\",\"verstoring\":{\"type\":\"WERKZAAMHEID\",\"id\":\"2019_ut_ah_21dec\",\"extraReistijd\":\"een kwartier tot een half uur\",\"reisadviezen\":{\"titel\":\"U kunt gebruikmaken van de bussen\",\"reisadvies\":[{\"titel\":\"\",\"advies\":[\"er rijden bussen tussen Utrecht Centraal en Arnhem Centraal\"]}]},\"geldigheidsLijst\":[{\"startDatum\":\"2019-12-21T23:25:00+0100\",\"eindDatum\":\"2019-12-22T03:59:00+0100\"}],\"gevolg\":\"Geen treinverkeer businzet, extra reistijd 15-30 min.\",\"impact\":1,\"maatschappij\":100,\"landelijk\":true,\"oorzaak\":\"werkzaamheden\",\"header\":\"Utrecht Centraal-Arnhem Centraal\",\"periode\":\"zaterdag 21 december vanaf 23.25 uur\",\"trajecten\":[{\"stations\":[\"ut\",\"utvr\",\"bnk\",\"db\",\"mrn\",\"klp\",\"ed\",\"wf\",\"otb\",\"ah\"],\"begintijd\":\"2019-12-21T23:25:00+0100\",\"eindtijd\":\"2019-12-22T03:59:00+0100\"}],\"prioriteit\":20}},{\"id\":\"2019_amf_ed_21dec\",\"type\":\"werkzaamheid\",\"titel\":\"Amersfoort - Ede-Wageningen\",\"verstoring\":{\"type\":\"WERKZAAMHEID\",\"id\":\"2019_amf_ed_21dec\",\"extraReistijd\":\"een kwartier tot een half uur\",\"reisadviezen\":{\"titel\":\"U kunt gebruikmaken van de bussen\",\"reisadvies\":[{\"titel\":\"\",\"advies\":[\"er rijden bussen tussen Barneveld Zuid en Ede-Wageningen\",\"vanaf 01.30 uur rijden er bussen van Ede-Wageningen naar Amersfoort\"]}]},\"geldigheidsLijst\":[{\"startDatum\":\"2019-12-21T23:30:00+0100\",\"eindDatum\":\"2019-12-22T03:59:00+0100\"}],\"gevolg\":\"Beperkt treinverkeer businzet, extra reistijd 15-30 min.\",\"impact\":1,\"maatschappij\":54,\"landelijk\":true,\"oorzaak\":\"werkzaamheden\",\"header\":\"Amersfoort - Ede-Wageningen\",\"periode\":\"zaterdag 21 december vanaf 23.30 uur\",\"trajecten\":[{\"stations\":[\"amf\",\"hvl\",\"bnn\",\"bnc\",\"bnz\",\"ltn\",\"edc\",\"ed\"],\"begintijd\":\"2019-12-21T23:30:00+0100\",\"eindtijd\":\"2019-12-22T03:59:00+0100\"}],\"prioriteit\":20}},{\"id\":\"2020_THALYS_asd_paris_4_5jan\",\"type\":\"werkzaamheid\",\"titel\":\"Amsterdam C-Brussel-Zuid/Midi-Paris-Nord\",\"verstoring\":{\"type\":\"WERKZAAMHEID\",\"id\":\"2020_THALYS_asd_paris_4_5jan\",\"extraReistijd\":\"een kwartier\",\"reisadviezen\":{\"titel\":\"U kunt gebruikmaken van de overige treinen\",\"reisadvies\":[{\"titel\":\"\",\"advies\":[\"Thalys rijdt tot/vertrekt vanaf Schiphol Airport\"]}]},\"geldigheidsLijst\":[{\"startDatum\":\"2020-01-04T23:15:00+0100\",\"eindDatum\":\"2020-01-05T06:30:00+0100\"}],\"gevolg\":\"Aangepaste dienstregeling Thalys extra reistijd 15 min.\",\"impact\":0,\"maatschappij\":200,\"landelijk\":true,\"oorzaak\":\"werkzaamheden\",\"header\":\"Amsterdam C-Brussel-Zuid/Midi-Paris-Nord\",\"periode\":\"zaterdag 4 januari 23.15 uur tot zondag 5 januari 06.30 uur\",\"trajecten\":[{\"stations\":[\"rlb\",\"ndkp\",\"atw\",\"berch\",\"brusz\",\"paris\"],\"begintijd\":\"2020-01-04T23:15:00+0100\",\"eindtijd\":\"2020-01-05T06:30:00+0100\"}],\"prioriteit\":20}},{\"id\":\"2020_ICBER_asd_berlin_10jan\",\"type\":\"werkzaamheid\",\"titel\":\"Amsterdam C-Hannover Hbf- Berlin Ostbahnhof\",\"verstoring\":{\"type\":\"WERKZAAMHEID\",\"id\":\"2020_ICBER_asd_berlin_10jan\",\"extraReistijd\":\"een half uur\",\"reisadviezen\":{\"titel\":\"Ga eerder op reis\",\"reisadvies\":[{\"titel\":\"\",\"advies\":[\"IC Berlijn kan in veel gevallen niet rijden tussen Amsterdam Centraal en Amersfoort\",\"reis tussen Amsterdam Centraal en Amersfoort met binnenlandse treinen\"]}]},\"geldigheidsLijst\":[{\"startDatum\":\"2020-01-10T15:50:00+0100\",\"eindDatum\":\"2020-01-11T03:59:00+0100\"},{\"startDatum\":\"2020-01-11T04:00:00+0100\",\"eindDatum\":\"2020-01-13T03:59:00+0100\"},{\"startDatum\":\"2020-01-13T04:00:00+0100\",\"eindDatum\":\"2020-01-13T14:00:00+0100\"}],\"gevolg\":\"Aangepaste dienstregeling IC Berlijn extra reis tijd 30 min.\",\"impact\":0,\"maatschappij\":200,\"landelijk\":true,\"oorzaak\":\"werkzaamheden\",\"header\":\"Amsterdam C-Hannover Hbf- Berlin Ostbahnhof\",\"periode\":\"vrijdag 10 januari van 16.00 uur tot maandag 13 januari 14.00 uur\",\"trajecten\":[{\"stations\":[\"odz\",\"bh\",\"rheine\",\"osnh\"],\"begintijd\":\"2020-01-10T15:50:00+0100\",\"eindtijd\":\"2020-01-11T03:59:00+0100\"},{\"stations\":[\"odz\",\"bh\",\"rheine\",\"osnh\"],\"begintijd\":\"2020-01-11T04:00:00+0100\",\"eindtijd\":\"2020-01-13T03:59:00+0100\"},{\"stations\":[\"odz\",\"bh\",\"rheine\",\"osnh\"],\"begintijd\":\"2020-01-13T04:00:00+0100\",\"eindtijd\":\"2020-01-13T14:00:00+0100\"}],\"prioriteit\":20}},{\"id\":\"2020_ICE_asd_basel_11_12jan\",\"type\":\"werkzaamheid\",\"titel\":\"Amsterdam C-K\\xc3\\xb6ln Hbf-Frankfurt (M) Hbf/Basel SBB\",\"verstoring\":{\"type\":\"WERKZAAMHEID\",\"id\":\"2020_ICE_asd_basel_11_12jan\",\"extraReistijd\":\"een half uur\",\"reisadviezen\":{\"titel\":\"Ga eerder op reis\",\"reisadvies\":[{\"titel\":\"\",\"advies\":[\"ICE International Frankfurt (M) Hbf/Basel SBB rijdt tussen Amsterdam Centraal en Utrecht Centraal via een andere route en vertrekt ongeveer een half uur eerder dan gebruikelijk uit Amsterdam Centraal\"]}]},\"geldigheidsLijst\":[{\"startDatum\":\"2020-01-11T04:00:00+0100\",\"eindDatum\":\"2020-01-13T03:59:00+0100\"}],\"gevolg\":\"Aangepaste dienstregeling ICE International extra reistijd 30 min.\",\"impact\":0,\"maatschappij\":200,\"landelijk\":true,\"oorzaak\":\"werkzaamheden\",\"header\":\"Amsterdam C-K\\xc3\\xb6ln Hbf-Frankfurt (M) Hbf/Basel SBB\",\"periode\":\"zaterdag 11 en zondag 12 januari\",\"trajecten\":[{\"stations\":[\"oberh\",\"duisb\",\"fffm\",\"mannhe\",\"basels\"],\"begintijd\":\"2020-01-11T04:00:00+0100\",\"eindtijd\":\"2020-01-13T03:59:00+0100\"}],\"prioriteit\":20}},{\"id\":\"2020_ICE_asd_basel_18_19jan\",\"type\":\"werkzaamheid\",\"titel\":\"Amsterdam C-K\\xc3\\xb6ln Hbf-Frankfurt (M) Hbf/Basel SBB\",\"verstoring\":{\"type\":\"WERKZAAMHEID\",\"id\":\"2020_ICE_asd_basel_18_19jan\",\"extraReistijd\":\"meer dan een uur\",\"reisadviezen\":{\"titel\":\"U kunt gebruikmaken van de aangepaste dienstregeling\",\"reisadvies\":[{\"titel\":\"\",\"advies\":[\"ICE International van/naar Frankfurt (M) Hbf/Basel SBB rijdt via een andere route en stopt niet in Arnhem Centraal, Oberhausen, Duisburg en D\\xc3\\xbcsseldorf, maar stopt extra in M\\xc3\\xb6nchengladbach\"]}]},\"geldigheidsLijst\":[{\"startDatum\":\"2020-01-18T04:00:00+0100\",\"eindDatum\":\"2020-01-20T03:59:00+0100\"}],\"gevolg\":\"Aangepaste dienstregeling ICE International extra reistijd 60 min.\",\"impact\":0,\"maatschappij\":200,\"landelijk\":true,\"oorzaak\":\"werkzaamheden\",\"header\":\"Amsterdam C-K\\xc3\\xb6ln Hbf-Frankfurt (M) Hbf/Basel SBB\",\"periode\":\"zaterdag 18 en zondag 19 januari\",\"trajecten\":[{\"stations\":[\"viers\",\"mcgb\",\"koln\"],\"begintijd\":\"2020-01-18T04:00:00+0100\",\"eindtijd\":\"2020-01-20T03:59:00+0100\"}],\"prioriteit\":20}},{\"id\":\"2020_ICBRU_asd_brusz_18_19jan\",\"type\":\"werkzaamheid\",\"titel\":\"Amsterdam C-Antwerpen- Brussel-Zuid/Midi\",\"verstoring\":{\"type\":\"WERKZAAMHEID\",\"id\":\"2020_ICBRU_asd_brusz_18_19jan\",\"extraReistijd\":\"een kwartier\",\"reisadviezen\":{\"titel\":\"U kunt gebruikmaken van de overige binnenlandse treinen\",\"reisadvies\":[{\"titel\":\"\",\"advies\":[\"IC Brussel 9692 stopt niet in Den Haag HS; ga van Den Haag HS eerder op reis naar Rotterdam Centraal en stap daar over op IC Brussel\",\"IC Brussel 9697 naar Amsterdam Centraal stopt niet in Den Haag HS; reis vanaf Rotterdam Centraal met overige treinen naar Den Haag HS\"]}]},\"geldigheidsLijst\":[{\"startDatum\":\"2020-01-18T04:00:00+0100\",\"eindDatum\":\"2020-01-20T03:59:00+0100\"}],\"gevolg\":\"Aangepaste dienstregeling IC Brussel extra reistijd 15 min.\",\"impact\":0,\"maatschappij\":200,\"landelijk\":true,\"oorzaak\":\"werkzaamheden elders\",\"header\":\"Amsterdam C-Antwerpen- Brussel-Zuid/Midi\",\"periode\":\"zaterdag 18 en zondag 19 januari\",\"trajecten\":[{\"stations\":[\"bd\",\"ndkp\",\"atw\",\"berch\",\"brusz\"],\"begintijd\":\"2020-01-18T04:00:00+0100\",\"eindtijd\":\"2020-01-20T03:59:00+0100\"}],\"prioriteit\":20}},{\"id\":\"2020_ICE_asd_basel_20_26jan\",\"type\":\"werkzaamheid\",\"titel\":\"Amsterdam C-K\\xc3\\xb6ln Hbf-Frankfurt Flg. Fernbf-Basel SBB\",\"verstoring\":{\"type\":\"WERKZAAMHEID\",\"id\":\"2020_ICE_asd_basel_20_26jan\",\"extraReistijd\":\"een kwartier tot een half uur\",\"reisadviezen\":{\"titel\":\"U kunt gebruikmaken van de overige treinen\",\"reisadvies\":[{\"titel\":\"\",\"advies\":[\"ICE International 104 en 105 rijden niet tussen Basel Bad en Basel SBB; reis met overige treinen op dit traject\"]}]},\"geldigheidsLijst\":[{\"startDatum\":\"2020-01-20T04:00:00+0100\",\"eindDatum\":\"2020-01-27T03:59:00+0100\"}],\"gevolg\":\"Aangepaste dienstregeling ICE International extra reistijd 15-30 min.\",\"impact\":0,\"maatschappij\":200,\"landelijk\":true,\"oorzaak\":\"werkzaamheden\",\"header\":\"Amsterdam C-K\\xc3\\xb6ln Hbf-Frankfurt Flg. Fernbf-Basel SBB\",\"periode\":\"maandag 20 tot en met zondag 26 januari\",\"trajecten\":[{\"stations\":[\"ah\",\"oberh\",\"duisb\"],\"begintijd\":\"2020-01-20T04:00:00+0100\",\"eindtijd\":\"2020-01-27T03:59:00+0100\"}],\"prioriteit\":20}},{\"id\":\"2020_ICE_asd_basel_8_9feb\",\"type\":\"werkzaamheid\",\"titel\":\"Amsterdam C-K\\xc3\\xb6ln Hbf-Frankfurt Flg. Fernbf-Basel SBB\",\"verstoring\":{\"type\":\"WERKZAAMHEID\",\"id\":\"2020_ICE_asd_basel_8_9feb\",\"extraReistijd\":\"een kwartier tot een half uur\",\"reisadviezen\":{\"titel\":\"U kunt gebruikmaken van de overige treinen\",\"reisadvies\":[{\"titel\":\"\",\"advies\":[\"ICE International 104 en 105 rijden niet tussen Karlsruhe Hbf en Basel SBB; reis met overige treinen op dit traject\"]}]},\"geldigheidsLijst\":[{\"startDatum\":\"2020-02-08T04:00:00+0100\",\"eindDatum\":\"2020-02-10T03:59:00+0100\"}],\"gevolg\":\"Aangepaste dienstregeling ICE International extra reistijd 15-30 min.\",\"impact\":0,\"maatschappij\":200,\"landelijk\":true,\"oorzaak\":\"werkzaamheden\",\"header\":\"Amsterdam C-K\\xc3\\xb6ln Hbf-Frankfurt Flg. Fernbf-Basel SBB\",\"periode\":\"zaterdag 8 en zondag 9 februari\",\"trajecten\":[{\"stations\":[\"ah\",\"oberh\",\"duisb\"],\"begintijd\":\"2020-02-08T04:00:00+0100\",\"eindtijd\":\"2020-02-10T03:59:00+0100\"}],\"prioriteit\":20}},{\"id\":\"2020_ICBRU_asd_brusz_8_9feb\",\"type\":\"werkzaamheid\",\"titel\":\"Amsterdam C-Antwerpen- Brussel-Zuid/Midi\",\"verstoring\":{\"type\":\"WERKZAAMHEID\",\"id\":\"2020_ICBRU_asd_brusz_8_9feb\",\"extraReistijd\":\"een kwartier\",\"reisadviezen\":{\"titel\":\"U kunt gebruikmaken van de overige binnenlandse treinen\",\"reisadvies\":[{\"titel\":\"\",\"advies\":[\"IC Brussel 9692 stopt niet in Den Haag HS; ga van Den Haag HS eerder op reis naar Rotterdam Centraal en stap daar over op IC Brussel\",\"IC Brussel 9697 naar Amsterdam Centraal stopt niet in Den Haag HS; reis vanaf Rotterdam Centraal met overige treinen naar Den Haag HS\"]}]},\"geldigheidsLijst\":[{\"startDatum\":\"2020-02-08T04:00:00+0100\",\"eindDatum\":\"2020-02-10T03:59:00+0100\"}],\"gevolg\":\"Aangepaste dienstregeling IC Brussel extra reistijd 15 min.\",\"impact\":0,\"maatschappij\":200,\"landelijk\":true,\"oorzaak\":\"werkzaamheden elders\",\"header\":\"Amsterdam C-Antwerpen- Brussel-Zuid/Midi\",\"periode\":\"zaterdag 8 en zondag 9 februari\",\"trajecten\":[{\"stations\":[\"bd\",\"ndkp\",\"atw\",\"berch\",\"brusz\"],\"begintijd\":\"2020-02-08T04:00:00+0100\",\"eindtijd\":\"2020-02-10T03:59:00+0100\"}],\"prioriteit\":20}},{\"id\":\"2020_ICBRU_15_16feb\",\"type\":\"werkzaamheid\",\"titel\":\"Amsterdam C-Antwerpen- Brussel-Zuid/Midi\",\"verstoring\":{\"type\":\"WERKZAAMHEID\",\"id\":\"2020_ICBRU_15_16feb\",\"extraReistijd\":\"een kwartier\",\"reisadviezen\":{\"titel\":\"U kunt gebruikmaken van de overige binnenlandse treinen\",\"reisadvies\":[{\"titel\":\"\",\"advies\":[\"IC Brussel 9692 stopt niet in Den Haag HS; ga van Den Haag HS eerder op reis naar Rotterdam Centraal en stap daar over op IC Brussel\",\"IC Brussel 9697 naar Amsterdam Centraal stopt niet in Den Haag HS; reis vanaf Rotterdam Centraal met overige treinen naar Den Haag HS\"]}]},\"geldigheidsLijst\":[{\"startDatum\":\"2020-02-15T04:00:00+0100\",\"eindDatum\":\"2020-02-17T03:59:00+0100\"}],\"gevolg\":\"Aangepaste dienstregeling IC Brussel extra reistijd 15 min.\",\"impact\":0,\"maatschappij\":200,\"landelijk\":true,\"oorzaak\":\"werkzaamheden elders\",\"header\":\"Amsterdam C-Antwerpen- Brussel-Zuid/Midi\",\"periode\":\"zaterdag 15 en zondag 16 februari\",\"trajecten\":[{\"stations\":[\"bd\",\"ndkp\",\"atw\",\"berch\",\"brusz\"],\"begintijd\":\"2020-02-15T04:00:00+0100\",\"eindtijd\":\"2020-02-17T03:59:00+0100\"}],\"prioriteit\":20}},{\"id\":\"2020_ICE_asd_basels_16feb\",\"type\":\"werkzaamheid\",\"titel\":\"Amsterdam C-K\\xc3\\xb6ln Hbf-Frankfurt Flg. Fernbf-Basel SBB\",\"verstoring\":{\"type\":\"WERKZAAMHEID\",\"id\":\"2020_ICE_asd_basels_16feb\",\"extraReistijd\":\"een kwartier tot een half uur\",\"reisadviezen\":{\"titel\":\"U kunt gebruikmaken van de overige treinen\",\"reisadvies\":[{\"titel\":\"\",\"advies\":[\"ICE International 104 en 105 rijden niet tussen Karlsruhe Hbf en Basel SBB; reis met overige treinen op dit traject\"]}]},\"geldigheidsLijst\":[{\"startDatum\":\"2020-02-16T04:00:00+0100\",\"eindDatum\":\"2020-02-17T03:59:00+0100\"}],\"gevolg\":\"Aangepaste dienstregeling ICE International extra reistijd 15-30 min.\",\"impact\":0,\"maatschappij\":200,\"landelijk\":true,\"oorzaak\":\"werkzaamheden\",\"header\":\"Amsterdam C-K\\xc3\\xb6ln Hbf-Frankfurt Flg. Fernbf-Basel SBB\",\"periode\":\"zondag 16 februari\",\"trajecten\":[{\"stations\":[\"ah\",\"oberh\",\"duisb\"],\"begintijd\":\"2020-02-16T04:00:00+0100\",\"eindtijd\":\"2020-02-17T03:59:00+0100\"}],\"prioriteit\":20}},{\"id\":\"2020_ICE_asd_basels_17_23feb\",\"type\":\"werkzaamheid\",\"titel\":\"Amsterdam C-K\\xc3\\xb6ln Hbf-Frankfurt (M) Hbf/Basel SBB\",\"verstoring\":{\"type\":\"WERKZAAMHEID\",\"id\":\"2020_ICE_asd_basels_17_23feb\",\"extraReistijd\":\"meer dan een uur\",\"reisadviezen\":{\"titel\":\"Ga eerder op reis\",\"reisadvies\":[{\"titel\":\"\",\"advies\":[\"ICE International van/naar Frankfurt (M) Hbf/Basel SBB rijdt via een andere route en stopt niet in Arnhem Centraal, Oberhausen, Duisburg en D\\xc3\\xbcsseldorf, maar stopt extra in M\\xc3\\xb6nchengladbach\"]}]},\"geldigheidsLijst\":[{\"startDatum\":\"2020-02-17T04:00:00+0100\",\"eindDatum\":\"2020-02-24T03:59:00+0100\"},{\"startDatum\":\"2020-02-17T04:00:00+0100\",\"eindDatum\":\"2020-02-24T03:59:00+0100\"}],\"gevolg\":\"Aangepaste dienstregeling ICE International extra reistijd meer dan 60 min.\",\"impact\":0,\"maatschappij\":200,\"landelijk\":true,\"oorzaak\":\"werkzaamheden\",\"header\":\"Amsterdam C-K\\xc3\\xb6ln Hbf-Frankfurt (M) Hbf/Basel SBB\",\"periode\":\"maandag 17 tot en met zondag 23 februari\",\"trajecten\":[{\"stations\":[\"viers\",\"mcgb\",\"koln\"],\"begintijd\":\"2020-02-17T04:00:00+0100\",\"eindtijd\":\"2020-02-24T03:59:00+0100\"},{\"stations\":[\"oberh\",\"duisb\",\"fffm\",\"mannhe\",\"basels\"],\"begintijd\":\"2020-02-17T04:00:00+0100\",\"eindtijd\":\"2020-02-24T03:59:00+0100\"}],\"prioriteit\":20}},{\"id\":\"2020_ICBER_asd_berlin_17_21feb\",\"type\":\"werkzaamheid\",\"titel\":\"Amsterdam C-Hannover Hbf- Berlin Ostbahnhof\",\"verstoring\":{\"type\":\"WERKZAAMHEID\",\"id\":\"2020_ICBER_asd_berlin_17_21feb\",\"extraReistijd\":\"een half uur tot een uur\",\"reisadviezen\":{\"titel\":\"Ga eerder op reis\",\"reisadvies\":[{\"titel\":\"\",\"advies\":[\"IC Berlijn rijdt tussen Amsterdam Centraal en Deventer via een andere route en stopt niet in Hilversum, Amersfoort en Apeldoorn\",\"IC Berlijn vanuit Nederland naar Duitsland vertrekt een kwartier eerder dan gebruikelijk vanuit Amsterdam Centraal en stopt extra in Zwolle\",\"IC Berlijn vanuit Duitsland vertrekt enkele minuten eerder uit Deventer en rijdt zonder tussenstops naar Amsterdam Centraal\"]}]},\"geldigheidsLijst\":[{\"startDatum\":\"2020-02-17T04:00:00+0100\",\"eindDatum\":\"2020-02-22T03:59:00+0100\"}],\"gevolg\":\"Aangepaste dienstregeling IC Berlijn extra reistijd 30-60 min.\",\"impact\":0,\"maatschappij\":200,\"landelijk\":true,\"oorzaak\":\"werkzaamheden\",\"header\":\"Amsterdam C-Hannover Hbf- Berlin Ostbahnhof\",\"periode\":\"maandag 17 tot en met vrijdag 21 februari\",\"trajecten\":[{\"stations\":[\"odz\",\"bh\",\"rheine\",\"osnh\"],\"begintijd\":\"2020-02-17T04:00:00+0100\",\"eindtijd\":\"2020-02-22T03:59:00+0100\"}],\"prioriteit\":20}},{\"id\":\"2020_ICBER_asd_berlin_23feb\",\"type\":\"werkzaamheid\",\"titel\":\"Amsterdam C-Hannover Hbf- Berlin Ostbahnhof\",\"verstoring\":{\"type\":\"WERKZAAMHEID\",\"id\":\"2020_ICBER_asd_berlin_23feb\",\"extraReistijd\":\"een half uur tot een uur\",\"reisadviezen\":{\"titel\":\"Ga eerder op reis\",\"reisadvies\":[{\"titel\":\"\",\"advies\":[\"IC Berlijn rijdt tussen Amsterdam Centraal en Deventer via een andere route en stopt niet in Hilversum, Amersfoort en Apeldoorn\",\"IC Berlijn vanuit Nederland naar Duitsland vertrekt een kwartier eerder dan gebruikelijk vanuit Amsterdam Centraal en stopt extra in Zwolle\"]}]},\"geldigheidsLijst\":[{\"startDatum\":\"2020-02-23T04:00:00+0100\",\"eindDatum\":\"2020-02-23T10:10:00+0100\"}],\"gevolg\":\"Aangepaste dienstregeling IC Berlijn extra reistijd 30-60 min.\",\"impact\":0,\"maatschappij\":200,\"landelijk\":true,\"oorzaak\":\"werkzaamheden\",\"header\":\"Amsterdam C-Hannover Hbf- Berlin Ostbahnhof\",\"periode\":\"zondag 23 februari tot 09.00 uur\",\"trajecten\":[{\"stations\":[\"odz\",\"bh\",\"rheine\",\"osnh\"],\"begintijd\":\"2020-02-23T04:00:00+0100\",\"eindtijd\":\"2020-02-23T10:10:00+0100\"}],\"prioriteit\":20}},{\"id\":\"2020_ICE_asd_basels_24feb_1mrt\",\"type\":\"werkzaamheid\",\"titel\":\"Amsterdam C-K\\xc3\\xb6ln Hbf-Frankfurt (M) Hbf/Basel SBB\",\"verstoring\":{\"type\":\"WERKZAAMHEID\",\"id\":\"2020_ICE_asd_basels_24feb_1mrt\",\"extraReistijd\":\"een half uur\",\"reisadviezen\":{\"titel\":\"Ga eerder op reis\",\"reisadvies\":[{\"titel\":\"\",\"advies\":[\"ICE International Frankfurt (M) Hbf/Basel SBB rijdt tussen Utrecht Centraal en Arnhem Centraal via een andere route en vertrekt ongeveer een half uur eerder dan gebruikelijk uit Amsterdam Centraal en Utrecht Centraal\"]}]},\"geldigheidsLijst\":[{\"startDatum\":\"2020-02-24T04:00:00+0100\",\"eindDatum\":\"2020-03-02T03:59:00+0100\"}],\"gevolg\":\"Aangepaste dienstregeling ICE International extra reistijd 30 min.\",\"impact\":0,\"maatschappij\":200,\"landelijk\":true,\"oorzaak\":\"werkzaamheden\",\"header\":\"Amsterdam C-K\\xc3\\xb6ln Hbf-Frankfurt (M) Hbf/Basel SBB\",\"periode\":\"maandag 24 februari tot en met zondag 1 maart\",\"trajecten\":[{\"stations\":[\"oberh\",\"duisb\",\"fffm\",\"mannhe\",\"basels\"],\"begintijd\":\"2020-02-24T04:00:00+0100\",\"eindtijd\":\"2020-03-02T03:59:00+0100\"}],\"prioriteit\":20}},{\"id\":\"2020_ICE_asd_basel_21_29mrt\",\"type\":\"werkzaamheid\",\"titel\":\"Amsterdam C-K\\xc3\\xb6ln Hbf-Frankfurt (M) Hbf/Basel SBB\",\"verstoring\":{\"type\":\"WERKZAAMHEID\",\"id\":\"2020_ICE_asd_basel_21_29mrt\",\"extraReistijd\":\"meer dan een uur\",\"reisadviezen\":{\"titel\":\"U kunt gebruikmaken van de aangepaste dienstregeling\",\"reisadvies\":[{\"titel\":\"\",\"advies\":[\"ICE International van/naar Frankfurt (M) Hbf/Basel SBB rijdt via een andere route en stopt niet in Arnhem Centraal, Oberhausen, Duisburg en D\\xc3\\xbcsseldorf, maar stopt extra in M\\xc3\\xb6nchengladbach\"]}]},\"geldigheidsLijst\":[{\"startDatum\":\"2020-03-21T04:00:00+0100\",\"eindDatum\":\"2020-03-30T03:59:00+0200\"}],\"gevolg\":\"Aangepaste dienstregeling ICE International extra reistijd 60 min.\",\"impact\":0,\"maatschappij\":200,\"landelijk\":true,\"oorzaak\":\"werkzaamheden\",\"header\":\"Amsterdam C-K\\xc3\\xb6ln Hbf-Frankfurt (M) Hbf/Basel SBB\",\"periode\":\"zaterdag 21 tot en met zondag 29 maart\",\"trajecten\":[{\"stations\":[\"viers\",\"mcgb\",\"koln\"],\"begintijd\":\"2020-03-21T04:00:00+0100\",\"eindtijd\":\"2020-03-30T03:59:00+0200\"}],\"prioriteit\":20}},{\"id\":\"2020_ICE_asd_basels_4apr\",\"type\":\"werkzaamheid\",\"titel\":\"Amsterdam C-K\\xc3\\xb6ln Hbf-Frankfurt Flg. Fernbf-Basel SBB\",\"verstoring\":{\"type\":\"WERKZAAMHEID\",\"id\":\"2020_ICE_asd_basels_4apr\",\"extraReistijd\":\"een kwartier tot een half uur\",\"reisadviezen\":{\"titel\":\"U kunt gebruikmaken van de overige treinen\",\"reisadvies\":[{\"titel\":\"\",\"advies\":[\"ICE International 104 en 105 rijden niet tussen Karlsruhe Hbf en Basel SBB; reis met overige treinen op dit traject\"]}]},\"geldigheidsLijst\":[{\"startDatum\":\"2020-04-04T04:00:00+0200\",\"eindDatum\":\"2020-04-05T03:59:00+0200\"}],\"gevolg\":\"Aangepaste dienstregeling ICE International extra reistijd 15-30 min.\",\"impact\":0,\"maatschappij\":200,\"landelijk\":true,\"oorzaak\":\"werkzaamheden\",\"header\":\"Amsterdam C-K\\xc3\\xb6ln Hbf-Frankfurt Flg. Fernbf-Basel SBB\",\"periode\":\"zaterdag 4 april\",\"trajecten\":[{\"stations\":[\"ah\",\"oberh\",\"duisb\"],\"begintijd\":\"2020-04-04T04:00:00+0200\",\"eindtijd\":\"2020-04-05T03:59:00+0200\"}],\"prioriteit\":20}},{\"id\":\"2020_ICE_asd_basel_1_10mei\",\"type\":\"werkzaamheid\",\"titel\":\"Amsterdam C-K\\xc3\\xb6ln Hbf-Frankfurt (M) Hbf/Basel SBB\",\"verstoring\":{\"type\":\"WERKZAAMHEID\",\"id\":\"2020_ICE_asd_basel_1_10mei\",\"extraReistijd\":\"meer dan een uur\",\"reisadviezen\":{\"titel\":\"U kunt gebruikmaken van de aangepaste dienstregeling\",\"reisadvies\":[{\"titel\":\"\",\"advies\":[\"ICE International van/naar Frankfurt (M) Hbf/Basel SBB rijdt via een andere route en stopt niet in Arnhem Centraal, Oberhausen, Duisburg en D\\xc3\\xbcsseldorf, maar stopt extra in M\\xc3\\xb6nchengladbach\"]}]},\"geldigheidsLijst\":[{\"startDatum\":\"2020-05-01T04:00:00+0200\",\"eindDatum\":\"2020-05-11T03:59:00+0200\"}],\"gevolg\":\"Aangepaste dienstregeling ICE International extra reistijd 60 min.\",\"impact\":0,\"maatschappij\":200,\"landelijk\":true,\"oorzaak\":\"werkzaamheden\",\"header\":\"Amsterdam C-K\\xc3\\xb6ln Hbf-Frankfurt (M) Hbf/Basel SBB\",\"periode\":\"vrijdag 1 tot en met zondag 10 mei\",\"trajecten\":[{\"stations\":[\"viers\",\"mcgb\",\"koln\"],\"begintijd\":\"2020-05-01T04:00:00+0200\",\"eindtijd\":\"2020-05-11T03:59:00+0200\"}],\"prioriteit\":20}},{\"id\":\"2020_ICE_asd_basel_18_19jul\",\"type\":\"werkzaamheid\",\"titel\":\"Amsterdam C-K\\xc3\\xb6ln Hbf-Frankfurt (M) Hbf/Basel SBB\",\"verstoring\":{\"type\":\"WERKZAAMHEID\",\"id\":\"2020_ICE_asd_basel_18_19jul\",\"extraReistijd\":\"meer dan een uur\",\"reisadviezen\":{\"titel\":\"U kunt gebruikmaken van de aangepaste dienstregeling\",\"reisadvies\":[{\"titel\":\"\",\"advies\":[\"ICE International van/naar Frankfurt (M) Hbf/Basel SBB rijdt via een andere route en stopt niet in Arnhem Centraal, Oberhausen, Duisburg en D\\xc3\\xbcsseldorf, maar stopt extra in M\\xc3\\xb6nchengladbach\"]}]},\"geldigheidsLijst\":[{\"startDatum\":\"2020-07-18T04:00:00+0200\",\"eindDatum\":\"2020-07-20T03:59:00+0200\"}],\"gevolg\":\"Aangepaste dienstregeling ICE International extra reistijd 60 min.\",\"impact\":0,\"maatschappij\":200,\"landelijk\":true,\"oorzaak\":\"werkzaamheden\",\"header\":\"Amsterdam C-K\\xc3\\xb6ln Hbf-Frankfurt (M) Hbf/Basel SBB\",\"periode\":\"zaterdag 18 en zondag 19 juli\",\"trajecten\":[{\"stations\":[\"viers\",\"mcgb\",\"koln\"],\"begintijd\":\"2020-07-18T04:00:00+0200\",\"eindtijd\":\"2020-07-20T03:59:00+0200\"}],\"prioriteit\":20}},{\"id\":\"2020_ICE_asd_basel_18_19aug\",\"type\":\"werkzaamheid\",\"titel\":\"Amsterdam C-K\\xc3\\xb6ln Hbf-Frankfurt (M) Hbf/Basel SBB\",\"verstoring\":{\"type\":\"WERKZAAMHEID\",\"id\":\"2020_ICE_asd_basel_18_19aug\",\"extraReistijd\":\"meer dan een uur\",\"reisadviezen\":{\"titel\":\"U kunt gebruikmaken van de aangepaste dienstregeling\",\"reisadvies\":[{\"titel\":\"\",\"advies\":[\"ICE International van/naar Frankfurt (M) Hbf/Basel SBB rijdt via een andere route en stopt niet in Arnhem Centraal, Oberhausen, Duisburg en D\\xc3\\xbcsseldorf, maar stopt extra in M\\xc3\\xb6nchengladbach\"]}]},\"geldigheidsLijst\":[{\"startDatum\":\"2020-08-10T04:00:00+0200\",\"eindDatum\":\"2020-08-20T03:59:00+0200\"}],\"gevolg\":\"Aangepaste dienstregeling ICE International extra reistijd 60 min.\",\"impact\":0,\"maatschappij\":200,\"landelijk\":true,\"oorzaak\":\"werkzaamheden\",\"header\":\"Amsterdam C-K\\xc3\\xb6ln Hbf-Frankfurt (M) Hbf/Basel SBB\",\"periode\":\"maandag 10 tot en met woensdag 19 augustus\",\"trajecten\":[{\"stations\":[\"viers\",\"mcgb\",\"koln\"],\"begintijd\":\"2020-08-10T04:00:00+0200\",\"eindtijd\":\"2020-08-20T03:59:00+0200\"}],\"prioriteit\":20}},{\"id\":\"2020_ICE_asd_basel_19_20sep\",\"type\":\"werkzaamheid\",\"titel\":\"Amsterdam C-K\\xc3\\xb6ln Hbf-Frankfurt (M) Hbf/Basel SBB\",\"verstoring\":{\"type\":\"WERKZAAMHEID\",\"id\":\"2020_ICE_asd_basel_19_20sep\",\"extraReistijd\":\"meer dan een uur\",\"reisadviezen\":{\"titel\":\"U kunt gebruikmaken van de aangepaste dienstregeling\",\"reisadvies\":[{\"titel\":\"\",\"advies\":[\"ICE International van/naar Frankfurt (M) Hbf/Basel SBB rijdt via een andere route en stopt niet in Arnhem Centraal, Oberhausen, Duisburg en D\\xc3\\xbcsseldorf, maar stopt extra in M\\xc3\\xb6nchengladbach\"]}]},\"geldigheidsLijst\":[{\"startDatum\":\"2020-09-19T04:00:00+0200\",\"eindDatum\":\"2020-09-21T03:59:00+0200\"}],\"gevolg\":\"Aangepaste dienstregeling ICE International extra reistijd 60 min.\",\"impact\":0,\"maatschappij\":200,\"landelijk\":true,\"oorzaak\":\"werkzaamheden\",\"header\":\"Amsterdam C-K\\xc3\\xb6ln Hbf-Frankfurt (M) Hbf/Basel SBB\",\"periode\":\"zaterdag 19 en zondag 20 september\",\"trajecten\":[{\"stations\":[\"viers\",\"mcgb\",\"koln\"],\"begintijd\":\"2020-09-19T04:00:00+0200\",\"eindtijd\":\"2020-09-21T03:59:00+0200\"}],\"prioriteit\":20}},{\"id\":\"2020_ICE_asd_basel_21_22nov\",\"type\":\"werkzaamheid\",\"titel\":\"Amsterdam C-K\\xc3\\xb6ln Hbf-Frankfurt (M) Hbf/Basel SBB\",\"verstoring\":{\"type\":\"WERKZAAMHEID\",\"id\":\"2020_ICE_asd_basel_21_22nov\",\"extraReistijd\":\"meer dan een uur\",\"reisadviezen\":{\"titel\":\"U kunt gebruikmaken van de aangepaste dienstregeling\",\"reisadvies\":[{\"titel\":\"\",\"advies\":[\"ICE International van/naar Frankfurt (M) Hbf/Basel SBB rijdt via een andere route en stopt niet in Arnhem Centraal, Oberhausen, Duisburg en D\\xc3\\xbcsseldorf, maar stopt extra in M\\xc3\\xb6nchengladbach\"]}]},\"geldigheidsLijst\":[{\"startDatum\":\"2020-11-21T04:00:00+0100\",\"eindDatum\":\"2020-11-23T03:59:00+0100\"}],\"gevolg\":\"Aangepaste dienstregeling ICE International extra reistijd 60 min.\",\"impact\":0,\"maatschappij\":200,\"landelijk\":true,\"oorzaak\":\"werkzaamheden\",\"header\":\"Amsterdam C-K\\xc3\\xb6ln Hbf-Frankfurt (M) Hbf/Basel SBB\",\"periode\":\"zaterdag 21 en zondag 22 november\",\"trajecten\":[{\"stations\":[\"viers\",\"mcgb\",\"koln\"],\"begintijd\":\"2020-11-21T04:00:00+0100\",\"eindtijd\":\"2020-11-23T03:59:00+0100\"}],\"prioriteit\":20}}],\"meta\":{}}'\n"
     ]
    }
   ],
   "source": [
    "# #disruptions\n",
    "# headers = {\n",
    "#     # Request headers\n",
    "#     'Ocp-Apim-Subscription-Key': '%s' % key ,\n",
    "# }\n",
    "\n",
    "# params = urllib.parse.urlencode({\n",
    "#     # Request parameters\n",
    "#     'type': '{string}',\n",
    "#     'actual': '{boolean}',\n",
    "#     'lang': 'en',\n",
    "# })\n",
    "\n",
    "# try:\n",
    "#     conn = http.client.HTTPSConnection('gateway.apiportal.ns.nl')\n",
    "#     conn.request(\"GET\", \"/public-reisinformatie/api/v2/disruptions?%s\" % params, \"{body}\", headers)\n",
    "#     response = conn.getresponse()\n",
    "#     disruption = response.read()\n",
    "#     #print(data)\n",
    "#     conn.close()\n",
    "# except Exception as e:\n",
    "#     print(\"[Errno {0}] {1}\".format(e.errno, e.strerror))\n"
   ]
  },
  {
   "cell_type": "code",
   "execution_count": 92,
   "metadata": {},
   "outputs": [],
   "source": [
    "# station = \"amsterdamzuid\""
   ]
  },
  {
   "cell_type": "code",
   "execution_count": 93,
   "metadata": {},
   "outputs": [],
   "source": [
    "# #Disruption station\n",
    "# headers = {\n",
    "#     # Request headers\n",
    "#     'Ocp-Apim-Subscription-Key': '%s' % key ,\n",
    "# }\n",
    "\n",
    "# params = urllib.parse.urlencode({\n",
    "# })\n",
    "\n",
    "# try:\n",
    "#     conn = http.client.HTTPSConnection('gateway.apiportal.ns.nl')\n",
    "#     conn.request(\"GET\", \"/public-reisinformatie/api/v2/disruptions/station/%s\" % station, \"{body}\", headers)\n",
    "#     response = conn.getresponse()\n",
    "#     disrupt_station = response.read()\n",
    "#     #print(data)\n",
    "#     conn.close()\n",
    "# except Exception as e:\n",
    "#     print(\"[Errno {0}] {1}\".format(e.errno, e.strerror))\n"
   ]
  }
 ],
 "metadata": {
  "kernelspec": {
   "display_name": "Python 3",
   "language": "python",
   "name": "python3"
  },
  "language_info": {
   "codemirror_mode": {
    "name": "ipython",
    "version": 3
   },
   "file_extension": ".py",
   "mimetype": "text/x-python",
   "name": "python",
   "nbconvert_exporter": "python",
   "pygments_lexer": "ipython3",
   "version": "3.6.9"
  }
 },
 "nbformat": 4,
 "nbformat_minor": 4
}
