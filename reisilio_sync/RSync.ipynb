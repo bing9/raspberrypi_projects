{
 "cells": [
  {
   "cell_type": "markdown",
   "metadata": {},
   "source": [
    "# Setup rslsync\n",
    "\n",
    "Source: https://help.resilio.com/hc/en-us/articles/206178924-Installing-Sync-package-on-Linux"
   ]
  },
  {
   "cell_type": "code",
   "execution_count": null,
   "metadata": {},
   "outputs": [],
   "source": [
    "curl -LO https://download-cdn.resilio.com/2.7.2.1375/Debian/resilio-sync_2.7.2.1375-1_armhf.deb\n",
    "sudo dpkg -i resilio-sync_2.7.2.1375-1_armhf.deb\n",
    "sudo service resilio-sync start \n",
    "sudo service resilio-sync stop\n",
    "sudo service resilio-sync restart"
   ]
  },
  {
   "cell_type": "code",
   "execution_count": null,
   "metadata": {},
   "outputs": [],
   "source": [
    "Once installed a user rslsync user is created\n",
    "Below code is changing rslsync into pi group\n",
    "sudo usermod -aG pi rslsync\n",
    "sudo nano /etc/passwd\n",
    "# change the group and UID, PID to match NAS created ids.\n",
    "sudo chmod 770 rslsync ~/"
   ]
  }
 ],
 "metadata": {
  "kernelspec": {
   "display_name": "Python 3",
   "language": "python",
   "name": "python3"
  },
  "language_info": {
   "codemirror_mode": {
    "name": "ipython",
    "version": 3
   },
   "file_extension": ".py",
   "mimetype": "text/x-python",
   "name": "python",
   "nbconvert_exporter": "python",
   "pygments_lexer": "ipython3",
   "version": "3.8.5"
  }
 },
 "nbformat": 4,
 "nbformat_minor": 4
}
