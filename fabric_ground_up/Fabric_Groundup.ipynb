{
 "cells": [
  {
   "cell_type": "markdown",
   "metadata": {},
   "source": [
    "# Goal: to use fabric to setup entire workflow on Raspberry pi\n",
    "inspired by https://www.youtube.com/watch?v=mzP-QYxW9Vs&list=PL2hxivbr6C_2lMqtZi4uVAOta2b5dp1yN&index=28&t=0s&ab_channel=DavyWybiral"
   ]
  },
  {
   "cell_type": "markdown",
   "metadata": {},
   "source": [
    "3. Enable SSH on a headless Raspberry Pi (add file to SD card on another machine)\n",
    "For headless setup, SSH can be enabled by placing a file named ssh, without any extension, onto the boot partition of the SD card from another computer. When the Pi boots, it looks for the ssh file. If it is found, SSH is enabled and the file is deleted. The content of the file does not matter; it could contain text, or nothing at all.\n",
    "\n",
    "If you have loaded Raspberry Pi OS onto a blank SD card, you will have two partitions. The first one, which is the smaller one, is the boot partition. Place the file into this one."
   ]
  },
  {
   "cell_type": "code",
   "execution_count": 21,
   "metadata": {},
   "outputs": [],
   "source": [
    "# !pip uninstall fabric"
   ]
  },
  {
   "cell_type": "code",
   "execution_count": 26,
   "metadata": {},
   "outputs": [],
   "source": [
    "# !pip install fabric2"
   ]
  },
  {
   "cell_type": "code",
   "execution_count": 9,
   "metadata": {},
   "outputs": [],
   "source": [
    "# !pip install python-dotenv"
   ]
  },
  {
   "cell_type": "code",
   "execution_count": 10,
   "metadata": {},
   "outputs": [],
   "source": [
    "from dotenv import load_dotenv\n",
    "import os"
   ]
  },
  {
   "cell_type": "code",
   "execution_count": 138,
   "metadata": {},
   "outputs": [
    {
     "data": {
      "text/plain": [
       "True"
      ]
     },
     "execution_count": 138,
     "metadata": {},
     "output_type": "execute_result"
    }
   ],
   "source": [
    "load_dotenv()"
   ]
  },
  {
   "cell_type": "code",
   "execution_count": 139,
   "metadata": {},
   "outputs": [],
   "source": [
    "pwd = os.getenv('PI_PSWD')\n",
    "pi1 = os.getenv('PI_IP1')\n",
    "pi_uid = os.getenv('PI_UID')\n",
    "pi_gid = os.getenv('PI_GID')"
   ]
  },
  {
   "cell_type": "markdown",
   "metadata": {},
   "source": [
    "# Using Fabric"
   ]
  },
  {
   "cell_type": "code",
   "execution_count": 115,
   "metadata": {},
   "outputs": [],
   "source": [
    "from fabric import Connection, Config"
   ]
  },
  {
   "cell_type": "code",
   "execution_count": 188,
   "metadata": {},
   "outputs": [],
   "source": [
    "config = Config({'user': 'pi', 'connect_kwargs': {'password': pwd}})"
   ]
  },
  {
   "cell_type": "code",
   "execution_count": 229,
   "metadata": {},
   "outputs": [],
   "source": [
    "cxn = Connection(pi1, config = config)"
   ]
  },
  {
   "cell_type": "code",
   "execution_count": 226,
   "metadata": {},
   "outputs": [
    {
     "name": "stdout",
     "output_type": "stream",
     "text": [
      "pi\n"
     ]
    },
    {
     "data": {
      "text/plain": [
       "<Result cmd='whoami' exited=0>"
      ]
     },
     "execution_count": 226,
     "metadata": {},
     "output_type": "execute_result"
    }
   ],
   "source": [
    "cxn.run('whoami')"
   ]
  },
  {
   "cell_type": "code",
   "execution_count": 211,
   "metadata": {},
   "outputs": [],
   "source": [
    "def reboot():\n",
    "    # reboot hosts\n",
    "    cxn.sudo('shutdown -r now')\n",
    "\n",
    "\n",
    "def shutdown():\n",
    "    # shutdown hosts\n",
    "    cxn.sudo('shutdown -h now')\n",
    "\n",
    "\n",
    "def update():\n",
    "    # apt update & apt dist-upgrade hosts\n",
    "    cxn.sudo('apt-get update')\n",
    "    cxn.sudo('apt-get dist-upgrade -y') \n",
    "\n",
    "def change_uid_gid():\n",
    "    #TODO create a new user and change the pi user's UID GID\n",
    "    cxn.sudo(f'usermod -u {pi_uid} pi')\n",
    "    cxn.sudo(f'groupmod -g {pi_gid} pi')\n",
    "    #Or change below files (since processes with current PID is running)\n",
    "#   sudo nano  /etc/passwd\n",
    "#   sudo nano  /etc/group\n",
    "#   while we change the pi's PID in passwd, we need to ssh again into the terminal to use\n",
    "#   sudo to change the secound group file once done, we need to restart pi using\n",
    "#   sudo su to have root user access then\n",
    "#   systemctl reboot -i\n",
    "    \n",
    "    \n",
    "def linux_setup():\n",
    "    for i in ['apt-get install -y python3-pip tree htop nfs-common',\n",
    "    'rm -rf /var/lib/apt/lists/*']:\n",
    "        cxn.sudo(i)\n",
    "        \n",
    "def setup_nas():\n",
    "    nas_ip = os.getenv('NAS_IP')\n",
    "    cxn.sudo('mkdir -p /home/pi/pi_projects')\n",
    "    mount_to_pi = f'mount {nas_ip}:/volume1/pi_projects /home/pi'\n",
    "    cxn.sudo(mount_to_pi)\n",
    "    \n",
    "def add_mount_nas_to_restart():\n",
    "    # add to restart\n",
    "    cxn.sudo(\"chmod 777 /etc/fstab\")\n",
    "    cxn.sudo(f\"echo '{nas_ip}:/volume1/pi_projects /home/pi nfs rsize=8192,wsize=8192,timeo=14,intr'  >> /etc/fstab \")\n",
    "    cxn.run('tail /etc/fstab')\n",
    "    \n",
    "def docker_setup():\n",
    "    cxn.sudo('apt-get install apt-transport-https ca-certificates software-properties-common -y')\n",
    "    cxn.sudo('curl -fsSL get.docker.com -o get-docker.sh && sh get-docker.sh')\n",
    "    cxn.sudo('usermod -aG docker pi')\n",
    "    cxn.sudo('curl https://download.docker.com/linux/raspbian/gpg')\n",
    "    cxn.sudo(\"chmod 777 /etc/apt/sources.list\")\n",
    "    cxn.sudo(\"\"\"echo \"deb https://download.docker.com/linux/raspbian/ stretch stable\" >> /etc/apt/sources.list\"\"\")\n",
    "    cxn.run('tail /etc/apt/sources.list')\n",
    "    cxn.sudo('pip3 install docker-compose')\n",
    "    \n",
    "def docker_start():\n",
    "    cxn.sudo('systemctl start docker.service')\n",
    "    cxn.run('docker info')\n",
    "\n",
    "def docker_file_upload():\n",
    "    cxn.run('cd /home/pi/Docker')\n",
    "    cxn.put('Dockerfile', '/home/pi/Docker')\n",
    "    cxn.put('requirements.txt', '/home/pi/Docker')\n",
    "    cxn.put('docker-compose.yml', '/home/pi/Docker')\n",
    "    \n",
    "    #======================\n",
    "# @parallel\n",
    "def rq_setup():\n",
    "    # setup hosts (install dependencies)\n",
    "    cxn.sudo('pip3 install rq redis')\n",
    "\n",
    "# @parallel\n",
    "def upload():\n",
    "    # upload code to hosts\n",
    "    cxn.put('tasks.py', 'tasks.py')\n",
    "    cxn.put('worker.py', 'worker.py')\n",
    "\n",
    "# @parallel\n",
    "def start():\n",
    "    # start worker.py scripts\n",
    "    cxn.run('python3 worker.py')"
   ]
  },
  {
   "cell_type": "code",
   "execution_count": 202,
   "metadata": {},
   "outputs": [],
   "source": [
    "# reboot()"
   ]
  },
  {
   "cell_type": "code",
   "execution_count": 195,
   "metadata": {},
   "outputs": [],
   "source": [
    "# update()\n",
    "# linux_setup()\n",
    "# setup_nas()\n",
    "# docker_setup()\n",
    "# docker_start()\n",
    "# rq_setup()"
   ]
  },
  {
   "cell_type": "code",
   "execution_count": 203,
   "metadata": {},
   "outputs": [],
   "source": [
    "# add_mount_nas_to_restart()"
   ]
  },
  {
   "cell_type": "code",
   "execution_count": 230,
   "metadata": {},
   "outputs": [],
   "source": [
    "docker_file_upload()"
   ]
  },
  {
   "cell_type": "code",
   "execution_count": 231,
   "metadata": {},
   "outputs": [
    {
     "name": "stdout",
     "output_type": "stream",
     "text": [
      "/home/pi\n",
      "├── Docker\n",
      "│   ├── docker-compose.yml\n",
      "│   ├── Dockerfile\n",
      "│   └── requirements.txt\n",
      "├── get-docker.sh\n",
      "├── #recycle [error opening dir]\n",
      "└── test\n",
      "\n",
      "3 directories, 4 files\n"
     ]
    },
    {
     "data": {
      "text/plain": [
       "<Result cmd='tree /home/pi' exited=0>"
      ]
     },
     "execution_count": 231,
     "metadata": {},
     "output_type": "execute_result"
    }
   ],
   "source": [
    "cxn.run('tree /home/pi')"
   ]
  },
  {
   "cell_type": "code",
   "execution_count": null,
   "metadata": {},
   "outputs": [],
   "source": []
  }
 ],
 "metadata": {
  "kernelspec": {
   "display_name": "Python 3",
   "language": "python",
   "name": "python3"
  },
  "language_info": {
   "codemirror_mode": {
    "name": "ipython",
    "version": 3
   },
   "file_extension": ".py",
   "mimetype": "text/x-python",
   "name": "python",
   "nbconvert_exporter": "python",
   "pygments_lexer": "ipython3",
   "version": "3.8.5"
  }
 },
 "nbformat": 4,
 "nbformat_minor": 4
}
