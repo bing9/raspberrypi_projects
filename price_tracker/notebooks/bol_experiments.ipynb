{
 "cells": [
  {
   "cell_type": "code",
   "execution_count": null,
   "id": "f6b5911d-901b-478a-963e-96da267574f7",
   "metadata": {},
   "outputs": [],
   "source": [
    "import sys"
   ]
  },
  {
   "cell_type": "code",
   "execution_count": null,
   "id": "bef77f82-5014-4049-9c5d-2b31be8aeda0",
   "metadata": {},
   "outputs": [],
   "source": [
    "import os"
   ]
  },
  {
   "cell_type": "code",
   "execution_count": null,
   "id": "e95fe688-4831-4665-9a50-ba2dfaae2955",
   "metadata": {},
   "outputs": [],
   "source": [
    "from pathlib import Path"
   ]
  },
  {
   "cell_type": "code",
   "execution_count": null,
   "id": "47b42edf-f5e3-446e-b539-b186f1e46d99",
   "metadata": {},
   "outputs": [],
   "source": [
    "project_dir = Path(__name__).resolve().parents[1]"
   ]
  },
  {
   "cell_type": "code",
   "execution_count": null,
   "id": "e79ae3e3-01f5-4e5c-aa01-c1b9e0228399",
   "metadata": {},
   "outputs": [],
   "source": [
    "sys.path.insert(0, str(project_dir/'src'/'data'))"
   ]
  },
  {
   "cell_type": "code",
   "execution_count": null,
   "id": "f9d0a004-a913-4c0d-b8eb-0c081153cb6b",
   "metadata": {},
   "outputs": [],
   "source": [
    "from scrape_bol import *"
   ]
  },
  {
   "cell_type": "code",
   "execution_count": null,
   "id": "fc5ce263-f9a3-4ffa-a08c-ed7170935339",
   "metadata": {},
   "outputs": [],
   "source": [
    "from create_products import *"
   ]
  },
  {
   "cell_type": "code",
   "execution_count": null,
   "id": "b852a4f4-b09c-4469-8a09-1a3dfea37a55",
   "metadata": {},
   "outputs": [],
   "source": [
    "from datetime import datetime"
   ]
  },
  {
   "cell_type": "code",
   "execution_count": null,
   "id": "271d364e-e2dd-48c7-b5ac-104d7c0b1fac",
   "metadata": {},
   "outputs": [],
   "source": [
    "s = SearchTerm(search_term='philips sonicare', search_domain = 'bol.com', max_pages = 1)"
   ]
  },
  {
   "cell_type": "code",
   "execution_count": null,
   "id": "fc7ec44c-d254-473c-9db2-25e15404f776",
   "metadata": {},
   "outputs": [],
   "source": [
    "len(s.productlist)"
   ]
  },
  {
   "cell_type": "code",
   "execution_count": null,
   "id": "472dd233-ac42-4685-9665-5734783ad956",
   "metadata": {},
   "outputs": [],
   "source": [
    "print(s.Scraper.page)"
   ]
  },
  {
   "cell_type": "code",
   "execution_count": null,
   "id": "d8154f7d-2d76-4483-a894-e2f2f67c6e9a",
   "metadata": {},
   "outputs": [],
   "source": [
    "dir(s)"
   ]
  },
  {
   "cell_type": "code",
   "execution_count": null,
   "id": "b54f1089-be73-4fc3-b2fb-e8dde492e1f5",
   "metadata": {},
   "outputs": [],
   "source": [
    "datetime.now().strftime(\"%Y-%m-%d %I:%M%p\")"
   ]
  },
  {
   "cell_type": "code",
   "execution_count": null,
   "id": "006f383f-c4fe-4644-b476-6df488a77f28",
   "metadata": {},
   "outputs": [],
   "source": [
    "to_save_data = ['\\t'.join([p.provider if p.provider else '', \n",
    "                          p.provider_id if p.provider_id else '', \n",
    "                           p.name  if p.name else '', \n",
    "                           p.price  if p.price else '', \n",
    "                           p.original_price  if p.original_price else '' ]) \n",
    "                for p in s.productlist]"
   ]
  },
  {
   "cell_type": "code",
   "execution_count": null,
   "id": "d9c11047-10cd-4247-ae67-1e51776d955f",
   "metadata": {},
   "outputs": [],
   "source": [
    "with open(\"../data/raw/price_tracker.tsv\", 'a') as file:\n",
    "    file.writelines(to_save_data)"
   ]
  },
  {
   "cell_type": "code",
   "execution_count": null,
   "id": "4865d798-08b1-4365-bb52-b246eb41a69e",
   "metadata": {},
   "outputs": [],
   "source": [
    "bol = BolScraper('https://www.bol.com/nl/nl/s/?searchtext=philips+sonicare')"
   ]
  },
  {
   "cell_type": "code",
   "execution_count": null,
   "id": "edd23e86-7b02-490b-b03f-775920593256",
   "metadata": {},
   "outputs": [],
   "source": [
    "pl = bol.get_productlist()"
   ]
  },
  {
   "cell_type": "code",
   "execution_count": null,
   "id": "8ad8d333-a5a1-47bd-8200-2bd75c419a7c",
   "metadata": {},
   "outputs": [],
   "source": [
    "bol = BolScraper('https://www.bol.com/nl/nl/s/?page=8&searchtext=philips+sonicare&view=list') # No products"
   ]
  },
  {
   "cell_type": "code",
   "execution_count": null,
   "id": "56efac5e-f8dc-4768-a0e9-6d8351e2e3da",
   "metadata": {},
   "outputs": [],
   "source": [
    "pl = bol.get_productlist()"
   ]
  },
  {
   "cell_type": "code",
   "execution_count": null,
   "id": "ee8ccc24-850f-42f1-a631-df2062419746",
   "metadata": {},
   "outputs": [],
   "source": [
    "pl"
   ]
  },
  {
   "cell_type": "code",
   "execution_count": null,
   "id": "a24098a1-1d58-4c62-9215-8022c545c8e0",
   "metadata": {},
   "outputs": [],
   "source": [
    "# pl"
   ]
  },
  {
   "cell_type": "code",
   "execution_count": null,
   "id": "479f3a07-344e-440b-bae1-a273afbdbc9d",
   "metadata": {},
   "outputs": [],
   "source": [
    "from pathlib import Path"
   ]
  },
  {
   "cell_type": "code",
   "execution_count": null,
   "id": "2a603a4c-f5e1-4d49-a0af-3421a04cbacc",
   "metadata": {},
   "outputs": [],
   "source": [
    "project_dir = Path(__name__).resolve().parents[2]"
   ]
  },
  {
   "cell_type": "code",
   "execution_count": null,
   "id": "edf74c69-5dc5-4414-9084-804f7db0a0b2",
   "metadata": {},
   "outputs": [],
   "source": [
    "project_dir/'data'/'raw'/'example.csv'"
   ]
  },
  {
   "cell_type": "markdown",
   "id": "67c0ef8a-361f-4b39-b551-ad21f357714f",
   "metadata": {},
   "source": [
    "# Create DB"
   ]
  },
  {
   "cell_type": "code",
   "execution_count": null,
   "id": "e0e4752b-2e5f-4d61-afc9-7b427d071599",
   "metadata": {
    "tags": []
   },
   "outputs": [],
   "source": [
    "import sqlite3\n",
    "from sqlite3 import Error"
   ]
  },
  {
   "cell_type": "code",
   "execution_count": null,
   "id": "82e843bb-8c78-44d8-b28b-65a147612492",
   "metadata": {},
   "outputs": [],
   "source": [
    "conn = sqlite3.connect(\"../data/raw/price_tracker.db\",  timeout=10)"
   ]
  },
  {
   "cell_type": "code",
   "execution_count": null,
   "id": "99da5501-f2ee-440a-a94b-d8cb215b1a40",
   "metadata": {},
   "outputs": [],
   "source": [
    "sql_create_products_table = \"\"\" CREATE TABLE IF NOT EXISTS projects (\n",
    "                                    id integer PRIMARY KEY,\n",
    "                                    name text NOT NULL,\n",
    "                                    begin_date text,\n",
    "                                    end_date text\n",
    "                                ); \"\"\"\n",
    "\n",
    "sql_create_prices_table = \"\"\"CREATE TABLE IF NOT EXISTS prices (\n",
    "                                datetime datetime NOT NULL,\n",
    "                                provider text ,\n",
    "                                provider_id text,\n",
    "                                name text,\n",
    "                                price numeric,\n",
    "                                original_price numeric\n",
    "                            );\"\"\""
   ]
  },
  {
   "cell_type": "code",
   "execution_count": null,
   "id": "41d575c5-3403-4a84-881e-431bec7351b4",
   "metadata": {},
   "outputs": [],
   "source": [
    "def create_table(conn, create_table_sql):\n",
    "    \"\"\" create a table from the create_table_sql statement\n",
    "    :param conn: Connection object\n",
    "    :param create_table_sql: a CREATE TABLE statement\n",
    "    :return:\n",
    "    \"\"\"\n",
    "    try:\n",
    "        c = conn.cursor()\n",
    "        c.execute(create_table_sql)\n",
    "    except Error as e:\n",
    "        print(e)"
   ]
  },
  {
   "cell_type": "code",
   "execution_count": null,
   "id": "a6ee5146-e117-4154-8aed-7de281531aaa",
   "metadata": {},
   "outputs": [],
   "source": [
    "create_table(conn, sql_create_prices_table)"
   ]
  },
  {
   "cell_type": "code",
   "execution_count": null,
   "id": "25985a99-f393-410c-9133-53fad6302645",
   "metadata": {},
   "outputs": [],
   "source": [
    "conn.close()"
   ]
  },
  {
   "cell_type": "markdown",
   "id": "3806a0d8-daff-4b36-8d6f-ec6ac24118fe",
   "metadata": {},
   "source": [
    "# Pandas"
   ]
  },
  {
   "cell_type": "code",
   "execution_count": 125,
   "id": "61b64f1e-8395-49a1-8d0b-8609971e7fc9",
   "metadata": {},
   "outputs": [],
   "source": [
    "import pandas as pd\n",
    "\n",
    "data_dir = project_dir/'data'/'raw'\n",
    "\n",
    "full_list = list(data_dir.glob('*.tsv'))\n",
    "\n",
    "max_file = max(full_list, key = lambda x: x.stat().st_mtime )\n",
    "\n",
    "partial_list = full_list.copy()\n",
    "partial_list.remove(max_file)\n",
    "\n",
    "second_max_file = max(partial_list, key = lambda x: x.stat().st_mtime )\n",
    "\n",
    "second_max_file\n",
    "\n",
    "df_max = pd.read_csv(max_file, sep = '\\t')\n",
    "\n",
    "df_second_max = pd.read_csv(second_max_file, sep = '\\t')\n",
    "\n",
    "df = df_second_max.compare(df_max)\n",
    "\n",
    "df = pd.merge(df_second_max, df_max, left_on = ['provider_id'], right_on = ['provider_id'], \n",
    "        suffixes = (None, '_old'))\n",
    "\n",
    "df['discount'] = 1 - df['price'] / df['price_old']\n",
    "\n",
    "df_notify = df[df['discount'] >=0.05]\n",
    "\n",
    "cols = ['provider', 'name', 'price', 'price_old', 'URL']\n",
    "\n",
    "if len(df_notify)>0:\n",
    "    records = df_notify[cols].to_records(index = False)"
   ]
  },
  {
   "cell_type": "code",
   "execution_count": 153,
   "id": "773c3813-6ae8-41bc-86d4-e4265a81fa79",
   "metadata": {},
   "outputs": [
    {
     "data": {
      "text/html": [
       "<div>\n",
       "<style scoped>\n",
       "    .dataframe tbody tr th:only-of-type {\n",
       "        vertical-align: middle;\n",
       "    }\n",
       "\n",
       "    .dataframe tbody tr th {\n",
       "        vertical-align: top;\n",
       "    }\n",
       "\n",
       "    .dataframe thead th {\n",
       "        text-align: right;\n",
       "    }\n",
       "</style>\n",
       "<table border=\"1\" class=\"dataframe\">\n",
       "  <thead>\n",
       "    <tr style=\"text-align: right;\">\n",
       "      <th></th>\n",
       "      <th>provider</th>\n",
       "      <th>provider_id</th>\n",
       "      <th>name</th>\n",
       "      <th>price</th>\n",
       "      <th>original_price</th>\n",
       "      <th>URL</th>\n",
       "      <th>provider_old</th>\n",
       "      <th>name_old</th>\n",
       "      <th>price_old</th>\n",
       "      <th>original_price_old</th>\n",
       "      <th>URL_old</th>\n",
       "      <th>discount</th>\n",
       "    </tr>\n",
       "  </thead>\n",
       "  <tbody>\n",
       "    <tr>\n",
       "      <th>0</th>\n",
       "      <td>bol</td>\n",
       "      <td>9200000055111100</td>\n",
       "      <td>Philips Sonicare for kids HX6321/03 - Elektris...</td>\n",
       "      <td>31.99</td>\n",
       "      <td>64,99</td>\n",
       "      <td>https://bol.com/nl/nl/p/philips-sonicare-for-k...</td>\n",
       "      <td>bol</td>\n",
       "      <td>Philips Sonicare for kids HX6321/03 - Elektris...</td>\n",
       "      <td>39.95</td>\n",
       "      <td>NaN</td>\n",
       "      <td>https://bol.com/nl/nl/p/philips-sonicare-for-k...</td>\n",
       "      <td>0.199249</td>\n",
       "    </tr>\n",
       "    <tr>\n",
       "      <th>4</th>\n",
       "      <td>bol</td>\n",
       "      <td>9300000000290851</td>\n",
       "      <td>Philips Sonicare DiamondClean 9000 HX9914/55 -...</td>\n",
       "      <td>159.99</td>\n",
       "      <td>329,99</td>\n",
       "      <td>https://bol.com/nl/nl/p/philips-sonicare-diamo...</td>\n",
       "      <td>bol</td>\n",
       "      <td>Philips Sonicare DiamondClean 9000 HX9914/55 -...</td>\n",
       "      <td>209.15</td>\n",
       "      <td>NaN</td>\n",
       "      <td>https://bol.com/nl/nl/p/philips-sonicare-diamo...</td>\n",
       "      <td>0.235047</td>\n",
       "    </tr>\n",
       "    <tr>\n",
       "      <th>6</th>\n",
       "      <td>bol</td>\n",
       "      <td>9200000119412119</td>\n",
       "      <td>Philips Sonicare ProtectiveClean 4300 HX6809/3...</td>\n",
       "      <td>92.99</td>\n",
       "      <td>149,99</td>\n",
       "      <td>https://bol.com/nl/nl/p/philips-sonicare-prote...</td>\n",
       "      <td>bol</td>\n",
       "      <td>Philips Sonicare ProtectiveClean 4300 HX6809/3...</td>\n",
       "      <td>118.99</td>\n",
       "      <td>NaN</td>\n",
       "      <td>https://bol.com/nl/nl/p/philips-sonicare-prote...</td>\n",
       "      <td>0.218506</td>\n",
       "    </tr>\n",
       "    <tr>\n",
       "      <th>8</th>\n",
       "      <td>bol</td>\n",
       "      <td>9300000005081673</td>\n",
       "      <td>Philips Sonicare For Kids HX6352/42 - Elektris...</td>\n",
       "      <td>34.99</td>\n",
       "      <td>49,99</td>\n",
       "      <td>https://bol.com/nl/nl/p/philips-sonicare-for-k...</td>\n",
       "      <td>bol</td>\n",
       "      <td>Philips Sonicare For Kids HX6352/42 - Elektris...</td>\n",
       "      <td>39.95</td>\n",
       "      <td>NaN</td>\n",
       "      <td>https://bol.com/nl/nl/p/philips-sonicare-for-k...</td>\n",
       "      <td>0.124155</td>\n",
       "    </tr>\n",
       "    <tr>\n",
       "      <th>9</th>\n",
       "      <td>bol</td>\n",
       "      <td>9200000079522243</td>\n",
       "      <td>Philips Sonicare DiamondClean Smart HX9924/13 ...</td>\n",
       "      <td>169.99</td>\n",
       "      <td>309,99</td>\n",
       "      <td>https://bol.com/nl/nl/p/philips-sonicare-diamo...</td>\n",
       "      <td>bol</td>\n",
       "      <td>Philips Sonicare DiamondClean Smart HX9924/13 ...</td>\n",
       "      <td>209.00</td>\n",
       "      <td>NaN</td>\n",
       "      <td>https://bol.com/nl/nl/p/philips-sonicare-diamo...</td>\n",
       "      <td>0.186651</td>\n",
       "    </tr>\n",
       "    <tr>\n",
       "      <th>12</th>\n",
       "      <td>bol</td>\n",
       "      <td>9200000079522241</td>\n",
       "      <td>Philips Sonicare DiamondClean Smart HX9954/53 ...</td>\n",
       "      <td>184.99</td>\n",
       "      <td>339,99</td>\n",
       "      <td>https://bol.com/nl/nl/p/philips-sonicare-diamo...</td>\n",
       "      <td>bol</td>\n",
       "      <td>Philips Sonicare DiamondClean Smart HX9954/53 ...</td>\n",
       "      <td>228.99</td>\n",
       "      <td>NaN</td>\n",
       "      <td>https://bol.com/nl/nl/p/philips-sonicare-diamo...</td>\n",
       "      <td>0.192148</td>\n",
       "    </tr>\n",
       "    <tr>\n",
       "      <th>19</th>\n",
       "      <td>bol</td>\n",
       "      <td>9200000093063171</td>\n",
       "      <td>Philips Sonicare ProtectiveClean 4500 HX6833/2...</td>\n",
       "      <td>82.99</td>\n",
       "      <td>NaN</td>\n",
       "      <td>https://bol.com/nl/nl/p/philips-sonicare-prote...</td>\n",
       "      <td>bol</td>\n",
       "      <td>Philips Sonicare ProtectiveClean 4500 HX6833/2...</td>\n",
       "      <td>99.99</td>\n",
       "      <td>NaN</td>\n",
       "      <td>https://bol.com/nl/nl/p/philips-sonicare-prote...</td>\n",
       "      <td>0.170017</td>\n",
       "    </tr>\n",
       "    <tr>\n",
       "      <th>25</th>\n",
       "      <td>bol</td>\n",
       "      <td>9200000078316283</td>\n",
       "      <td>BRITA fill&amp;enjoy Marella Cool Graphite Half Ye...</td>\n",
       "      <td>49.95</td>\n",
       "      <td>NaN</td>\n",
       "      <td>https://bol.com/nl/nl/p/brita-fill-enjoy-marel...</td>\n",
       "      <td>bol</td>\n",
       "      <td>BRITA fill&amp;enjoy Marella Cool Graphite Half Ye...</td>\n",
       "      <td>52.94</td>\n",
       "      <td>NaN</td>\n",
       "      <td>https://bol.com/nl/nl/p/brita-fill-enjoy-marel...</td>\n",
       "      <td>0.056479</td>\n",
       "    </tr>\n",
       "  </tbody>\n",
       "</table>\n",
       "</div>"
      ],
      "text/plain": [
       "   provider       provider_id  \\\n",
       "0       bol  9200000055111100   \n",
       "4       bol  9300000000290851   \n",
       "6       bol  9200000119412119   \n",
       "8       bol  9300000005081673   \n",
       "9       bol  9200000079522243   \n",
       "12      bol  9200000079522241   \n",
       "19      bol  9200000093063171   \n",
       "25      bol  9200000078316283   \n",
       "\n",
       "                                                 name   price original_price  \\\n",
       "0   Philips Sonicare for kids HX6321/03 - Elektris...   31.99          64,99   \n",
       "4   Philips Sonicare DiamondClean 9000 HX9914/55 -...  159.99         329,99   \n",
       "6   Philips Sonicare ProtectiveClean 4300 HX6809/3...   92.99         149,99   \n",
       "8   Philips Sonicare For Kids HX6352/42 - Elektris...   34.99          49,99   \n",
       "9   Philips Sonicare DiamondClean Smart HX9924/13 ...  169.99         309,99   \n",
       "12  Philips Sonicare DiamondClean Smart HX9954/53 ...  184.99         339,99   \n",
       "19  Philips Sonicare ProtectiveClean 4500 HX6833/2...   82.99            NaN   \n",
       "25  BRITA fill&enjoy Marella Cool Graphite Half Ye...   49.95            NaN   \n",
       "\n",
       "                                                  URL provider_old  \\\n",
       "0   https://bol.com/nl/nl/p/philips-sonicare-for-k...          bol   \n",
       "4   https://bol.com/nl/nl/p/philips-sonicare-diamo...          bol   \n",
       "6   https://bol.com/nl/nl/p/philips-sonicare-prote...          bol   \n",
       "8   https://bol.com/nl/nl/p/philips-sonicare-for-k...          bol   \n",
       "9   https://bol.com/nl/nl/p/philips-sonicare-diamo...          bol   \n",
       "12  https://bol.com/nl/nl/p/philips-sonicare-diamo...          bol   \n",
       "19  https://bol.com/nl/nl/p/philips-sonicare-prote...          bol   \n",
       "25  https://bol.com/nl/nl/p/brita-fill-enjoy-marel...          bol   \n",
       "\n",
       "                                             name_old  price_old  \\\n",
       "0   Philips Sonicare for kids HX6321/03 - Elektris...      39.95   \n",
       "4   Philips Sonicare DiamondClean 9000 HX9914/55 -...     209.15   \n",
       "6   Philips Sonicare ProtectiveClean 4300 HX6809/3...     118.99   \n",
       "8   Philips Sonicare For Kids HX6352/42 - Elektris...      39.95   \n",
       "9   Philips Sonicare DiamondClean Smart HX9924/13 ...     209.00   \n",
       "12  Philips Sonicare DiamondClean Smart HX9954/53 ...     228.99   \n",
       "19  Philips Sonicare ProtectiveClean 4500 HX6833/2...      99.99   \n",
       "25  BRITA fill&enjoy Marella Cool Graphite Half Ye...      52.94   \n",
       "\n",
       "    original_price_old                                            URL_old  \\\n",
       "0                  NaN  https://bol.com/nl/nl/p/philips-sonicare-for-k...   \n",
       "4                  NaN  https://bol.com/nl/nl/p/philips-sonicare-diamo...   \n",
       "6                  NaN  https://bol.com/nl/nl/p/philips-sonicare-prote...   \n",
       "8                  NaN  https://bol.com/nl/nl/p/philips-sonicare-for-k...   \n",
       "9                  NaN  https://bol.com/nl/nl/p/philips-sonicare-diamo...   \n",
       "12                 NaN  https://bol.com/nl/nl/p/philips-sonicare-diamo...   \n",
       "19                 NaN  https://bol.com/nl/nl/p/philips-sonicare-prote...   \n",
       "25                 NaN  https://bol.com/nl/nl/p/brita-fill-enjoy-marel...   \n",
       "\n",
       "    discount  \n",
       "0   0.199249  \n",
       "4   0.235047  \n",
       "6   0.218506  \n",
       "8   0.124155  \n",
       "9   0.186651  \n",
       "12  0.192148  \n",
       "19  0.170017  \n",
       "25  0.056479  "
      ]
     },
     "execution_count": 153,
     "metadata": {},
     "output_type": "execute_result"
    }
   ],
   "source": [
    "df_notify"
   ]
  },
  {
   "cell_type": "code",
   "execution_count": 141,
   "id": "333af001-b255-43cb-84dc-3f1c305f8fc6",
   "metadata": {},
   "outputs": [],
   "source": [
    "record = records[0]"
   ]
  },
  {
   "cell_type": "code",
   "execution_count": 151,
   "id": "d3a86eb5-54c1-4c13-a393-e2c38e4a2ac9",
   "metadata": {},
   "outputs": [],
   "source": [
    "records = df_notify.to_dict(orient = 'records')\n",
    "r = []\n",
    "for record in records:\n",
    "    price = record['price']\n",
    "    original_price = record['price_old']\n",
    "    url = record['URL']\n",
    "\n",
    "    r.append('\\n'.join([record['provider'], record['name'], f'{price}~{original_price}~',\n",
    "                            f'<{url}|Product Link>'\n",
    "                           ])\n",
    "            )"
   ]
  },
  {
   "cell_type": "code",
   "execution_count": 152,
   "id": "d8183df9-d57c-4e70-9618-1de89b991464",
   "metadata": {},
   "outputs": [
    {
     "data": {
      "text/plain": [
       "'bol\\nPhilips Sonicare for kids HX6321/03 - Elektrische Tandenborstel - Blauw\\n31.99~39.95~\\n<https://bol.com/nl/nl/p/philips-sonicare-for-kids-hx6321-03-elektrische-tandenborstel-blauw/9200000055111100/|Product Link>\\n\\nbol\\nPhilips Sonicare DiamondClean 9000 HX9914/55 - Elektrische tandenborstel - Wit - 2 stuks\\n159.99~209.15~\\n<https://bol.com/nl/nl/p/philips-sonicare-diamondclean-9000-hx9914-55-elektrische-tandenborstel-wit-2-stuks/9300000000290851/|Product Link>\\n\\nbol\\nPhilips Sonicare ProtectiveClean 4300 HX6809/35 Duo - Elektrische tandenborstel - Wit\\n92.99~118.99~\\n<https://bol.com/nl/nl/p/philips-sonicare-protectiveclean-4300-hx6809-35-duo-elektrische-tandenborstel-wit/9200000119412119/|Product Link>\\n\\nbol\\nPhilips Sonicare For Kids HX6352/42 - Elektrische tandenborstel - roze\\n34.99~39.95~\\n<https://bol.com/nl/nl/p/philips-sonicare-for-kids-hx6352-42-elektrische-tandenborstel-roze/9300000005081673/|Product Link>\\n\\nbol\\nPhilips Sonicare DiamondClean Smart HX9924/13 - Elektrische tandenborstel - Zwart\\n169.99~209.0~\\n<https://bol.com/nl/nl/p/philips-sonicare-diamondclean-smart-hx9924-13-elektrische-tandenborstel-zwart/9200000079522243/|Product Link>\\n\\nbol\\nPhilips Sonicare DiamondClean Smart HX9954/53 - Elektrische tandenborstel\\n184.99~228.99~\\n<https://bol.com/nl/nl/p/philips-sonicare-diamondclean-smart-hx9954-53-elektrische-tandenborstel/9200000079522241/|Product Link>\\n\\nbol\\nPhilips Sonicare ProtectiveClean 4500 HX6833/28 - Elektrische tandenborstel\\n82.99~99.99~\\n<https://bol.com/nl/nl/p/philips-sonicare-protectiveclean-4500-hx6833-28-elektrische-tandenborstel/9200000093063171/|Product Link>\\n\\nbol\\nBRITA fill&enjoy Marella Cool Graphite Half Year Pack\\n49.95~52.94~\\n<https://bol.com/nl/nl/p/brita-fill-enjoy-marella-cool-graphite-half-year-pack/9200000078316283/|Product Link>'"
      ]
     },
     "execution_count": 152,
     "metadata": {},
     "output_type": "execute_result"
    }
   ],
   "source": [
    "'\\n\\n'.join(r)"
   ]
  },
  {
   "cell_type": "markdown",
   "id": "415864ef-4138-4d48-982f-5f522df2d64a",
   "metadata": {},
   "source": [
    "# Dotenv"
   ]
  },
  {
   "cell_type": "code",
   "execution_count": null,
   "id": "daee9cec-12ae-4f11-b58b-86f2fea8c921",
   "metadata": {},
   "outputs": [],
   "source": [
    "from dotenv import find_dotenv, load_dotenv"
   ]
  },
  {
   "cell_type": "code",
   "execution_count": null,
   "id": "3501439a-4c6b-4e86-9056-3f102086dcd6",
   "metadata": {},
   "outputs": [],
   "source": [
    "load_dotenv(find_dotenv())"
   ]
  },
  {
   "cell_type": "code",
   "execution_count": null,
   "id": "35a3068c-caf3-4f9d-9368-29bdf7854984",
   "metadata": {},
   "outputs": [],
   "source": [
    "f = project_dir.parent / 'Utils'"
   ]
  },
  {
   "cell_type": "code",
   "execution_count": null,
   "id": "7fb11563-246f-4654-a27f-537970daa723",
   "metadata": {},
   "outputs": [],
   "source": [
    "f"
   ]
  },
  {
   "cell_type": "code",
   "execution_count": null,
   "id": "8329cb46-3a2d-48c9-89b6-6d4f15dd6881",
   "metadata": {},
   "outputs": [],
   "source": []
  }
 ],
 "metadata": {
  "kernelspec": {
   "display_name": "Python 3",
   "language": "python",
   "name": "python3"
  },
  "language_info": {
   "codemirror_mode": {
    "name": "ipython",
    "version": 3
   },
   "file_extension": ".py",
   "mimetype": "text/x-python",
   "name": "python",
   "nbconvert_exporter": "python",
   "pygments_lexer": "ipython3",
   "version": "3.6.9"
  }
 },
 "nbformat": 4,
 "nbformat_minor": 5
}
