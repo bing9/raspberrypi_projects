{
 "cells": [
  {
   "cell_type": "code",
   "execution_count": 1,
   "id": "f6b5911d-901b-478a-963e-96da267574f7",
   "metadata": {},
   "outputs": [],
   "source": [
    "import sys"
   ]
  },
  {
   "cell_type": "code",
   "execution_count": 2,
   "id": "bef77f82-5014-4049-9c5d-2b31be8aeda0",
   "metadata": {},
   "outputs": [],
   "source": [
    "import os"
   ]
  },
  {
   "cell_type": "code",
   "execution_count": 3,
   "id": "e95fe688-4831-4665-9a50-ba2dfaae2955",
   "metadata": {},
   "outputs": [],
   "source": [
    "from pathlib import Path"
   ]
  },
  {
   "cell_type": "code",
   "execution_count": 4,
   "id": "47b42edf-f5e3-446e-b539-b186f1e46d99",
   "metadata": {},
   "outputs": [],
   "source": [
    "project_dir = Path(__name__).resolve().parents[1]"
   ]
  },
  {
   "cell_type": "code",
   "execution_count": 5,
   "id": "e79ae3e3-01f5-4e5c-aa01-c1b9e0228399",
   "metadata": {},
   "outputs": [],
   "source": [
    "sys.path.insert(0, str(project_dir))"
   ]
  },
  {
   "cell_type": "code",
   "execution_count": 10,
   "id": "92226e8a-7612-4fc5-abbc-96f8802e53f1",
   "metadata": {},
   "outputs": [],
   "source": [
    "sys.path.insert(0, str(project_dir/'src'/'data'))"
   ]
  },
  {
   "cell_type": "code",
   "execution_count": 11,
   "id": "f9d0a004-a913-4c0d-b8eb-0c081153cb6b",
   "metadata": {},
   "outputs": [],
   "source": [
    "from scrape_bol import *"
   ]
  },
  {
   "cell_type": "code",
   "execution_count": 12,
   "id": "fc5ce263-f9a3-4ffa-a08c-ed7170935339",
   "metadata": {},
   "outputs": [],
   "source": [
    "from get_products import *"
   ]
  },
  {
   "cell_type": "code",
   "execution_count": 13,
   "id": "b852a4f4-b09c-4469-8a09-1a3dfea37a55",
   "metadata": {},
   "outputs": [],
   "source": [
    "from datetime import datetime"
   ]
  },
  {
   "cell_type": "code",
   "execution_count": null,
   "id": "271d364e-e2dd-48c7-b5ac-104d7c0b1fac",
   "metadata": {},
   "outputs": [],
   "source": [
    "s = SearchTerm(search_term='philips sonicare', search_domain = 'bol.com', max_pages = 1)"
   ]
  },
  {
   "cell_type": "code",
   "execution_count": null,
   "id": "fc7ec44c-d254-473c-9db2-25e15404f776",
   "metadata": {},
   "outputs": [],
   "source": [
    "len(s.productlist)"
   ]
  },
  {
   "cell_type": "code",
   "execution_count": null,
   "id": "472dd233-ac42-4685-9665-5734783ad956",
   "metadata": {},
   "outputs": [],
   "source": [
    "print(s.Scraper.page)"
   ]
  },
  {
   "cell_type": "code",
   "execution_count": null,
   "id": "d8154f7d-2d76-4483-a894-e2f2f67c6e9a",
   "metadata": {},
   "outputs": [],
   "source": [
    "dir(s)"
   ]
  },
  {
   "cell_type": "code",
   "execution_count": null,
   "id": "b54f1089-be73-4fc3-b2fb-e8dde492e1f5",
   "metadata": {},
   "outputs": [],
   "source": [
    "datetime.now().strftime(\"%Y-%m-%d %I:%M%p\")"
   ]
  },
  {
   "cell_type": "code",
   "execution_count": null,
   "id": "006f383f-c4fe-4644-b476-6df488a77f28",
   "metadata": {},
   "outputs": [],
   "source": [
    "to_save_data = ['\\t'.join([p.provider if p.provider else '', \n",
    "                          p.provider_id if p.provider_id else '', \n",
    "                           p.name  if p.name else '', \n",
    "                           p.price  if p.price else '', \n",
    "                           p.original_price  if p.original_price else '' ]) \n",
    "                for p in s.productlist]"
   ]
  },
  {
   "cell_type": "code",
   "execution_count": null,
   "id": "d9c11047-10cd-4247-ae67-1e51776d955f",
   "metadata": {},
   "outputs": [],
   "source": [
    "with open(\"../data/raw/price_tracker.tsv\", 'a') as file:\n",
    "    file.writelines(to_save_data)"
   ]
  },
  {
   "cell_type": "code",
   "execution_count": 213,
   "id": "4865d798-08b1-4365-bb52-b246eb41a69e",
   "metadata": {},
   "outputs": [],
   "source": [
    "bol = BolScraper('https://www.bol.com/nl/nl/s/?searchtext=brita')"
   ]
  },
  {
   "cell_type": "code",
   "execution_count": 221,
   "id": "e25ef8e4-88b3-4572-80b5-632290afb0fb",
   "metadata": {
    "tags": []
   },
   "outputs": [],
   "source": [
    "pl_bs4 = bol.page.find_all('li', attrs = {'class': 'product-item--row'})"
   ]
  },
  {
   "cell_type": "code",
   "execution_count": 228,
   "id": "c9418ce8-ec2a-4fa8-9155-91d4ca47d142",
   "metadata": {},
   "outputs": [],
   "source": [
    "example = [p for p in pl_bs4 if p.attrs['data-id'] == '9200000074016762'][0]"
   ]
  },
  {
   "cell_type": "code",
   "execution_count": null,
   "id": "aba9d642-7bb6-4d4f-b005-36720c05f1ec",
   "metadata": {},
   "outputs": [],
   "source": [
    "price = "
   ]
  },
  {
   "cell_type": "code",
   "execution_count": 237,
   "id": "4a6b8407-4376-4dfa-b018-2aff8479af24",
   "metadata": {},
   "outputs": [
    {
     "data": {
      "text/plain": [
       "'42'"
      ]
     },
     "execution_count": 237,
     "metadata": {},
     "output_type": "execute_result"
    }
   ],
   "source": [
    "example.find('span', attrs = {'data-test': 'price'}).contents[0].strip()"
   ]
  },
  {
   "cell_type": "code",
   "execution_count": 238,
   "id": "cfc23b07-1668-4b6c-a6e4-16d821b605d8",
   "metadata": {},
   "outputs": [
    {
     "data": {
      "text/plain": [
       "'94'"
      ]
     },
     "execution_count": 238,
     "metadata": {},
     "output_type": "execute_result"
    }
   ],
   "source": [
    "example.find('sup', attrs = {'data-test': 'price-fraction'}).contents[0].strip()"
   ]
  },
  {
   "cell_type": "code",
   "execution_count": null,
   "id": "edd23e86-7b02-490b-b03f-775920593256",
   "metadata": {},
   "outputs": [],
   "source": [
    "pl = bol.get_productlist()"
   ]
  },
  {
   "cell_type": "code",
   "execution_count": null,
   "id": "8ad8d333-a5a1-47bd-8200-2bd75c419a7c",
   "metadata": {},
   "outputs": [],
   "source": [
    "bol = BolScraper('https://www.bol.com/nl/nl/s/?page=8&searchtext=philips+sonicare&view=list') # No products"
   ]
  },
  {
   "cell_type": "code",
   "execution_count": null,
   "id": "56efac5e-f8dc-4768-a0e9-6d8351e2e3da",
   "metadata": {},
   "outputs": [],
   "source": [
    "pl = bol.get_productlist()"
   ]
  },
  {
   "cell_type": "code",
   "execution_count": null,
   "id": "ee8ccc24-850f-42f1-a631-df2062419746",
   "metadata": {},
   "outputs": [],
   "source": [
    "pl"
   ]
  },
  {
   "cell_type": "code",
   "execution_count": null,
   "id": "a24098a1-1d58-4c62-9215-8022c545c8e0",
   "metadata": {},
   "outputs": [],
   "source": [
    "# pl"
   ]
  },
  {
   "cell_type": "code",
   "execution_count": null,
   "id": "479f3a07-344e-440b-bae1-a273afbdbc9d",
   "metadata": {},
   "outputs": [],
   "source": [
    "from pathlib import Path"
   ]
  },
  {
   "cell_type": "code",
   "execution_count": null,
   "id": "2a603a4c-f5e1-4d49-a0af-3421a04cbacc",
   "metadata": {},
   "outputs": [],
   "source": [
    "project_dir = Path(__name__).resolve().parents[2]"
   ]
  },
  {
   "cell_type": "code",
   "execution_count": null,
   "id": "edf74c69-5dc5-4414-9084-804f7db0a0b2",
   "metadata": {},
   "outputs": [],
   "source": [
    "project_dir/'data'/'raw'/'example.csv'"
   ]
  },
  {
   "cell_type": "markdown",
   "id": "67c0ef8a-361f-4b39-b551-ad21f357714f",
   "metadata": {},
   "source": [
    "# Create DB"
   ]
  },
  {
   "cell_type": "code",
   "execution_count": null,
   "id": "e0e4752b-2e5f-4d61-afc9-7b427d071599",
   "metadata": {
    "tags": []
   },
   "outputs": [],
   "source": [
    "import sqlite3\n",
    "from sqlite3 import Error"
   ]
  },
  {
   "cell_type": "code",
   "execution_count": null,
   "id": "82e843bb-8c78-44d8-b28b-65a147612492",
   "metadata": {},
   "outputs": [],
   "source": [
    "conn = sqlite3.connect(\"../data/raw/price_tracker.db\",  timeout=10)"
   ]
  },
  {
   "cell_type": "code",
   "execution_count": null,
   "id": "99da5501-f2ee-440a-a94b-d8cb215b1a40",
   "metadata": {},
   "outputs": [],
   "source": [
    "sql_create_products_table = \"\"\" CREATE TABLE IF NOT EXISTS projects (\n",
    "                                    id integer PRIMARY KEY,\n",
    "                                    name text NOT NULL,\n",
    "                                    begin_date text,\n",
    "                                    end_date text\n",
    "                                ); \"\"\"\n",
    "\n",
    "sql_create_prices_table = \"\"\"CREATE TABLE IF NOT EXISTS prices (\n",
    "                                datetime datetime NOT NULL,\n",
    "                                provider text ,\n",
    "                                provider_id text,\n",
    "                                name text,\n",
    "                                price numeric,\n",
    "                                original_price numeric\n",
    "                            );\"\"\""
   ]
  },
  {
   "cell_type": "code",
   "execution_count": null,
   "id": "41d575c5-3403-4a84-881e-431bec7351b4",
   "metadata": {},
   "outputs": [],
   "source": [
    "def create_table(conn, create_table_sql):\n",
    "    \"\"\" create a table from the create_table_sql statement\n",
    "    :param conn: Connection object\n",
    "    :param create_table_sql: a CREATE TABLE statement\n",
    "    :return:\n",
    "    \"\"\"\n",
    "    try:\n",
    "        c = conn.cursor()\n",
    "        c.execute(create_table_sql)\n",
    "    except Error as e:\n",
    "        print(e)"
   ]
  },
  {
   "cell_type": "code",
   "execution_count": null,
   "id": "a6ee5146-e117-4154-8aed-7de281531aaa",
   "metadata": {},
   "outputs": [],
   "source": [
    "create_table(conn, sql_create_prices_table)"
   ]
  },
  {
   "cell_type": "code",
   "execution_count": null,
   "id": "25985a99-f393-410c-9133-53fad6302645",
   "metadata": {},
   "outputs": [],
   "source": [
    "conn.close()"
   ]
  },
  {
   "cell_type": "markdown",
   "id": "3806a0d8-daff-4b36-8d6f-ec6ac24118fe",
   "metadata": {},
   "source": [
    "# Pandas"
   ]
  },
  {
   "cell_type": "code",
   "execution_count": 260,
   "id": "61b64f1e-8395-49a1-8d0b-8609971e7fc9",
   "metadata": {},
   "outputs": [],
   "source": [
    "import pandas as pd\n",
    "\n",
    "data_dir = project_dir/'data'/'external'\n",
    "max_file = data_dir /'new_price.tsv'\n",
    "second_max_file = data_dir / 'old_price.tsv'\n",
    "\n",
    "df_max = pd.read_csv(max_file, sep = '\\t')\n",
    "df_second_max = pd.read_csv(second_max_file, sep = '\\t')\n",
    "\n",
    "df = pd.merge(df_second_max, df_max, left_on = ['provider_id'], right_on = ['provider_id'], \n",
    "        suffixes = (None, '_old'))\n",
    "\n",
    "df['discount'] = 1 - df['price'] / df['price_old'].str.strip('-').astype(float)\n",
    "\n",
    "df_notify = df[df['discount'] >=0.05]\n",
    "\n",
    "cols = ['provider', 'name', 'price', 'price_old', 'URL']\n",
    "\n",
    "if len(df_notify)>0:\n",
    "    records = df_notify[cols].to_records(index = False)"
   ]
  },
  {
   "cell_type": "code",
   "execution_count": 262,
   "id": "333af001-b255-43cb-84dc-3f1c305f8fc6",
   "metadata": {},
   "outputs": [],
   "source": [
    "record = records[0]"
   ]
  },
  {
   "cell_type": "code",
   "execution_count": 263,
   "id": "d3a86eb5-54c1-4c13-a393-e2c38e4a2ac9",
   "metadata": {},
   "outputs": [],
   "source": [
    "records = df_notify.to_dict(orient = 'records')\n",
    "r = []\n",
    "for record in records:\n",
    "    price = record['price']\n",
    "    original_price = record['price_old']\n",
    "    url = record['URL']\n",
    "\n",
    "    r.append('\\n'.join([record['provider'], record['name'], f'{price}~{original_price}~',\n",
    "                            f'<{url}|Product Link>'\n",
    "                           ])\n",
    "            )"
   ]
  },
  {
   "cell_type": "code",
   "execution_count": 264,
   "id": "d8183df9-d57c-4e70-9618-1de89b991464",
   "metadata": {},
   "outputs": [
    {
     "data": {
      "text/plain": [
       "''"
      ]
     },
     "execution_count": 264,
     "metadata": {},
     "output_type": "execute_result"
    }
   ],
   "source": [
    "'\\n\\n'.join(r)"
   ]
  },
  {
   "cell_type": "markdown",
   "id": "74a75bb7-56c8-409b-988d-a112f7d178d5",
   "metadata": {},
   "source": [
    "# Pandas All Files"
   ]
  },
  {
   "cell_type": "code",
   "execution_count": 173,
   "id": "02c6d935-1c69-428b-ae90-498a4f8e05a9",
   "metadata": {},
   "outputs": [],
   "source": [
    "from concurrent.futures import ProcessPoolExecutor\n",
    "import pandas as pd"
   ]
  },
  {
   "cell_type": "code",
   "execution_count": 160,
   "id": "457d4b84-45c6-4228-b165-44574de10d2c",
   "metadata": {},
   "outputs": [],
   "source": [
    "data_dir = project_dir/'data'/'raw'"
   ]
  },
  {
   "cell_type": "code",
   "execution_count": 170,
   "id": "57216629-2a5d-42aa-bd88-e6ddc7a9dcfc",
   "metadata": {},
   "outputs": [],
   "source": [
    "example_file = list(data_dir.iterdir())[0]"
   ]
  },
  {
   "cell_type": "code",
   "execution_count": 189,
   "id": "1a224230-1393-462c-bc38-236a8b35ad68",
   "metadata": {},
   "outputs": [
    {
     "data": {
      "text/plain": [
       "'2021-10-05 12:00PM.tsv'"
      ]
     },
     "execution_count": 189,
     "metadata": {},
     "output_type": "execute_result"
    }
   ],
   "source": [
    "example_file.name"
   ]
  },
  {
   "cell_type": "code",
   "execution_count": 194,
   "id": "24cb43b0-b840-4a47-a356-caa2ae430a44",
   "metadata": {},
   "outputs": [],
   "source": [
    "def read_each_tsv(file):\n",
    "    try:\n",
    "        df = pd.read_csv(file, sep = '\\t', )\n",
    "        df['parse_date'] = file.name.rstrip('.tsv')\n",
    "        return df\n",
    "    except:\n",
    "        print(file)"
   ]
  },
  {
   "cell_type": "code",
   "execution_count": 239,
   "id": "aa3674c1-b052-4c24-9389-a66b6a6e95f4",
   "metadata": {},
   "outputs": [
    {
     "name": "stdout",
     "output_type": "stream",
     "text": [
      "/home/jetson/pi_projects/raspberrypi_projects/price_tracker/data/raw/.gitkeep\n"
     ]
    }
   ],
   "source": [
    "with ProcessPoolExecutor() as pool:\n",
    "    results = pool.map(read_each_tsv, data_dir.iterdir())"
   ]
  },
  {
   "cell_type": "code",
   "execution_count": 240,
   "id": "219ee006-11d2-492c-9df2-f7453a0b2e50",
   "metadata": {},
   "outputs": [],
   "source": [
    "df = pd.concat(results)"
   ]
  },
  {
   "cell_type": "code",
   "execution_count": 241,
   "id": "586ba901-ebc7-4fa8-bd63-1d393f9ec826",
   "metadata": {},
   "outputs": [],
   "source": [
    "df['parse_date'] = pd.to_datetime(df['parse_date'])"
   ]
  },
  {
   "cell_type": "code",
   "execution_count": 252,
   "id": "687e7c23-cb26-4d60-9664-408297149566",
   "metadata": {},
   "outputs": [],
   "source": [
    "df_brita = df[df['name'].str.contains('BRITA Waterfilterkan Style Cool Blue')].copy()"
   ]
  },
  {
   "cell_type": "code",
   "execution_count": 253,
   "id": "8059c776-c5e1-42b1-bf45-46f9e15e49cc",
   "metadata": {},
   "outputs": [],
   "source": [
    "df_brita.set_index('parse_date', inplace = True)"
   ]
  },
  {
   "cell_type": "code",
   "execution_count": 254,
   "id": "408211f4-ec65-4b61-9add-94d3bea9e890",
   "metadata": {},
   "outputs": [],
   "source": [
    "df_brita.sort_index(inplace = True)"
   ]
  },
  {
   "cell_type": "code",
   "execution_count": 255,
   "id": "55556cd7-e213-40bd-8931-e9b5a3d09e99",
   "metadata": {},
   "outputs": [
    {
     "data": {
      "text/html": [
       "<div>\n",
       "<style scoped>\n",
       "    .dataframe tbody tr th:only-of-type {\n",
       "        vertical-align: middle;\n",
       "    }\n",
       "\n",
       "    .dataframe tbody tr th {\n",
       "        vertical-align: top;\n",
       "    }\n",
       "\n",
       "    .dataframe thead th {\n",
       "        text-align: right;\n",
       "    }\n",
       "</style>\n",
       "<table border=\"1\" class=\"dataframe\">\n",
       "  <thead>\n",
       "    <tr style=\"text-align: right;\">\n",
       "      <th></th>\n",
       "      <th>provider</th>\n",
       "      <th>provider_id</th>\n",
       "      <th>name</th>\n",
       "      <th>price</th>\n",
       "      <th>original_price</th>\n",
       "      <th>URL</th>\n",
       "    </tr>\n",
       "    <tr>\n",
       "      <th>parse_date</th>\n",
       "      <th></th>\n",
       "      <th></th>\n",
       "      <th></th>\n",
       "      <th></th>\n",
       "      <th></th>\n",
       "      <th></th>\n",
       "    </tr>\n",
       "  </thead>\n",
       "  <tbody>\n",
       "    <tr>\n",
       "      <th>2021-10-06 05:02:00</th>\n",
       "      <td>bol</td>\n",
       "      <td>9200000074016762</td>\n",
       "      <td>BRITA Waterfilterkan Style Cool Blue 2,4L + 3 ...</td>\n",
       "      <td>42.94</td>\n",
       "      <td>NaN</td>\n",
       "      <td>https://bol.com/nl/nl/p/brita-waterfilterkan-s...</td>\n",
       "    </tr>\n",
       "    <tr>\n",
       "      <th>2021-10-06 06:02:00</th>\n",
       "      <td>bol</td>\n",
       "      <td>9200000074016762</td>\n",
       "      <td>BRITA Waterfilterkan Style Cool Blue 2,4L + 3 ...</td>\n",
       "      <td>42.94</td>\n",
       "      <td>NaN</td>\n",
       "      <td>https://bol.com/nl/nl/p/brita-waterfilterkan-s...</td>\n",
       "    </tr>\n",
       "    <tr>\n",
       "      <th>2021-10-06 07:02:00</th>\n",
       "      <td>bol</td>\n",
       "      <td>9200000074016762</td>\n",
       "      <td>BRITA Waterfilterkan Style Cool Blue 2,4L + 3 ...</td>\n",
       "      <td>NaN</td>\n",
       "      <td>NaN</td>\n",
       "      <td>https://bol.com/nl/nl/p/brita-waterfilterkan-s...</td>\n",
       "    </tr>\n",
       "    <tr>\n",
       "      <th>2021-10-06 08:02:00</th>\n",
       "      <td>bol</td>\n",
       "      <td>9200000074016762</td>\n",
       "      <td>BRITA Waterfilterkan Style Cool Blue 2,4L + 3 ...</td>\n",
       "      <td>42.94</td>\n",
       "      <td>NaN</td>\n",
       "      <td>https://bol.com/nl/nl/p/brita-waterfilterkan-s...</td>\n",
       "    </tr>\n",
       "    <tr>\n",
       "      <th>2021-10-06 08:34:00</th>\n",
       "      <td>bol</td>\n",
       "      <td>9200000074016762</td>\n",
       "      <td>BRITA Waterfilterkan Style Cool Blue 2,4L + 3 ...</td>\n",
       "      <td>42.94</td>\n",
       "      <td>NaN</td>\n",
       "      <td>https://bol.com/nl/nl/p/brita-waterfilterkan-s...</td>\n",
       "    </tr>\n",
       "  </tbody>\n",
       "</table>\n",
       "</div>"
      ],
      "text/plain": [
       "                    provider       provider_id  \\\n",
       "parse_date                                       \n",
       "2021-10-06 05:02:00      bol  9200000074016762   \n",
       "2021-10-06 06:02:00      bol  9200000074016762   \n",
       "2021-10-06 07:02:00      bol  9200000074016762   \n",
       "2021-10-06 08:02:00      bol  9200000074016762   \n",
       "2021-10-06 08:34:00      bol  9200000074016762   \n",
       "\n",
       "                                                                  name  price  \\\n",
       "parse_date                                                                      \n",
       "2021-10-06 05:02:00  BRITA Waterfilterkan Style Cool Blue 2,4L + 3 ...  42.94   \n",
       "2021-10-06 06:02:00  BRITA Waterfilterkan Style Cool Blue 2,4L + 3 ...  42.94   \n",
       "2021-10-06 07:02:00  BRITA Waterfilterkan Style Cool Blue 2,4L + 3 ...    NaN   \n",
       "2021-10-06 08:02:00  BRITA Waterfilterkan Style Cool Blue 2,4L + 3 ...  42.94   \n",
       "2021-10-06 08:34:00  BRITA Waterfilterkan Style Cool Blue 2,4L + 3 ...  42.94   \n",
       "\n",
       "                    original_price  \\\n",
       "parse_date                           \n",
       "2021-10-06 05:02:00            NaN   \n",
       "2021-10-06 06:02:00            NaN   \n",
       "2021-10-06 07:02:00            NaN   \n",
       "2021-10-06 08:02:00            NaN   \n",
       "2021-10-06 08:34:00            NaN   \n",
       "\n",
       "                                                                   URL  \n",
       "parse_date                                                              \n",
       "2021-10-06 05:02:00  https://bol.com/nl/nl/p/brita-waterfilterkan-s...  \n",
       "2021-10-06 06:02:00  https://bol.com/nl/nl/p/brita-waterfilterkan-s...  \n",
       "2021-10-06 07:02:00  https://bol.com/nl/nl/p/brita-waterfilterkan-s...  \n",
       "2021-10-06 08:02:00  https://bol.com/nl/nl/p/brita-waterfilterkan-s...  \n",
       "2021-10-06 08:34:00  https://bol.com/nl/nl/p/brita-waterfilterkan-s...  "
      ]
     },
     "execution_count": 255,
     "metadata": {},
     "output_type": "execute_result"
    }
   ],
   "source": [
    "df_brita.tail()"
   ]
  },
  {
   "cell_type": "markdown",
   "id": "415864ef-4138-4d48-982f-5f522df2d64a",
   "metadata": {},
   "source": [
    "# Dotenv"
   ]
  },
  {
   "cell_type": "code",
   "execution_count": null,
   "id": "daee9cec-12ae-4f11-b58b-86f2fea8c921",
   "metadata": {},
   "outputs": [],
   "source": [
    "from dotenv import find_dotenv, load_dotenv"
   ]
  },
  {
   "cell_type": "code",
   "execution_count": null,
   "id": "3501439a-4c6b-4e86-9056-3f102086dcd6",
   "metadata": {},
   "outputs": [],
   "source": [
    "load_dotenv(find_dotenv())"
   ]
  },
  {
   "cell_type": "code",
   "execution_count": null,
   "id": "35a3068c-caf3-4f9d-9368-29bdf7854984",
   "metadata": {},
   "outputs": [],
   "source": [
    "f = project_dir.parent / 'Utils'"
   ]
  },
  {
   "cell_type": "code",
   "execution_count": null,
   "id": "7fb11563-246f-4654-a27f-537970daa723",
   "metadata": {},
   "outputs": [],
   "source": [
    "f"
   ]
  },
  {
   "cell_type": "markdown",
   "id": "1af153d2-d172-4977-932c-3abcf5e09e77",
   "metadata": {},
   "source": [
    "# Selenium Driver"
   ]
  },
  {
   "cell_type": "code",
   "execution_count": 14,
   "id": "8d4321ac-0b47-4409-a25e-25f66a83be15",
   "metadata": {},
   "outputs": [],
   "source": [
    "bol = BolScraper('https://www.bol.com/nl/nl/s/?searchtext=brita', driver_method = 'selenium')"
   ]
  },
  {
   "cell_type": "code",
   "execution_count": 15,
   "id": "b75d6b71-cbcd-4d84-bb46-f572f3538c89",
   "metadata": {},
   "outputs": [],
   "source": [
    "pl = bol.get_productlist()"
   ]
  },
  {
   "cell_type": "code",
   "execution_count": 20,
   "id": "abc63169-4a58-4a2f-ab34-968af4376838",
   "metadata": {},
   "outputs": [
    {
     "data": {
      "text/plain": [
       "<selenium.webdriver.chrome.webdriver.WebDriver (session=\"366ffb8fb0c52d2d66a149f2cd27670c\")>"
      ]
     },
     "execution_count": 20,
     "metadata": {},
     "output_type": "execute_result"
    }
   ],
   "source": [
    "bol.driver"
   ]
  },
  {
   "cell_type": "code",
   "execution_count": 17,
   "id": "697b7536-31b5-4ff8-ae14-d9ce4f7d07a6",
   "metadata": {},
   "outputs": [],
   "source": [
    "# pl"
   ]
  },
  {
   "cell_type": "code",
   "execution_count": 18,
   "id": "6c7721dd-89d7-4e1d-8991-abe07b878b3a",
   "metadata": {},
   "outputs": [],
   "source": [
    "bol.close()"
   ]
  },
  {
   "cell_type": "code",
   "execution_count": null,
   "id": "3addb4d3-64bb-4c05-a0c2-4435c31e1875",
   "metadata": {},
   "outputs": [],
   "source": []
  }
 ],
 "metadata": {
  "kernelspec": {
   "display_name": "Python 3",
   "language": "python",
   "name": "python3"
  },
  "language_info": {
   "codemirror_mode": {
    "name": "ipython",
    "version": 3
   },
   "file_extension": ".py",
   "mimetype": "text/x-python",
   "name": "python",
   "nbconvert_exporter": "python",
   "pygments_lexer": "ipython3",
   "version": "3.6.9"
  }
 },
 "nbformat": 4,
 "nbformat_minor": 5
}
