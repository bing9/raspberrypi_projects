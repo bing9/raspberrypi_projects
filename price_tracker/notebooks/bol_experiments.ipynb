{
 "cells": [
  {
   "cell_type": "code",
   "execution_count": null,
   "id": "f6b5911d-901b-478a-963e-96da267574f7",
   "metadata": {},
   "outputs": [],
   "source": [
    "import sys"
   ]
  },
  {
   "cell_type": "code",
   "execution_count": null,
   "id": "bef77f82-5014-4049-9c5d-2b31be8aeda0",
   "metadata": {},
   "outputs": [],
   "source": [
    "import os"
   ]
  },
  {
   "cell_type": "code",
   "execution_count": null,
   "id": "e95fe688-4831-4665-9a50-ba2dfaae2955",
   "metadata": {},
   "outputs": [],
   "source": [
    "from pathlib import Path"
   ]
  },
  {
   "cell_type": "code",
   "execution_count": null,
   "id": "47b42edf-f5e3-446e-b539-b186f1e46d99",
   "metadata": {},
   "outputs": [],
   "source": [
    "project_dir = Path(__name__).resolve().parents[1]"
   ]
  },
  {
   "cell_type": "code",
   "execution_count": null,
   "id": "e79ae3e3-01f5-4e5c-aa01-c1b9e0228399",
   "metadata": {},
   "outputs": [],
   "source": [
    "sys.path.insert(0, str(project_dir/'src'/'data'))"
   ]
  },
  {
   "cell_type": "code",
   "execution_count": null,
   "id": "f9d0a004-a913-4c0d-b8eb-0c081153cb6b",
   "metadata": {},
   "outputs": [],
   "source": [
    "from scrape_bol import *"
   ]
  },
  {
   "cell_type": "code",
   "execution_count": null,
   "id": "fc5ce263-f9a3-4ffa-a08c-ed7170935339",
   "metadata": {},
   "outputs": [],
   "source": [
    "from create_products import *"
   ]
  },
  {
   "cell_type": "code",
   "execution_count": null,
   "id": "b852a4f4-b09c-4469-8a09-1a3dfea37a55",
   "metadata": {},
   "outputs": [],
   "source": [
    "from datetime import datetime"
   ]
  },
  {
   "cell_type": "code",
   "execution_count": null,
   "id": "271d364e-e2dd-48c7-b5ac-104d7c0b1fac",
   "metadata": {},
   "outputs": [],
   "source": [
    "s = SearchTerm(search_term='philips sonicare', search_domain = 'bol.com', max_pages = 1)"
   ]
  },
  {
   "cell_type": "code",
   "execution_count": null,
   "id": "fc7ec44c-d254-473c-9db2-25e15404f776",
   "metadata": {},
   "outputs": [],
   "source": [
    "len(s.productlist)"
   ]
  },
  {
   "cell_type": "code",
   "execution_count": null,
   "id": "472dd233-ac42-4685-9665-5734783ad956",
   "metadata": {},
   "outputs": [],
   "source": [
    "print(s.Scraper.page)"
   ]
  },
  {
   "cell_type": "code",
   "execution_count": null,
   "id": "d8154f7d-2d76-4483-a894-e2f2f67c6e9a",
   "metadata": {},
   "outputs": [],
   "source": [
    "dir(s)"
   ]
  },
  {
   "cell_type": "code",
   "execution_count": null,
   "id": "b54f1089-be73-4fc3-b2fb-e8dde492e1f5",
   "metadata": {},
   "outputs": [],
   "source": [
    "datetime.now().strftime(\"%Y-%m-%d %I:%M%p\")"
   ]
  },
  {
   "cell_type": "code",
   "execution_count": null,
   "id": "006f383f-c4fe-4644-b476-6df488a77f28",
   "metadata": {},
   "outputs": [],
   "source": [
    "to_save_data = ['\\t'.join([p.provider if p.provider else '', \n",
    "                          p.provider_id if p.provider_id else '', \n",
    "                           p.name  if p.name else '', \n",
    "                           p.price  if p.price else '', \n",
    "                           p.original_price  if p.original_price else '' ]) \n",
    "                for p in s.productlist]"
   ]
  },
  {
   "cell_type": "code",
   "execution_count": null,
   "id": "d9c11047-10cd-4247-ae67-1e51776d955f",
   "metadata": {},
   "outputs": [],
   "source": [
    "with open(\"../data/raw/price_tracker.tsv\", 'a') as file:\n",
    "    file.writelines(to_save_data)"
   ]
  },
  {
   "cell_type": "code",
   "execution_count": null,
   "id": "4865d798-08b1-4365-bb52-b246eb41a69e",
   "metadata": {},
   "outputs": [],
   "source": [
    "bol = BolScraper('https://www.bol.com/nl/nl/s/?searchtext=philips+sonicare')"
   ]
  },
  {
   "cell_type": "code",
   "execution_count": null,
   "id": "edd23e86-7b02-490b-b03f-775920593256",
   "metadata": {},
   "outputs": [],
   "source": [
    "pl = bol.get_productlist()"
   ]
  },
  {
   "cell_type": "code",
   "execution_count": null,
   "id": "8ad8d333-a5a1-47bd-8200-2bd75c419a7c",
   "metadata": {},
   "outputs": [],
   "source": [
    "bol = BolScraper('https://www.bol.com/nl/nl/s/?page=8&searchtext=philips+sonicare&view=list') # No products"
   ]
  },
  {
   "cell_type": "code",
   "execution_count": null,
   "id": "56efac5e-f8dc-4768-a0e9-6d8351e2e3da",
   "metadata": {},
   "outputs": [],
   "source": [
    "pl = bol.get_productlist()"
   ]
  },
  {
   "cell_type": "code",
   "execution_count": null,
   "id": "ee8ccc24-850f-42f1-a631-df2062419746",
   "metadata": {},
   "outputs": [],
   "source": [
    "pl"
   ]
  },
  {
   "cell_type": "code",
   "execution_count": null,
   "id": "a24098a1-1d58-4c62-9215-8022c545c8e0",
   "metadata": {},
   "outputs": [],
   "source": [
    "# pl"
   ]
  },
  {
   "cell_type": "code",
   "execution_count": null,
   "id": "479f3a07-344e-440b-bae1-a273afbdbc9d",
   "metadata": {},
   "outputs": [],
   "source": [
    "from pathlib import Path"
   ]
  },
  {
   "cell_type": "code",
   "execution_count": null,
   "id": "2a603a4c-f5e1-4d49-a0af-3421a04cbacc",
   "metadata": {},
   "outputs": [],
   "source": [
    "project_dir = Path(__name__).resolve().parents[2]"
   ]
  },
  {
   "cell_type": "code",
   "execution_count": null,
   "id": "edf74c69-5dc5-4414-9084-804f7db0a0b2",
   "metadata": {},
   "outputs": [],
   "source": [
    "project_dir/'data'/'raw'/'example.csv'"
   ]
  },
  {
   "cell_type": "markdown",
   "id": "67c0ef8a-361f-4b39-b551-ad21f357714f",
   "metadata": {},
   "source": [
    "# Create DB"
   ]
  },
  {
   "cell_type": "code",
   "execution_count": null,
   "id": "e0e4752b-2e5f-4d61-afc9-7b427d071599",
   "metadata": {
    "tags": []
   },
   "outputs": [],
   "source": [
    "import sqlite3\n",
    "from sqlite3 import Error"
   ]
  },
  {
   "cell_type": "code",
   "execution_count": null,
   "id": "82e843bb-8c78-44d8-b28b-65a147612492",
   "metadata": {},
   "outputs": [],
   "source": [
    "conn = sqlite3.connect(\"../data/raw/price_tracker.db\",  timeout=10)"
   ]
  },
  {
   "cell_type": "code",
   "execution_count": null,
   "id": "99da5501-f2ee-440a-a94b-d8cb215b1a40",
   "metadata": {},
   "outputs": [],
   "source": [
    "sql_create_products_table = \"\"\" CREATE TABLE IF NOT EXISTS projects (\n",
    "                                    id integer PRIMARY KEY,\n",
    "                                    name text NOT NULL,\n",
    "                                    begin_date text,\n",
    "                                    end_date text\n",
    "                                ); \"\"\"\n",
    "\n",
    "sql_create_prices_table = \"\"\"CREATE TABLE IF NOT EXISTS prices (\n",
    "                                datetime datetime NOT NULL,\n",
    "                                provider text ,\n",
    "                                provider_id text,\n",
    "                                name text,\n",
    "                                price numeric,\n",
    "                                original_price numeric\n",
    "                            );\"\"\""
   ]
  },
  {
   "cell_type": "code",
   "execution_count": null,
   "id": "41d575c5-3403-4a84-881e-431bec7351b4",
   "metadata": {},
   "outputs": [],
   "source": [
    "def create_table(conn, create_table_sql):\n",
    "    \"\"\" create a table from the create_table_sql statement\n",
    "    :param conn: Connection object\n",
    "    :param create_table_sql: a CREATE TABLE statement\n",
    "    :return:\n",
    "    \"\"\"\n",
    "    try:\n",
    "        c = conn.cursor()\n",
    "        c.execute(create_table_sql)\n",
    "    except Error as e:\n",
    "        print(e)"
   ]
  },
  {
   "cell_type": "code",
   "execution_count": null,
   "id": "a6ee5146-e117-4154-8aed-7de281531aaa",
   "metadata": {},
   "outputs": [],
   "source": [
    "create_table(conn, sql_create_prices_table)"
   ]
  },
  {
   "cell_type": "code",
   "execution_count": null,
   "id": "25985a99-f393-410c-9133-53fad6302645",
   "metadata": {},
   "outputs": [],
   "source": [
    "conn.close()"
   ]
  },
  {
   "cell_type": "code",
   "execution_count": null,
   "id": "14628e44-9a2d-439e-969f-f75ba49d87d6",
   "metadata": {},
   "outputs": [],
   "source": []
  }
 ],
 "metadata": {
  "kernelspec": {
   "display_name": "Python 3",
   "language": "python",
   "name": "python3"
  },
  "language_info": {
   "codemirror_mode": {
    "name": "ipython",
    "version": 3
   },
   "file_extension": ".py",
   "mimetype": "text/x-python",
   "name": "python",
   "nbconvert_exporter": "python",
   "pygments_lexer": "ipython3",
   "version": "3.6.9"
  }
 },
 "nbformat": 4,
 "nbformat_minor": 5
}
