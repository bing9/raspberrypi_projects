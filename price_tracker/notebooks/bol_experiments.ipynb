{
 "cells": [
  {
   "cell_type": "code",
   "execution_count": 1,
   "id": "f6b5911d-901b-478a-963e-96da267574f7",
   "metadata": {},
   "outputs": [],
   "source": [
    "import sys"
   ]
  },
  {
   "cell_type": "code",
   "execution_count": 2,
   "id": "bef77f82-5014-4049-9c5d-2b31be8aeda0",
   "metadata": {},
   "outputs": [],
   "source": [
    "import os"
   ]
  },
  {
   "cell_type": "code",
   "execution_count": 3,
   "id": "e95fe688-4831-4665-9a50-ba2dfaae2955",
   "metadata": {},
   "outputs": [],
   "source": [
    "from pathlib import Path"
   ]
  },
  {
   "cell_type": "code",
   "execution_count": 4,
   "id": "47b42edf-f5e3-446e-b539-b186f1e46d99",
   "metadata": {},
   "outputs": [],
   "source": [
    "project_dir = Path(__name__).resolve().parents[1]"
   ]
  },
  {
   "cell_type": "code",
   "execution_count": 5,
   "id": "e79ae3e3-01f5-4e5c-aa01-c1b9e0228399",
   "metadata": {},
   "outputs": [],
   "source": [
    "sys.path.insert(0, str(project_dir))"
   ]
  },
  {
   "cell_type": "code",
   "execution_count": 6,
   "id": "92226e8a-7612-4fc5-abbc-96f8802e53f1",
   "metadata": {},
   "outputs": [],
   "source": [
    "sys.path.insert(0, str(project_dir/'src'/'data'))"
   ]
  },
  {
   "cell_type": "code",
   "execution_count": 7,
   "id": "f9d0a004-a913-4c0d-b8eb-0c081153cb6b",
   "metadata": {},
   "outputs": [],
   "source": [
    "from scrape_bol import *"
   ]
  },
  {
   "cell_type": "code",
   "execution_count": 8,
   "id": "fc5ce263-f9a3-4ffa-a08c-ed7170935339",
   "metadata": {},
   "outputs": [],
   "source": [
    "from searchterm import *"
   ]
  },
  {
   "cell_type": "code",
   "execution_count": 9,
   "id": "b852a4f4-b09c-4469-8a09-1a3dfea37a55",
   "metadata": {},
   "outputs": [],
   "source": [
    "from datetime import datetime"
   ]
  },
  {
   "cell_type": "code",
   "execution_count": 10,
   "id": "cdd77e91-6562-47a5-adde-b2922c35c132",
   "metadata": {},
   "outputs": [],
   "source": [
    "s = SearchTerm(search_term='philips', search_domain = 'bcc.nl', max_pages = 1,\n",
    "              driver_method = 'requests')"
   ]
  },
  {
   "cell_type": "code",
   "execution_count": 27,
   "id": "271d364e-e2dd-48c7-b5ac-104d7c0b1fac",
   "metadata": {},
   "outputs": [],
   "source": [
    "s = SearchTerm(search_term='illy', search_domain = 'bol.com', max_pages = 1)"
   ]
  },
  {
   "cell_type": "code",
   "execution_count": null,
   "id": "fc7ec44c-d254-473c-9db2-25e15404f776",
   "metadata": {},
   "outputs": [],
   "source": [
    "len(s.productlist)"
   ]
  },
  {
   "cell_type": "code",
   "execution_count": null,
   "id": "472dd233-ac42-4685-9665-5734783ad956",
   "metadata": {},
   "outputs": [],
   "source": [
    "print(s.Scraper.page)"
   ]
  },
  {
   "cell_type": "code",
   "execution_count": null,
   "id": "d8154f7d-2d76-4483-a894-e2f2f67c6e9a",
   "metadata": {},
   "outputs": [],
   "source": [
    "dir(s)"
   ]
  },
  {
   "cell_type": "code",
   "execution_count": null,
   "id": "b54f1089-be73-4fc3-b2fb-e8dde492e1f5",
   "metadata": {},
   "outputs": [],
   "source": [
    "datetime.now().strftime(\"%Y-%m-%d %I:%M%p\")"
   ]
  },
  {
   "cell_type": "code",
   "execution_count": null,
   "id": "006f383f-c4fe-4644-b476-6df488a77f28",
   "metadata": {},
   "outputs": [],
   "source": [
    "to_save_data = ['\\t'.join([p.provider if p.provider else '', \n",
    "                          p.provider_id if p.provider_id else '', \n",
    "                           p.name  if p.name else '', \n",
    "                           p.price  if p.price else '', \n",
    "                           p.original_price  if p.original_price else '' ]) \n",
    "                for p in s.productlist]"
   ]
  },
  {
   "cell_type": "code",
   "execution_count": null,
   "id": "d9c11047-10cd-4247-ae67-1e51776d955f",
   "metadata": {},
   "outputs": [],
   "source": [
    "with open(\"../data/raw/price_tracker.tsv\", 'a') as file:\n",
    "    file.writelines(to_save_data)"
   ]
  },
  {
   "cell_type": "code",
   "execution_count": 10,
   "id": "4865d798-08b1-4365-bb52-b246eb41a69e",
   "metadata": {},
   "outputs": [],
   "source": [
    "bol = BolScraper('https://www.bol.com/nl/nl/s/?searchtext=brita')"
   ]
  },
  {
   "cell_type": "code",
   "execution_count": 11,
   "id": "e25ef8e4-88b3-4572-80b5-632290afb0fb",
   "metadata": {
    "tags": []
   },
   "outputs": [],
   "source": [
    "pl_bs4 = bol.page.find_all('li', attrs = {'class': 'product-item--row'})"
   ]
  },
  {
   "cell_type": "code",
   "execution_count": 12,
   "id": "c9418ce8-ec2a-4fa8-9155-91d4ca47d142",
   "metadata": {},
   "outputs": [],
   "source": [
    "example = [p for p in pl_bs4 if p.attrs['data-id'] == '9200000074016762'][0]"
   ]
  },
  {
   "cell_type": "code",
   "execution_count": 237,
   "id": "4a6b8407-4376-4dfa-b018-2aff8479af24",
   "metadata": {},
   "outputs": [
    {
     "data": {
      "text/plain": [
       "'42'"
      ]
     },
     "execution_count": 237,
     "metadata": {},
     "output_type": "execute_result"
    }
   ],
   "source": [
    "example.find('span', attrs = {'data-test': 'price'}).contents[0].strip()"
   ]
  },
  {
   "cell_type": "code",
   "execution_count": 238,
   "id": "cfc23b07-1668-4b6c-a6e4-16d821b605d8",
   "metadata": {},
   "outputs": [
    {
     "data": {
      "text/plain": [
       "'94'"
      ]
     },
     "execution_count": 238,
     "metadata": {},
     "output_type": "execute_result"
    }
   ],
   "source": [
    "example.find('sup', attrs = {'data-test': 'price-fraction'}).contents[0].strip()"
   ]
  },
  {
   "cell_type": "code",
   "execution_count": 14,
   "id": "edd23e86-7b02-490b-b03f-775920593256",
   "metadata": {},
   "outputs": [],
   "source": [
    "pl = bol.get_productlist()"
   ]
  },
  {
   "cell_type": "code",
   "execution_count": 15,
   "id": "d67ea915-7d4f-4230-8c22-796d81fae805",
   "metadata": {},
   "outputs": [
    {
     "data": {
      "text/plain": [
       "[]"
      ]
     },
     "execution_count": 15,
     "metadata": {},
     "output_type": "execute_result"
    }
   ],
   "source": [
    "pl"
   ]
  },
  {
   "cell_type": "code",
   "execution_count": 16,
   "id": "8ad8d333-a5a1-47bd-8200-2bd75c419a7c",
   "metadata": {},
   "outputs": [],
   "source": [
    "bol = BolScraper('https://www.bol.com/nl/nl/s/?page=8&searchtext=philips+sonicare&view=list') # No products"
   ]
  },
  {
   "cell_type": "code",
   "execution_count": 17,
   "id": "56efac5e-f8dc-4768-a0e9-6d8351e2e3da",
   "metadata": {},
   "outputs": [],
   "source": [
    "pl = bol.get_productlist()"
   ]
  },
  {
   "cell_type": "code",
   "execution_count": 21,
   "id": "66f962c3-308b-45bf-aaeb-49356641965d",
   "metadata": {},
   "outputs": [
    {
     "data": {
      "text/plain": [
       "[]"
      ]
     },
     "execution_count": 21,
     "metadata": {},
     "output_type": "execute_result"
    }
   ],
   "source": [
    "bol._productlist_bs4"
   ]
  },
  {
   "cell_type": "code",
   "execution_count": 22,
   "id": "5796d1b4-4e6f-4bec-b6f2-c7f3ef2fb5fd",
   "metadata": {},
   "outputs": [
    {
     "data": {
      "text/plain": [
       "{'product_search_result_locator': ('li',\n",
       "  {'attrs': {'class': 'product-item--row'}}),\n",
       " 'provider_id_locator': None,\n",
       " 'name_locator': None,\n",
       " 'url_locator': None,\n",
       " 'price_locator': None,\n",
       " 'original_price_locator': None}"
      ]
     },
     "execution_count": 22,
     "metadata": {},
     "output_type": "execute_result"
    }
   ],
   "source": [
    "bol.locators"
   ]
  },
  {
   "cell_type": "code",
   "execution_count": 18,
   "id": "ee8ccc24-850f-42f1-a631-df2062419746",
   "metadata": {},
   "outputs": [
    {
     "data": {
      "text/plain": [
       "[]"
      ]
     },
     "execution_count": 18,
     "metadata": {},
     "output_type": "execute_result"
    }
   ],
   "source": [
    "pl"
   ]
  },
  {
   "cell_type": "code",
   "execution_count": null,
   "id": "a24098a1-1d58-4c62-9215-8022c545c8e0",
   "metadata": {},
   "outputs": [],
   "source": [
    "# pl"
   ]
  },
  {
   "cell_type": "code",
   "execution_count": null,
   "id": "479f3a07-344e-440b-bae1-a273afbdbc9d",
   "metadata": {},
   "outputs": [],
   "source": [
    "from pathlib import Path"
   ]
  },
  {
   "cell_type": "code",
   "execution_count": null,
   "id": "2a603a4c-f5e1-4d49-a0af-3421a04cbacc",
   "metadata": {},
   "outputs": [],
   "source": [
    "project_dir = Path(__name__).resolve().parents[2]"
   ]
  },
  {
   "cell_type": "code",
   "execution_count": null,
   "id": "edf74c69-5dc5-4414-9084-804f7db0a0b2",
   "metadata": {},
   "outputs": [],
   "source": [
    "project_dir/'data'/'raw'/'example.csv'"
   ]
  },
  {
   "cell_type": "markdown",
   "id": "67c0ef8a-361f-4b39-b551-ad21f357714f",
   "metadata": {},
   "source": [
    "# Create DB"
   ]
  },
  {
   "cell_type": "code",
   "execution_count": null,
   "id": "e0e4752b-2e5f-4d61-afc9-7b427d071599",
   "metadata": {
    "tags": []
   },
   "outputs": [],
   "source": [
    "import sqlite3\n",
    "from sqlite3 import Error"
   ]
  },
  {
   "cell_type": "code",
   "execution_count": null,
   "id": "82e843bb-8c78-44d8-b28b-65a147612492",
   "metadata": {},
   "outputs": [],
   "source": [
    "conn = sqlite3.connect(\"../data/raw/price_tracker.db\",  timeout=10)"
   ]
  },
  {
   "cell_type": "code",
   "execution_count": null,
   "id": "99da5501-f2ee-440a-a94b-d8cb215b1a40",
   "metadata": {},
   "outputs": [],
   "source": [
    "sql_create_products_table = \"\"\" CREATE TABLE IF NOT EXISTS projects (\n",
    "                                    id integer PRIMARY KEY,\n",
    "                                    name text NOT NULL,\n",
    "                                    begin_date text,\n",
    "                                    end_date text\n",
    "                                ); \"\"\"\n",
    "\n",
    "sql_create_prices_table = \"\"\"CREATE TABLE IF NOT EXISTS prices (\n",
    "                                datetime datetime NOT NULL,\n",
    "                                provider text ,\n",
    "                                provider_id text,\n",
    "                                name text,\n",
    "                                price numeric,\n",
    "                                original_price numeric\n",
    "                            );\"\"\""
   ]
  },
  {
   "cell_type": "code",
   "execution_count": null,
   "id": "41d575c5-3403-4a84-881e-431bec7351b4",
   "metadata": {},
   "outputs": [],
   "source": [
    "def create_table(conn, create_table_sql):\n",
    "    \"\"\" create a table from the create_table_sql statement\n",
    "    :param conn: Connection object\n",
    "    :param create_table_sql: a CREATE TABLE statement\n",
    "    :return:\n",
    "    \"\"\"\n",
    "    try:\n",
    "        c = conn.cursor()\n",
    "        c.execute(create_table_sql)\n",
    "    except Error as e:\n",
    "        print(e)"
   ]
  },
  {
   "cell_type": "code",
   "execution_count": null,
   "id": "a6ee5146-e117-4154-8aed-7de281531aaa",
   "metadata": {},
   "outputs": [],
   "source": [
    "create_table(conn, sql_create_prices_table)"
   ]
  },
  {
   "cell_type": "code",
   "execution_count": null,
   "id": "25985a99-f393-410c-9133-53fad6302645",
   "metadata": {},
   "outputs": [],
   "source": [
    "conn.close()"
   ]
  },
  {
   "cell_type": "markdown",
   "id": "3806a0d8-daff-4b36-8d6f-ec6ac24118fe",
   "metadata": {},
   "source": [
    "# Pandas"
   ]
  },
  {
   "cell_type": "code",
   "execution_count": 14,
   "id": "c8552b4e-0d06-4d4a-b34f-88472a98e0bb",
   "metadata": {},
   "outputs": [],
   "source": [
    "import pandas as pd\n",
    "\n",
    "data_dir = project_dir/'data'/'external'\n",
    "new_file = data_dir /'new_price.tsv'\n",
    "old_file = data_dir / 'old_price.tsv'\n",
    "\n",
    "df_new = pd.read_csv(new_file, sep = '\\t')\n",
    "df_old = pd.read_csv(old_file, sep = '\\t')\n",
    "for df in [df_new, df_old]:\n",
    "    df['provider_id'] = df['provider_id'].astype('str')"
   ]
  },
  {
   "cell_type": "code",
   "execution_count": 15,
   "id": "61b64f1e-8395-49a1-8d0b-8609971e7fc9",
   "metadata": {},
   "outputs": [],
   "source": [
    "df = pd.merge(df_new, df_old, on = ['provider', 'provider_id'], \n",
    "        suffixes = (None, '_old'))\n",
    "\n",
    "df['discount'] = 1 - df['price'] / df['price_old']\n",
    "\n",
    "df_notify = df[df['discount'] >=0.1]\n"
   ]
  },
  {
   "cell_type": "code",
   "execution_count": 19,
   "id": "9e52ee47-d8ba-4aab-b437-cd9013da700f",
   "metadata": {},
   "outputs": [
    {
     "data": {
      "text/html": [
       "<div>\n",
       "<style scoped>\n",
       "    .dataframe tbody tr th:only-of-type {\n",
       "        vertical-align: middle;\n",
       "    }\n",
       "\n",
       "    .dataframe tbody tr th {\n",
       "        vertical-align: top;\n",
       "    }\n",
       "\n",
       "    .dataframe thead th {\n",
       "        text-align: right;\n",
       "    }\n",
       "</style>\n",
       "<table border=\"1\" class=\"dataframe\">\n",
       "  <thead>\n",
       "    <tr style=\"text-align: right;\">\n",
       "      <th></th>\n",
       "      <th>provider</th>\n",
       "      <th>provider_id</th>\n",
       "      <th>name</th>\n",
       "      <th>price</th>\n",
       "      <th>original_price</th>\n",
       "      <th>hidden_price</th>\n",
       "      <th>URL</th>\n",
       "    </tr>\n",
       "  </thead>\n",
       "  <tbody>\n",
       "    <tr>\n",
       "      <th>450</th>\n",
       "      <td>bcc</td>\n",
       "      <td>000000000000303147</td>\n",
       "      <td>Samsung Crystal UHD TV 43AU8070 (2021)</td>\n",
       "      <td>649.0</td>\n",
       "      <td>NaN</td>\n",
       "      <td>NaN</td>\n",
       "      <td>https://bcc.nl/televisie/led-tv/4k-led-tv/sams...</td>\n",
       "    </tr>\n",
       "    <tr>\n",
       "      <th>451</th>\n",
       "      <td>bcc</td>\n",
       "      <td>000000000000285159</td>\n",
       "      <td>Philips LED Full HD TV 32PFS6805/12</td>\n",
       "      <td>329.0</td>\n",
       "      <td>NaN</td>\n",
       "      <td>NaN</td>\n",
       "      <td>https://bcc.nl/televisie/led-tv/hd-led-tv/phil...</td>\n",
       "    </tr>\n",
       "    <tr>\n",
       "      <th>452</th>\n",
       "      <td>bcc</td>\n",
       "      <td>000000000000308686</td>\n",
       "      <td>LG QHD monitor 32QN600-B.AEU</td>\n",
       "      <td>279.0</td>\n",
       "      <td>NaN</td>\n",
       "      <td>NaN</td>\n",
       "      <td>https://bcc.nl/computer/monitor/monitor-standa...</td>\n",
       "    </tr>\n",
       "    <tr>\n",
       "      <th>453</th>\n",
       "      <td>bcc</td>\n",
       "      <td>000000000000303153</td>\n",
       "      <td>Samsung QLED TV 32Q50A (2021)</td>\n",
       "      <td>599.0</td>\n",
       "      <td>NaN</td>\n",
       "      <td>NaN</td>\n",
       "      <td>https://bcc.nl/televisie/qled-tv/4k-qled-tv/sa...</td>\n",
       "    </tr>\n",
       "    <tr>\n",
       "      <th>454</th>\n",
       "      <td>bcc</td>\n",
       "      <td>000000000000303647</td>\n",
       "      <td>Sony Bravia 4K Ultra HD TV KD55X81JAEP (2021)</td>\n",
       "      <td>899.0</td>\n",
       "      <td>NaN</td>\n",
       "      <td>NaN</td>\n",
       "      <td>https://bcc.nl/televisie/led-tv/4k-led-tv/sony...</td>\n",
       "    </tr>\n",
       "  </tbody>\n",
       "</table>\n",
       "</div>"
      ],
      "text/plain": [
       "    provider         provider_id  \\\n",
       "450      bcc  000000000000303147   \n",
       "451      bcc  000000000000285159   \n",
       "452      bcc  000000000000308686   \n",
       "453      bcc  000000000000303153   \n",
       "454      bcc  000000000000303647   \n",
       "\n",
       "                                              name  price original_price  \\\n",
       "450         Samsung Crystal UHD TV 43AU8070 (2021)  649.0            NaN   \n",
       "451            Philips LED Full HD TV 32PFS6805/12  329.0            NaN   \n",
       "452                   LG QHD monitor 32QN600-B.AEU  279.0            NaN   \n",
       "453                  Samsung QLED TV 32Q50A (2021)  599.0            NaN   \n",
       "454  Sony Bravia 4K Ultra HD TV KD55X81JAEP (2021)  899.0            NaN   \n",
       "\n",
       "     hidden_price                                                URL  \n",
       "450           NaN  https://bcc.nl/televisie/led-tv/4k-led-tv/sams...  \n",
       "451           NaN  https://bcc.nl/televisie/led-tv/hd-led-tv/phil...  \n",
       "452           NaN  https://bcc.nl/computer/monitor/monitor-standa...  \n",
       "453           NaN  https://bcc.nl/televisie/qled-tv/4k-qled-tv/sa...  \n",
       "454           NaN  https://bcc.nl/televisie/led-tv/4k-led-tv/sony...  "
      ]
     },
     "execution_count": 19,
     "metadata": {},
     "output_type": "execute_result"
    }
   ],
   "source": [
    "df_new.tail()"
   ]
  },
  {
   "cell_type": "code",
   "execution_count": 16,
   "id": "aea95fbf-853e-45e2-9253-3e50f753b3cb",
   "metadata": {},
   "outputs": [],
   "source": [
    "df_notify = df[df['discount'] != 0]"
   ]
  },
  {
   "cell_type": "code",
   "execution_count": 17,
   "id": "b446d941-d62b-4de9-8fea-e5badb1ef401",
   "metadata": {},
   "outputs": [
    {
     "data": {
      "text/html": [
       "<div>\n",
       "<style scoped>\n",
       "    .dataframe tbody tr th:only-of-type {\n",
       "        vertical-align: middle;\n",
       "    }\n",
       "\n",
       "    .dataframe tbody tr th {\n",
       "        vertical-align: top;\n",
       "    }\n",
       "\n",
       "    .dataframe thead th {\n",
       "        text-align: right;\n",
       "    }\n",
       "</style>\n",
       "<table border=\"1\" class=\"dataframe\">\n",
       "  <thead>\n",
       "    <tr style=\"text-align: right;\">\n",
       "      <th></th>\n",
       "      <th>provider</th>\n",
       "      <th>provider_id</th>\n",
       "      <th>name</th>\n",
       "      <th>price</th>\n",
       "      <th>original_price</th>\n",
       "      <th>hidden_price</th>\n",
       "      <th>URL</th>\n",
       "      <th>name_old</th>\n",
       "      <th>price_old</th>\n",
       "      <th>original_price_old</th>\n",
       "      <th>hidden_price_old</th>\n",
       "      <th>URL_old</th>\n",
       "      <th>discount</th>\n",
       "    </tr>\n",
       "  </thead>\n",
       "  <tbody>\n",
       "    <tr>\n",
       "      <th>20</th>\n",
       "      <td>bol</td>\n",
       "      <td>9200000092109413</td>\n",
       "      <td>Philips 4300 series Sonische, elektrische tand...</td>\n",
       "      <td>60.70</td>\n",
       "      <td>NaN</td>\n",
       "      <td>60.70</td>\n",
       "      <td>https://bol.com/nl/nl/p/philips-4300-series-so...</td>\n",
       "      <td>Philips 4300 series Sonische, elektrische tand...</td>\n",
       "      <td>74.99</td>\n",
       "      <td>NaN</td>\n",
       "      <td>74.99</td>\n",
       "      <td>https://bol.com/nl/nl/p/philips-4300-series-so...</td>\n",
       "      <td>0.190559</td>\n",
       "    </tr>\n",
       "    <tr>\n",
       "      <th>34</th>\n",
       "      <td>bol</td>\n",
       "      <td>9200000073431955</td>\n",
       "      <td>BRITA Maxtra+ Filterpatronen - 3 stuks - Wit</td>\n",
       "      <td>23.59</td>\n",
       "      <td>NaN</td>\n",
       "      <td>23.59</td>\n",
       "      <td>https://bol.com/nl/nl/p/brita-maxtra-filterpat...</td>\n",
       "      <td>BRITA Maxtra+ Filterpatronen - 3 stuks - Wit</td>\n",
       "      <td>23.25</td>\n",
       "      <td>NaN</td>\n",
       "      <td>23.25</td>\n",
       "      <td>https://bol.com/nl/nl/p/brita-maxtra-filterpat...</td>\n",
       "      <td>-0.014624</td>\n",
       "    </tr>\n",
       "    <tr>\n",
       "      <th>98</th>\n",
       "      <td>bol</td>\n",
       "      <td>9200000081014943</td>\n",
       "      <td>Dettol Magic Foam Navulling Vanille - Voordeel...</td>\n",
       "      <td>17.46</td>\n",
       "      <td>NaN</td>\n",
       "      <td>17.46</td>\n",
       "      <td>https://bol.com/nl/nl/p/dettol-magic-foam-navu...</td>\n",
       "      <td>Dettol Magic Foam Navulling Vanille - Voordeel...</td>\n",
       "      <td>17.64</td>\n",
       "      <td>NaN</td>\n",
       "      <td>17.64</td>\n",
       "      <td>https://bol.com/nl/nl/p/dettol-magic-foam-navu...</td>\n",
       "      <td>0.010204</td>\n",
       "    </tr>\n",
       "  </tbody>\n",
       "</table>\n",
       "</div>"
      ],
      "text/plain": [
       "   provider       provider_id  \\\n",
       "20      bol  9200000092109413   \n",
       "34      bol  9200000073431955   \n",
       "98      bol  9200000081014943   \n",
       "\n",
       "                                                 name  price original_price  \\\n",
       "20  Philips 4300 series Sonische, elektrische tand...  60.70            NaN   \n",
       "34       BRITA Maxtra+ Filterpatronen - 3 stuks - Wit  23.59            NaN   \n",
       "98  Dettol Magic Foam Navulling Vanille - Voordeel...  17.46            NaN   \n",
       "\n",
       "    hidden_price                                                URL  \\\n",
       "20         60.70  https://bol.com/nl/nl/p/philips-4300-series-so...   \n",
       "34         23.59  https://bol.com/nl/nl/p/brita-maxtra-filterpat...   \n",
       "98         17.46  https://bol.com/nl/nl/p/dettol-magic-foam-navu...   \n",
       "\n",
       "                                             name_old  price_old  \\\n",
       "20  Philips 4300 series Sonische, elektrische tand...      74.99   \n",
       "34       BRITA Maxtra+ Filterpatronen - 3 stuks - Wit      23.25   \n",
       "98  Dettol Magic Foam Navulling Vanille - Voordeel...      17.64   \n",
       "\n",
       "   original_price_old  hidden_price_old  \\\n",
       "20                NaN             74.99   \n",
       "34                NaN             23.25   \n",
       "98                NaN             17.64   \n",
       "\n",
       "                                              URL_old  discount  \n",
       "20  https://bol.com/nl/nl/p/philips-4300-series-so...  0.190559  \n",
       "34  https://bol.com/nl/nl/p/brita-maxtra-filterpat... -0.014624  \n",
       "98  https://bol.com/nl/nl/p/dettol-magic-foam-navu...  0.010204  "
      ]
     },
     "execution_count": 17,
     "metadata": {},
     "output_type": "execute_result"
    }
   ],
   "source": [
    "df_notify"
   ]
  },
  {
   "cell_type": "code",
   "execution_count": 17,
   "id": "aeacb000-505d-4a28-b5ff-86c65a24c821",
   "metadata": {},
   "outputs": [
    {
     "data": {
      "text/html": [
       "<div>\n",
       "<style scoped>\n",
       "    .dataframe tbody tr th:only-of-type {\n",
       "        vertical-align: middle;\n",
       "    }\n",
       "\n",
       "    .dataframe tbody tr th {\n",
       "        vertical-align: top;\n",
       "    }\n",
       "\n",
       "    .dataframe thead th {\n",
       "        text-align: right;\n",
       "    }\n",
       "</style>\n",
       "<table border=\"1\" class=\"dataframe\">\n",
       "  <thead>\n",
       "    <tr style=\"text-align: right;\">\n",
       "      <th></th>\n",
       "      <th>provider</th>\n",
       "      <th>provider_id</th>\n",
       "      <th>name</th>\n",
       "      <th>price</th>\n",
       "      <th>original_price</th>\n",
       "      <th>hidden_price</th>\n",
       "      <th>URL</th>\n",
       "      <th>name_old</th>\n",
       "      <th>price_old</th>\n",
       "      <th>original_price_old</th>\n",
       "      <th>hidden_price_old</th>\n",
       "      <th>URL_old</th>\n",
       "      <th>discount</th>\n",
       "    </tr>\n",
       "  </thead>\n",
       "  <tbody>\n",
       "    <tr>\n",
       "      <th>77</th>\n",
       "      <td>bol</td>\n",
       "      <td>9200000125522811</td>\n",
       "      <td>Little Dutch Memorybox - Baby Geschenkset</td>\n",
       "      <td>23.69</td>\n",
       "      <td>NaN</td>\n",
       "      <td>23.69</td>\n",
       "      <td>https://bol.com/nl/nl/p/little-dutch-memorybox...</td>\n",
       "      <td>Little Dutch Memorybox - Baby Geschenkset</td>\n",
       "      <td>23.69</td>\n",
       "      <td>NaN</td>\n",
       "      <td>23.69</td>\n",
       "      <td>https://bol.com/nl/nl/p/little-dutch-memorybox...</td>\n",
       "      <td>0.0</td>\n",
       "    </tr>\n",
       "  </tbody>\n",
       "</table>\n",
       "</div>"
      ],
      "text/plain": [
       "   provider       provider_id                                       name  \\\n",
       "77      bol  9200000125522811  Little Dutch Memorybox - Baby Geschenkset   \n",
       "\n",
       "    price original_price  hidden_price  \\\n",
       "77  23.69            NaN         23.69   \n",
       "\n",
       "                                                  URL  \\\n",
       "77  https://bol.com/nl/nl/p/little-dutch-memorybox...   \n",
       "\n",
       "                                     name_old  price_old original_price_old  \\\n",
       "77  Little Dutch Memorybox - Baby Geschenkset      23.69                NaN   \n",
       "\n",
       "    hidden_price_old                                            URL_old  \\\n",
       "77             23.69  https://bol.com/nl/nl/p/little-dutch-memorybox...   \n",
       "\n",
       "    discount  \n",
       "77       0.0  "
      ]
     },
     "execution_count": 17,
     "metadata": {},
     "output_type": "execute_result"
    }
   ],
   "source": [
    "df[df['name'].str.contains('Little Dutch Memorybox')]"
   ]
  },
  {
   "cell_type": "code",
   "execution_count": 23,
   "id": "5b54b4eb-fbb0-4cb8-ba47-eaf1acfe3c4a",
   "metadata": {},
   "outputs": [
    {
     "data": {
      "text/plain": [
       "'https://bol.com/nl/nl/p/illy-iperespresso-koffie-home-cafeinevrij-6-x-18-capsules/9300000007109869/'"
      ]
     },
     "execution_count": 23,
     "metadata": {},
     "output_type": "execute_result"
    }
   ],
   "source": [
    "df_notify['URL'].values[-1]"
   ]
  },
  {
   "cell_type": "code",
   "execution_count": 262,
   "id": "333af001-b255-43cb-84dc-3f1c305f8fc6",
   "metadata": {},
   "outputs": [],
   "source": [
    "record = records[0]"
   ]
  },
  {
   "cell_type": "code",
   "execution_count": 263,
   "id": "d3a86eb5-54c1-4c13-a393-e2c38e4a2ac9",
   "metadata": {},
   "outputs": [],
   "source": [
    "records = df_notify.to_dict(orient = 'records')\n",
    "r = []\n",
    "for record in records:\n",
    "    price = record['price']\n",
    "    original_price = record['price_old']\n",
    "    url = record['URL']\n",
    "\n",
    "    r.append('\\n'.join([record['provider'], record['name'], f'{price}~{original_price}~',\n",
    "                            f'<{url}|Product Link>'\n",
    "                           ])\n",
    "            )"
   ]
  },
  {
   "cell_type": "code",
   "execution_count": 264,
   "id": "d8183df9-d57c-4e70-9618-1de89b991464",
   "metadata": {},
   "outputs": [
    {
     "data": {
      "text/plain": [
       "''"
      ]
     },
     "execution_count": 264,
     "metadata": {},
     "output_type": "execute_result"
    }
   ],
   "source": [
    "'\\n\\n'.join(r)"
   ]
  },
  {
   "cell_type": "markdown",
   "id": "415864ef-4138-4d48-982f-5f522df2d64a",
   "metadata": {},
   "source": [
    "# Dotenv"
   ]
  },
  {
   "cell_type": "code",
   "execution_count": null,
   "id": "daee9cec-12ae-4f11-b58b-86f2fea8c921",
   "metadata": {},
   "outputs": [],
   "source": [
    "from dotenv import find_dotenv, load_dotenv"
   ]
  },
  {
   "cell_type": "code",
   "execution_count": null,
   "id": "3501439a-4c6b-4e86-9056-3f102086dcd6",
   "metadata": {},
   "outputs": [],
   "source": [
    "load_dotenv(find_dotenv())"
   ]
  },
  {
   "cell_type": "code",
   "execution_count": null,
   "id": "35a3068c-caf3-4f9d-9368-29bdf7854984",
   "metadata": {},
   "outputs": [],
   "source": [
    "f = project_dir.parent / 'Utils'"
   ]
  },
  {
   "cell_type": "code",
   "execution_count": null,
   "id": "7fb11563-246f-4654-a27f-537970daa723",
   "metadata": {},
   "outputs": [],
   "source": [
    "f"
   ]
  },
  {
   "cell_type": "markdown",
   "id": "1af153d2-d172-4977-932c-3abcf5e09e77",
   "metadata": {},
   "source": [
    "# Selenium Driver"
   ]
  },
  {
   "cell_type": "code",
   "execution_count": 14,
   "id": "8d4321ac-0b47-4409-a25e-25f66a83be15",
   "metadata": {},
   "outputs": [],
   "source": [
    "bol = BolScraper('https://www.bol.com/nl/nl/s/?searchtext=brita', driver_method = 'selenium')"
   ]
  },
  {
   "cell_type": "code",
   "execution_count": 15,
   "id": "b75d6b71-cbcd-4d84-bb46-f572f3538c89",
   "metadata": {},
   "outputs": [],
   "source": [
    "pl = bol.get_productlist()"
   ]
  },
  {
   "cell_type": "code",
   "execution_count": 20,
   "id": "abc63169-4a58-4a2f-ab34-968af4376838",
   "metadata": {},
   "outputs": [
    {
     "data": {
      "text/plain": [
       "<selenium.webdriver.chrome.webdriver.WebDriver (session=\"366ffb8fb0c52d2d66a149f2cd27670c\")>"
      ]
     },
     "execution_count": 20,
     "metadata": {},
     "output_type": "execute_result"
    }
   ],
   "source": [
    "bol.driver"
   ]
  },
  {
   "cell_type": "code",
   "execution_count": 17,
   "id": "697b7536-31b5-4ff8-ae14-d9ce4f7d07a6",
   "metadata": {},
   "outputs": [],
   "source": [
    "# pl"
   ]
  },
  {
   "cell_type": "code",
   "execution_count": 18,
   "id": "6c7721dd-89d7-4e1d-8991-abe07b878b3a",
   "metadata": {},
   "outputs": [],
   "source": [
    "bol.close()"
   ]
  },
  {
   "cell_type": "markdown",
   "id": "c2a7c1b1-ed19-43eb-84f8-3f909e37c8ee",
   "metadata": {},
   "source": [
    "# MediaMarkt"
   ]
  },
  {
   "cell_type": "code",
   "execution_count": 27,
   "id": "2cfebf22-7713-4e93-a160-30a93db50caf",
   "metadata": {},
   "outputs": [],
   "source": [
    "from scrape_mediamarkt import *"
   ]
  },
  {
   "cell_type": "code",
   "execution_count": 28,
   "id": "ed24a9de-6ce0-494c-97f7-b55ad1efbc59",
   "metadata": {},
   "outputs": [],
   "source": [
    "url =  'https://www.mediamarkt.nl/nl/search.html?query=galaxy+tab+s7&searchProfile=onlineshop&channel=mmnlnl'"
   ]
  },
  {
   "cell_type": "code",
   "execution_count": 29,
   "id": "8488a538-577b-4114-933e-19c8017e79a4",
   "metadata": {},
   "outputs": [],
   "source": [
    "s = MediaMarktScraper(url, driver_method = 'selenium')"
   ]
  },
  {
   "cell_type": "code",
   "execution_count": 30,
   "id": "f90d3406-c236-4c74-afdd-e0eda4b29b74",
   "metadata": {},
   "outputs": [],
   "source": [
    "product_lists = s.page.find_all('div', attrs = {'class':'product-wrapper'})"
   ]
  },
  {
   "cell_type": "code",
   "execution_count": 106,
   "id": "ddd3b5ec-7495-4611-80da-a8dfa37c8348",
   "metadata": {},
   "outputs": [],
   "source": [
    "product = product_lists[0]"
   ]
  },
  {
   "cell_type": "code",
   "execution_count": 126,
   "id": "a04904c4-3a38-4680-afb2-90bb6db0dd7d",
   "metadata": {},
   "outputs": [],
   "source": [
    "prices = product.find('div', attrs = {'class': 'price', 'class': 'small'})"
   ]
  },
  {
   "cell_type": "code",
   "execution_count": 127,
   "id": "a1d35deb-d8df-49ee-80d9-d4cbade0fe79",
   "metadata": {},
   "outputs": [
    {
     "data": {
      "text/plain": [
       "'849.'"
      ]
     },
     "execution_count": 127,
     "metadata": {},
     "output_type": "execute_result"
    }
   ],
   "source": [
    "''.join([i.contents[0] for i in prices.contents]).strip().strip('-').replace(',', '.')"
   ]
  },
  {
   "cell_type": "code",
   "execution_count": 128,
   "id": "b1586013-c6be-4d77-8856-0cc024dde901",
   "metadata": {},
   "outputs": [],
   "source": [
    "old_prices = product.find('div', attrs = {'class': 'price-old', 'class': 'price'})"
   ]
  },
  {
   "cell_type": "code",
   "execution_count": 129,
   "id": "1b8fc697-e744-4335-af9d-f4131c99cc93",
   "metadata": {},
   "outputs": [
    {
     "data": {
      "text/plain": [
       "'979.'"
      ]
     },
     "execution_count": 129,
     "metadata": {},
     "output_type": "execute_result"
    }
   ],
   "source": [
    "''.join([i.contents[0] for i in old_prices.contents]).strip().strip('-').replace(',', '.')"
   ]
  },
  {
   "cell_type": "code",
   "execution_count": 65,
   "id": "87cc1ffb-35ce-4092-9323-714b4112ca37",
   "metadata": {},
   "outputs": [
    {
     "data": {
      "text/plain": [
       "'https://mediamarkt.nl/nl/product/_philips-sonicare-plaquedefense-hx6231-01-1371881.html'"
      ]
     },
     "execution_count": 65,
     "metadata": {},
     "output_type": "execute_result"
    }
   ],
   "source": [
    "'https://mediamarkt.nl'+ product.find('a').attrs['data-clickable-href']"
   ]
  },
  {
   "cell_type": "code",
   "execution_count": 66,
   "id": "559ae5f1-83fa-44ab-a0b5-ea2a0864dbd2",
   "metadata": {},
   "outputs": [
    {
     "data": {
      "text/plain": [
       "{'class': ['product-wrapper'],\n",
       " 'data-bundle': 'false',\n",
       " 'data-modelnumber': '1371881',\n",
       " 'data-age-rating': '0',\n",
       " 'data-gtm-impression-event': 'EEC_PRODUCT_IMPRESSION',\n",
       " 'data-gtm-impression-event-ext': 'product1371881',\n",
       " 'data-reco-pid': 'MMNL1371881'}"
      ]
     },
     "execution_count": 66,
     "metadata": {},
     "output_type": "execute_result"
    }
   ],
   "source": [
    "product.attrs"
   ]
  },
  {
   "cell_type": "code",
   "execution_count": 79,
   "id": "7655bd2a-df69-4d94-93bf-7a51dd4be36e",
   "metadata": {},
   "outputs": [
    {
     "data": {
      "text/plain": [
       "'PHILIPS Sonicare PlaqueDefense HX6231/01'"
      ]
     },
     "execution_count": 79,
     "metadata": {},
     "output_type": "execute_result"
    }
   ],
   "source": [
    "product.find('img').attrs['alt']"
   ]
  },
  {
   "cell_type": "code",
   "execution_count": 16,
   "id": "68af1917-6c09-444b-84e3-d0963d87f7ec",
   "metadata": {},
   "outputs": [],
   "source": [
    "s.close()"
   ]
  },
  {
   "cell_type": "code",
   "execution_count": 32,
   "id": "2bd8ee42-ac58-4783-b907-ec88d98afa81",
   "metadata": {},
   "outputs": [],
   "source": [
    "from scrape_bcc import *"
   ]
  },
  {
   "cell_type": "code",
   "execution_count": 33,
   "id": "fab7fa5b-90ee-4417-8c2c-4331a8831816",
   "metadata": {},
   "outputs": [],
   "source": [
    "s = BCCScraper('https://www.bcc.nl/search?fh_location=%2F%2Fcatalog01%2Fnl_NL%2Fchannel%3E%7Bm2ebcc2enl%7D&search=desktop+amd')"
   ]
  },
  {
   "cell_type": "code",
   "execution_count": 42,
   "id": "ef8dd28b-137c-4129-bec0-44afe248c545",
   "metadata": {},
   "outputs": [],
   "source": [
    "pl = s.page.find_all(**{'name':'div', 'attrs' : {'class':'lister-product'}})"
   ]
  },
  {
   "cell_type": "code",
   "execution_count": 43,
   "id": "640d8c56-28a8-4a93-8c9c-e2525106fe6d",
   "metadata": {},
   "outputs": [],
   "source": [
    "product_bs4 = pl[0]"
   ]
  },
  {
   "cell_type": "code",
   "execution_count": 47,
   "id": "ec29390d-ef78-4bab-9de4-21347da0cb08",
   "metadata": {},
   "outputs": [],
   "source": [
    "product_bs4.find('div', attrs = {'class': 'priceblock__price'})"
   ]
  },
  {
   "cell_type": "code",
   "execution_count": 51,
   "id": "d23a96f0-45b6-4b15-847c-7483ab09f614",
   "metadata": {},
   "outputs": [],
   "source": [
    "name = product_bs4.find('h3', attrs = {'class': 'h2'}).text"
   ]
  },
  {
   "cell_type": "code",
   "execution_count": 52,
   "id": "1ac21497-69b1-40ca-941a-6397979270da",
   "metadata": {},
   "outputs": [
    {
     "data": {
      "text/plain": [
       "'MSI gaming desktop MAG META 5 3SI-442MYS'"
      ]
     },
     "execution_count": 52,
     "metadata": {},
     "output_type": "execute_result"
    }
   ],
   "source": [
    "name"
   ]
  },
  {
   "cell_type": "code",
   "execution_count": 60,
   "id": "9854187e-517c-4e61-a82f-2f63b484ac77",
   "metadata": {},
   "outputs": [],
   "source": [
    "import json"
   ]
  },
  {
   "cell_type": "code",
   "execution_count": 61,
   "id": "86af9148-45fb-41a6-93d4-edcc822ac13b",
   "metadata": {},
   "outputs": [
    {
     "data": {
      "text/plain": [
       "{'name': 'MSI gaming desktop MAG META 5 3SI-442MYS',\n",
       " 'id': '000000000000307902',\n",
       " 'price': '1049.00',\n",
       " 'brand': 'MSI',\n",
       " 'category': 'computer/desktop/gaming-pc',\n",
       " 'position': '1',\n",
       " 'dimension12': 'V',\n",
       " 'dimension43': 'Online op voorraad'}"
      ]
     },
     "execution_count": 61,
     "metadata": {},
     "output_type": "execute_result"
    }
   ],
   "source": [
    "json.loads(product_bs4.find('script', attrs = {'class': 'js-analytics-data'}).text)"
   ]
  },
  {
   "cell_type": "code",
   "execution_count": 65,
   "id": "d7fc3f35-21ea-4bfe-8348-a206eaec15ff",
   "metadata": {},
   "outputs": [
    {
     "data": {
      "text/plain": [
       "'/computer/desktop/gaming-pc/msi-gaming-desktop-mag-meta-5-3si-442mys/307902'"
      ]
     },
     "execution_count": 65,
     "metadata": {},
     "output_type": "execute_result"
    }
   ],
   "source": [
    "product_bs4.find('a', attrs = {'class': 'lister-product__titlelink'}).attrs['href']"
   ]
  },
  {
   "cell_type": "code",
   "execution_count": 10,
   "id": "f5c5434d-4e87-4671-830a-6b8a4af47dcf",
   "metadata": {},
   "outputs": [],
   "source": [
    "s = SearchTerm('philips', 'bcc.nl', max_pages = 2)"
   ]
  },
  {
   "cell_type": "code",
   "execution_count": 11,
   "id": "e829e62d-e225-45ee-a01e-5ff99087e4f5",
   "metadata": {},
   "outputs": [],
   "source": [
    "pl = s.productlist"
   ]
  },
  {
   "cell_type": "code",
   "execution_count": 13,
   "id": "14868485-f856-4786-9f15-56ef0db030fa",
   "metadata": {},
   "outputs": [
    {
     "data": {
      "text/plain": [
       "36"
      ]
     },
     "execution_count": 13,
     "metadata": {},
     "output_type": "execute_result"
    }
   ],
   "source": [
    "len(pl)"
   ]
  },
  {
   "cell_type": "code",
   "execution_count": null,
   "id": "74aa00c1-9aa6-4ac4-97a9-3b45ea895fe5",
   "metadata": {},
   "outputs": [],
   "source": []
  }
 ],
 "metadata": {
  "kernelspec": {
   "display_name": "Python 3",
   "language": "python",
   "name": "python3"
  },
  "language_info": {
   "codemirror_mode": {
    "name": "ipython",
    "version": 3
   },
   "file_extension": ".py",
   "mimetype": "text/x-python",
   "name": "python",
   "nbconvert_exporter": "python",
   "pygments_lexer": "ipython3",
   "version": "3.6.9"
  }
 },
 "nbformat": 4,
 "nbformat_minor": 5
}
