{
 "cells": [
  {
   "cell_type": "code",
   "execution_count": 2,
   "id": "f6b5911d-901b-478a-963e-96da267574f7",
   "metadata": {},
   "outputs": [],
   "source": [
    "import sys"
   ]
  },
  {
   "cell_type": "code",
   "execution_count": 3,
   "id": "bef77f82-5014-4049-9c5d-2b31be8aeda0",
   "metadata": {},
   "outputs": [],
   "source": [
    "import os"
   ]
  },
  {
   "cell_type": "code",
   "execution_count": 4,
   "id": "e95fe688-4831-4665-9a50-ba2dfaae2955",
   "metadata": {},
   "outputs": [],
   "source": [
    "from pathlib import Path"
   ]
  },
  {
   "cell_type": "code",
   "execution_count": 5,
   "id": "47b42edf-f5e3-446e-b539-b186f1e46d99",
   "metadata": {},
   "outputs": [],
   "source": [
    "project_dir = Path(__name__).resolve().parents[1]"
   ]
  },
  {
   "cell_type": "code",
   "execution_count": 6,
   "id": "e79ae3e3-01f5-4e5c-aa01-c1b9e0228399",
   "metadata": {},
   "outputs": [],
   "source": [
    "sys.path.insert(0, str(project_dir))"
   ]
  },
  {
   "cell_type": "code",
   "execution_count": 7,
   "id": "92226e8a-7612-4fc5-abbc-96f8802e53f1",
   "metadata": {},
   "outputs": [],
   "source": [
    "sys.path.insert(0, str(project_dir/'src'/'data'))"
   ]
  },
  {
   "cell_type": "code",
   "execution_count": 8,
   "id": "f9d0a004-a913-4c0d-b8eb-0c081153cb6b",
   "metadata": {},
   "outputs": [],
   "source": [
    "from scrape_bol import *"
   ]
  },
  {
   "cell_type": "code",
   "execution_count": 9,
   "id": "fc5ce263-f9a3-4ffa-a08c-ed7170935339",
   "metadata": {},
   "outputs": [],
   "source": [
    "from searchterm import *"
   ]
  },
  {
   "cell_type": "code",
   "execution_count": 10,
   "id": "b852a4f4-b09c-4469-8a09-1a3dfea37a55",
   "metadata": {},
   "outputs": [],
   "source": [
    "from datetime import datetime"
   ]
  },
  {
   "cell_type": "code",
   "execution_count": 27,
   "id": "271d364e-e2dd-48c7-b5ac-104d7c0b1fac",
   "metadata": {},
   "outputs": [],
   "source": [
    "s = SearchTerm(search_term='illy', search_domain = 'bol.com', max_pages = 1)"
   ]
  },
  {
   "cell_type": "code",
   "execution_count": 28,
   "id": "8779aeec-bcd1-48c5-9e85-b62a42ff1e59",
   "metadata": {},
   "outputs": [
    {
     "data": {
      "text/plain": [
       "[Product(provider='bol', provider_id='9200000107510716', name='illy Classic Roast Lungo Koffiecups - 10 x 10 stuks - 100 koffiecups', url='https://bol.com/nl/nl/p/illy-classic-roast-lungo-koffiecups-10-x-10-stuks-100-koffiecups/9200000107510716/', price='32.93', original_price='43,90', hidden_price='32.93'),\n",
       " Product(provider='bol', provider_id='9300000003898934', name='illy Espresso Decaffeinato Koffiecups - 10 x 10 stuks - 100 koffiecups', url='https://bol.com/nl/nl/p/illy-espresso-decaffeinato-koffiecups-10-x-10-stuks-100-koffiecups/9300000003898934/', price='42.50', original_price=None, hidden_price='42.50'),\n",
       " Product(provider='bol', provider_id='9200000107510712', name='illy Espresso Intenso Koffiecups - 10 x 10 stuks - 100 koffiecups', url='https://bol.com/nl/nl/p/illy-espresso-intenso-koffiecups-10-x-10-stuks-100-koffiecups/9200000107510712/', price='42.50', original_price=None, hidden_price='42.50'),\n",
       " Product(provider='bol', provider_id='9200000072442692', name='illy Francis Francis X1 Anniversary Iperespresso - Koffiecupmachine - Chroom', url='https://bol.com/nl/nl/p/illy-francis-francis-x1-anniversary-iperespresso-koffiecupmachine-chroom/9200000072442692/', price='449.', original_price=None, hidden_price='449.00'),\n",
       " Product(provider='bol', provider_id='9200000106945930', name='illy - E.S.E. servings Intenso 12 x 18 stuks', url='https://bol.com/nl/nl/p/illy-e-s-e-servings-intenso-12-x-18-stuks/9200000106945930/', price='76.14', original_price='101,55', hidden_price='76.14'),\n",
       " Product(provider='bol', provider_id='9300000006173301', name='illy - Iperespresso koffie home classico Lungo 6 x 18 capsules', url='https://bol.com/nl/nl/p/illy-iperespresso-koffie-home-classico-lungo-6-x-18-capsules/9300000006173301/', price='58.90', original_price=None, hidden_price='58.90'),\n",
       " Product(provider='bol', provider_id='9300000006173303', name='illy - Iperespresso koffie home classico 6 x 18 capsules', url='https://bol.com/nl/nl/p/illy-iperespresso-koffie-home-classico-6-x-18-capsules/9300000006173303/', price='57.95', original_price=None, hidden_price='57.95'),\n",
       " Product(provider='bol', provider_id='9200000107510710', name='illy Espresso Classico Koffiecups - 10 x 10 stuks - 100 koffiecups', url='https://bol.com/nl/nl/p/illy-espresso-classico-koffiecups-10-x-10-stuks-100-koffiecups/9200000107510710/', price='32.93', original_price='43,90', hidden_price='32.93'),\n",
       " Product(provider='bol', provider_id='9200000054158660', name='illy Classico gemalen Espressokoffie - 250 gram', url='https://bol.com/nl/nl/p/illy-classico-gemalen-espressokoffie-250-gram/9200000054158660/', price='12.49', original_price=None, hidden_price='12.49'),\n",
       " Product(provider='bol', provider_id='9200000072442696', name='illy Francis Francis X1 Anniversary Iperespresso - Koffiecupmachine - Zwart', url='https://bol.com/nl/nl/p/illy-francis-francis-x1-anniversary-iperespresso-koffiecupmachine-zwart/9200000072442696/', price='328.', original_price=None, hidden_price='328.00'),\n",
       " Product(provider='bol', provider_id='9300000006173302', name='illy - Iperespresso koffie home intenso 6 x 18 capsules', url='https://bol.com/nl/nl/p/illy-iperespresso-koffie-home-intenso-6-x-18-capsules/9300000006173302/', price='53.06', original_price=None, hidden_price='53.06'),\n",
       " Product(provider='bol', provider_id='9200000113391504', name='illy Iperespresso Koffie Classico Lungo - 100 Capsules', url='https://bol.com/nl/nl/p/illy-iperespresso-koffie-classico-lungo-100-capsules/9200000113391504/', price='48.15', original_price=None, hidden_price='48.15'),\n",
       " Product(provider='bol', provider_id='9200000106945922', name='Illy Classico Koffiebonen - 6 x 250 gram', url='https://bol.com/nl/nl/p/illy-classico-koffiebonen-6-x-250-gram/9200000106945922/', price='41.79', original_price=None, hidden_price='41.79'),\n",
       " Product(provider='bol', provider_id='9200000106945928', name='illy Intenso Koffiebonen - 6 x 250 gram', url='https://bol.com/nl/nl/p/illy-intenso-koffiebonen-6-x-250-gram/9200000106945928/', price='40.99', original_price='44,42', hidden_price='40.99'),\n",
       " Product(provider='bol', provider_id='9200000126611153', name='Illy koffiebonen Intenso - 12 x 250 gram', url='https://bol.com/nl/nl/p/illy-koffiebonen-intenso-12-x-250-gram/9200000126611153/', price='74.49', original_price=None, hidden_price='74.49'),\n",
       " Product(provider='bol', provider_id='9200000126601425', name='Illy koffiebonen  classico - 12 x 250 gram', url='https://bol.com/nl/nl/p/illy-koffiebonen-classico-12-x-250-gram/9200000126601425/', price='74.50', original_price='85,99', hidden_price='74.50'),\n",
       " Product(provider='bol', provider_id='9200000097447249', name='illy Cafeïnevrij koffiebonen - 250 gram', url='https://bol.com/nl/nl/p/illy-cafeinevrij-koffiebonen-250-gram/9200000097447249/', price='12.39', original_price=None, hidden_price='12.39'),\n",
       " Product(provider='bol', provider_id='9200000084629135', name='illy Y3 Iperespresso - Koffiecupmachine - Zwart', url='https://bol.com/nl/nl/p/illy-y3-iperespresso-koffiecupmachine-zwart/9200000084629135/', price='86.99', original_price=None, hidden_price='86.99'),\n",
       " Product(provider='bol', provider_id='9200000075488114', name='illy koffiebonen Classico - 250 gram', url='https://bol.com/nl/nl/p/illy-koffiebonen-classico-250-gram/9200000075488114/', price='12.49', original_price=None, hidden_price='12.49'),\n",
       " Product(provider='bol', provider_id='9300000025690744', name='Guess Crossbodytas Illy - zwart', url='https://bol.com/nl/nl/p/guess-crossbodytas-illy-zwart/9300000025690744/', price='113.40', original_price='135,00', hidden_price='113.40'),\n",
       " Product(provider='bol', provider_id='9300000007109869', name='illy - Iperespresso koffie home cafeinevrij 6 x 18 capsules', url='https://bol.com/nl/nl/p/illy-iperespresso-koffie-home-cafeinevrij-6-x-18-capsules/9300000007109869/', price='53.99', original_price=None, hidden_price='53.99'),\n",
       " Product(provider='bol', provider_id='9300000007651951', name='illy Iperespresso Intenso 18 capsules', url='https://bol.com/nl/nl/p/illy-iperespresso-intenso-18-capsules/9300000007651951/', price='12.75', original_price=None, hidden_price='12.75'),\n",
       " Product(provider='bol', provider_id='9300000019784577', name='illy - Melkschuimer wit', url='https://bol.com/nl/nl/p/illy-melkschuimer-wit/9300000019784577/', price='79.', original_price=None, hidden_price='79.00'),\n",
       " Product(provider='bol', provider_id='9300000005225656', name='Herbruikbare - Hervulbare illy koffie capsule - Illy koffie cups - RVS', url='https://bol.com/nl/nl/p/herbruikbare-hervulbare-illy-koffie-capsule-illy-koffie-cups-rvs/9300000005225656/', price='36.95', original_price=None, hidden_price='36.95')]"
      ]
     },
     "execution_count": 28,
     "metadata": {},
     "output_type": "execute_result"
    }
   ],
   "source": [
    "s.productlist"
   ]
  },
  {
   "cell_type": "code",
   "execution_count": null,
   "id": "fc7ec44c-d254-473c-9db2-25e15404f776",
   "metadata": {},
   "outputs": [],
   "source": [
    "len(s.productlist)"
   ]
  },
  {
   "cell_type": "code",
   "execution_count": null,
   "id": "472dd233-ac42-4685-9665-5734783ad956",
   "metadata": {},
   "outputs": [],
   "source": [
    "print(s.Scraper.page)"
   ]
  },
  {
   "cell_type": "code",
   "execution_count": null,
   "id": "d8154f7d-2d76-4483-a894-e2f2f67c6e9a",
   "metadata": {},
   "outputs": [],
   "source": [
    "dir(s)"
   ]
  },
  {
   "cell_type": "code",
   "execution_count": null,
   "id": "b54f1089-be73-4fc3-b2fb-e8dde492e1f5",
   "metadata": {},
   "outputs": [],
   "source": [
    "datetime.now().strftime(\"%Y-%m-%d %I:%M%p\")"
   ]
  },
  {
   "cell_type": "code",
   "execution_count": null,
   "id": "006f383f-c4fe-4644-b476-6df488a77f28",
   "metadata": {},
   "outputs": [],
   "source": [
    "to_save_data = ['\\t'.join([p.provider if p.provider else '', \n",
    "                          p.provider_id if p.provider_id else '', \n",
    "                           p.name  if p.name else '', \n",
    "                           p.price  if p.price else '', \n",
    "                           p.original_price  if p.original_price else '' ]) \n",
    "                for p in s.productlist]"
   ]
  },
  {
   "cell_type": "code",
   "execution_count": null,
   "id": "d9c11047-10cd-4247-ae67-1e51776d955f",
   "metadata": {},
   "outputs": [],
   "source": [
    "with open(\"../data/raw/price_tracker.tsv\", 'a') as file:\n",
    "    file.writelines(to_save_data)"
   ]
  },
  {
   "cell_type": "code",
   "execution_count": 10,
   "id": "4865d798-08b1-4365-bb52-b246eb41a69e",
   "metadata": {},
   "outputs": [],
   "source": [
    "bol = BolScraper('https://www.bol.com/nl/nl/s/?searchtext=brita')"
   ]
  },
  {
   "cell_type": "code",
   "execution_count": 11,
   "id": "e25ef8e4-88b3-4572-80b5-632290afb0fb",
   "metadata": {
    "tags": []
   },
   "outputs": [],
   "source": [
    "pl_bs4 = bol.page.find_all('li', attrs = {'class': 'product-item--row'})"
   ]
  },
  {
   "cell_type": "code",
   "execution_count": 12,
   "id": "c9418ce8-ec2a-4fa8-9155-91d4ca47d142",
   "metadata": {},
   "outputs": [],
   "source": [
    "example = [p for p in pl_bs4 if p.attrs['data-id'] == '9200000074016762'][0]"
   ]
  },
  {
   "cell_type": "code",
   "execution_count": 237,
   "id": "4a6b8407-4376-4dfa-b018-2aff8479af24",
   "metadata": {},
   "outputs": [
    {
     "data": {
      "text/plain": [
       "'42'"
      ]
     },
     "execution_count": 237,
     "metadata": {},
     "output_type": "execute_result"
    }
   ],
   "source": [
    "example.find('span', attrs = {'data-test': 'price'}).contents[0].strip()"
   ]
  },
  {
   "cell_type": "code",
   "execution_count": 238,
   "id": "cfc23b07-1668-4b6c-a6e4-16d821b605d8",
   "metadata": {},
   "outputs": [
    {
     "data": {
      "text/plain": [
       "'94'"
      ]
     },
     "execution_count": 238,
     "metadata": {},
     "output_type": "execute_result"
    }
   ],
   "source": [
    "example.find('sup', attrs = {'data-test': 'price-fraction'}).contents[0].strip()"
   ]
  },
  {
   "cell_type": "code",
   "execution_count": 14,
   "id": "edd23e86-7b02-490b-b03f-775920593256",
   "metadata": {},
   "outputs": [],
   "source": [
    "pl = bol.get_productlist()"
   ]
  },
  {
   "cell_type": "code",
   "execution_count": 15,
   "id": "d67ea915-7d4f-4230-8c22-796d81fae805",
   "metadata": {},
   "outputs": [
    {
     "data": {
      "text/plain": [
       "[]"
      ]
     },
     "execution_count": 15,
     "metadata": {},
     "output_type": "execute_result"
    }
   ],
   "source": [
    "pl"
   ]
  },
  {
   "cell_type": "code",
   "execution_count": 16,
   "id": "8ad8d333-a5a1-47bd-8200-2bd75c419a7c",
   "metadata": {},
   "outputs": [],
   "source": [
    "bol = BolScraper('https://www.bol.com/nl/nl/s/?page=8&searchtext=philips+sonicare&view=list') # No products"
   ]
  },
  {
   "cell_type": "code",
   "execution_count": 17,
   "id": "56efac5e-f8dc-4768-a0e9-6d8351e2e3da",
   "metadata": {},
   "outputs": [],
   "source": [
    "pl = bol.get_productlist()"
   ]
  },
  {
   "cell_type": "code",
   "execution_count": 21,
   "id": "66f962c3-308b-45bf-aaeb-49356641965d",
   "metadata": {},
   "outputs": [
    {
     "data": {
      "text/plain": [
       "[]"
      ]
     },
     "execution_count": 21,
     "metadata": {},
     "output_type": "execute_result"
    }
   ],
   "source": [
    "bol._productlist_bs4"
   ]
  },
  {
   "cell_type": "code",
   "execution_count": 22,
   "id": "5796d1b4-4e6f-4bec-b6f2-c7f3ef2fb5fd",
   "metadata": {},
   "outputs": [
    {
     "data": {
      "text/plain": [
       "{'product_search_result_locator': ('li',\n",
       "  {'attrs': {'class': 'product-item--row'}}),\n",
       " 'provider_id_locator': None,\n",
       " 'name_locator': None,\n",
       " 'url_locator': None,\n",
       " 'price_locator': None,\n",
       " 'original_price_locator': None}"
      ]
     },
     "execution_count": 22,
     "metadata": {},
     "output_type": "execute_result"
    }
   ],
   "source": [
    "bol.locators"
   ]
  },
  {
   "cell_type": "code",
   "execution_count": 18,
   "id": "ee8ccc24-850f-42f1-a631-df2062419746",
   "metadata": {},
   "outputs": [
    {
     "data": {
      "text/plain": [
       "[]"
      ]
     },
     "execution_count": 18,
     "metadata": {},
     "output_type": "execute_result"
    }
   ],
   "source": [
    "pl"
   ]
  },
  {
   "cell_type": "code",
   "execution_count": null,
   "id": "a24098a1-1d58-4c62-9215-8022c545c8e0",
   "metadata": {},
   "outputs": [],
   "source": [
    "# pl"
   ]
  },
  {
   "cell_type": "code",
   "execution_count": null,
   "id": "479f3a07-344e-440b-bae1-a273afbdbc9d",
   "metadata": {},
   "outputs": [],
   "source": [
    "from pathlib import Path"
   ]
  },
  {
   "cell_type": "code",
   "execution_count": null,
   "id": "2a603a4c-f5e1-4d49-a0af-3421a04cbacc",
   "metadata": {},
   "outputs": [],
   "source": [
    "project_dir = Path(__name__).resolve().parents[2]"
   ]
  },
  {
   "cell_type": "code",
   "execution_count": null,
   "id": "edf74c69-5dc5-4414-9084-804f7db0a0b2",
   "metadata": {},
   "outputs": [],
   "source": [
    "project_dir/'data'/'raw'/'example.csv'"
   ]
  },
  {
   "cell_type": "markdown",
   "id": "67c0ef8a-361f-4b39-b551-ad21f357714f",
   "metadata": {},
   "source": [
    "# Create DB"
   ]
  },
  {
   "cell_type": "code",
   "execution_count": null,
   "id": "e0e4752b-2e5f-4d61-afc9-7b427d071599",
   "metadata": {
    "tags": []
   },
   "outputs": [],
   "source": [
    "import sqlite3\n",
    "from sqlite3 import Error"
   ]
  },
  {
   "cell_type": "code",
   "execution_count": null,
   "id": "82e843bb-8c78-44d8-b28b-65a147612492",
   "metadata": {},
   "outputs": [],
   "source": [
    "conn = sqlite3.connect(\"../data/raw/price_tracker.db\",  timeout=10)"
   ]
  },
  {
   "cell_type": "code",
   "execution_count": null,
   "id": "99da5501-f2ee-440a-a94b-d8cb215b1a40",
   "metadata": {},
   "outputs": [],
   "source": [
    "sql_create_products_table = \"\"\" CREATE TABLE IF NOT EXISTS projects (\n",
    "                                    id integer PRIMARY KEY,\n",
    "                                    name text NOT NULL,\n",
    "                                    begin_date text,\n",
    "                                    end_date text\n",
    "                                ); \"\"\"\n",
    "\n",
    "sql_create_prices_table = \"\"\"CREATE TABLE IF NOT EXISTS prices (\n",
    "                                datetime datetime NOT NULL,\n",
    "                                provider text ,\n",
    "                                provider_id text,\n",
    "                                name text,\n",
    "                                price numeric,\n",
    "                                original_price numeric\n",
    "                            );\"\"\""
   ]
  },
  {
   "cell_type": "code",
   "execution_count": null,
   "id": "41d575c5-3403-4a84-881e-431bec7351b4",
   "metadata": {},
   "outputs": [],
   "source": [
    "def create_table(conn, create_table_sql):\n",
    "    \"\"\" create a table from the create_table_sql statement\n",
    "    :param conn: Connection object\n",
    "    :param create_table_sql: a CREATE TABLE statement\n",
    "    :return:\n",
    "    \"\"\"\n",
    "    try:\n",
    "        c = conn.cursor()\n",
    "        c.execute(create_table_sql)\n",
    "    except Error as e:\n",
    "        print(e)"
   ]
  },
  {
   "cell_type": "code",
   "execution_count": null,
   "id": "a6ee5146-e117-4154-8aed-7de281531aaa",
   "metadata": {},
   "outputs": [],
   "source": [
    "create_table(conn, sql_create_prices_table)"
   ]
  },
  {
   "cell_type": "code",
   "execution_count": null,
   "id": "25985a99-f393-410c-9133-53fad6302645",
   "metadata": {},
   "outputs": [],
   "source": [
    "conn.close()"
   ]
  },
  {
   "cell_type": "markdown",
   "id": "3806a0d8-daff-4b36-8d6f-ec6ac24118fe",
   "metadata": {},
   "source": [
    "# Pandas"
   ]
  },
  {
   "cell_type": "code",
   "execution_count": 24,
   "id": "c8552b4e-0d06-4d4a-b34f-88472a98e0bb",
   "metadata": {},
   "outputs": [],
   "source": [
    "import pandas as pd\n",
    "\n",
    "data_dir = project_dir/'data'/'external'\n",
    "max_file = data_dir /'new_price.tsv'\n",
    "second_max_file = data_dir / 'old_price.tsv'\n",
    "\n",
    "df_max = pd.read_csv(max_file, sep = '\\t')\n",
    "df_second_max = pd.read_csv(second_max_file, sep = '\\t')"
   ]
  },
  {
   "cell_type": "code",
   "execution_count": 25,
   "id": "61b64f1e-8395-49a1-8d0b-8609971e7fc9",
   "metadata": {},
   "outputs": [],
   "source": [
    "for df in [df_max, df_second_max]:\n",
    "    df['provider_id'] = df['provider_id'].astype('str')\n",
    "\n",
    "df = pd.merge(df_second_max, df_max, on = ['provider', 'provider_id'], \n",
    "        suffixes = (None, '_old'))\n",
    "\n",
    "df['discount'] = 1 - df['price'] / df['price_old']\n",
    "\n",
    "df_notify = df[df['discount'] >=0.05]"
   ]
  },
  {
   "cell_type": "code",
   "execution_count": 26,
   "id": "aeacb000-505d-4a28-b5ff-86c65a24c821",
   "metadata": {},
   "outputs": [
    {
     "data": {
      "text/html": [
       "<div>\n",
       "<style scoped>\n",
       "    .dataframe tbody tr th:only-of-type {\n",
       "        vertical-align: middle;\n",
       "    }\n",
       "\n",
       "    .dataframe tbody tr th {\n",
       "        vertical-align: top;\n",
       "    }\n",
       "\n",
       "    .dataframe thead th {\n",
       "        text-align: right;\n",
       "    }\n",
       "</style>\n",
       "<table border=\"1\" class=\"dataframe\">\n",
       "  <thead>\n",
       "    <tr style=\"text-align: right;\">\n",
       "      <th></th>\n",
       "      <th>provider</th>\n",
       "      <th>provider_id</th>\n",
       "      <th>name</th>\n",
       "      <th>price</th>\n",
       "      <th>original_price</th>\n",
       "      <th>hidden_price</th>\n",
       "      <th>URL</th>\n",
       "      <th>name_old</th>\n",
       "      <th>price_old</th>\n",
       "      <th>original_price_old</th>\n",
       "      <th>hidden_price_old</th>\n",
       "      <th>URL_old</th>\n",
       "      <th>discount</th>\n",
       "    </tr>\n",
       "  </thead>\n",
       "  <tbody>\n",
       "    <tr>\n",
       "      <th>3</th>\n",
       "      <td>bol</td>\n",
       "      <td>9200000102203020</td>\n",
       "      <td>Philips Sonicare ProtectiveClean 4500 Sonische...</td>\n",
       "      <td>73.99</td>\n",
       "      <td>NaN</td>\n",
       "      <td>73.99</td>\n",
       "      <td>https://bol.com/nl/nl/p/philips-sonicare-prote...</td>\n",
       "      <td>Philips Sonicare ProtectiveClean 4500 Sonische...</td>\n",
       "      <td>79.99</td>\n",
       "      <td>NaN</td>\n",
       "      <td>79.99</td>\n",
       "      <td>https://bol.com/nl/nl/p/philips-sonicare-prote...</td>\n",
       "      <td>0.075009</td>\n",
       "    </tr>\n",
       "    <tr>\n",
       "      <th>43</th>\n",
       "      <td>bol</td>\n",
       "      <td>9200000073431957</td>\n",
       "      <td>BRITA fill&amp;enjoy Aluna Cool Waterfilterkan - W...</td>\n",
       "      <td>23.96</td>\n",
       "      <td>NaN</td>\n",
       "      <td>23.96</td>\n",
       "      <td>https://bol.com/nl/nl/p/brita-fill-enjoy-aluna...</td>\n",
       "      <td>BRITA fill&amp;enjoy Aluna Cool Waterfilterkan - W...</td>\n",
       "      <td>25.54</td>\n",
       "      <td>NaN</td>\n",
       "      <td>25.54</td>\n",
       "      <td>https://bol.com/nl/nl/p/brita-fill-enjoy-aluna...</td>\n",
       "      <td>0.061864</td>\n",
       "    </tr>\n",
       "    <tr>\n",
       "      <th>81</th>\n",
       "      <td>bol</td>\n",
       "      <td>9300000024291116</td>\n",
       "      <td>Little Dutch Badbekers Bademmertjes Gans Littl...</td>\n",
       "      <td>12.99</td>\n",
       "      <td>NaN</td>\n",
       "      <td>12.99</td>\n",
       "      <td>https://bol.com/nl/nl/p/little-dutch-badbekers...</td>\n",
       "      <td>Little Dutch Badbekers Bademmertjes Gans Littl...</td>\n",
       "      <td>13.99</td>\n",
       "      <td>NaN</td>\n",
       "      <td>13.99</td>\n",
       "      <td>https://bol.com/nl/nl/p/little-dutch-badbekers...</td>\n",
       "      <td>0.071480</td>\n",
       "    </tr>\n",
       "    <tr>\n",
       "      <th>86</th>\n",
       "      <td>bol</td>\n",
       "      <td>9200000111009145</td>\n",
       "      <td>Little Dutch Houten Poppenhuis</td>\n",
       "      <td>87.96</td>\n",
       "      <td>NaN</td>\n",
       "      <td>87.96</td>\n",
       "      <td>https://bol.com/nl/nl/p/little-dutch-houten-po...</td>\n",
       "      <td>Little Dutch Houten Poppenhuis</td>\n",
       "      <td>96.70</td>\n",
       "      <td>NaN</td>\n",
       "      <td>96.70</td>\n",
       "      <td>https://bol.com/nl/nl/p/little-dutch-houten-po...</td>\n",
       "      <td>0.090383</td>\n",
       "    </tr>\n",
       "    <tr>\n",
       "      <th>92</th>\n",
       "      <td>bol</td>\n",
       "      <td>9300000006328985</td>\n",
       "      <td>Dettol Handzeep Zachte Mousse - Navulling Magi...</td>\n",
       "      <td>9.99</td>\n",
       "      <td>NaN</td>\n",
       "      <td>9.99</td>\n",
       "      <td>https://bol.com/nl/nl/p/dettol-handzeep-zachte...</td>\n",
       "      <td>Dettol Handzeep Zachte Mousse - Navulling Magi...</td>\n",
       "      <td>12.99</td>\n",
       "      <td>NaN</td>\n",
       "      <td>12.99</td>\n",
       "      <td>https://bol.com/nl/nl/p/dettol-handzeep-zachte...</td>\n",
       "      <td>0.230947</td>\n",
       "    </tr>\n",
       "    <tr>\n",
       "      <th>95</th>\n",
       "      <td>bol</td>\n",
       "      <td>9200000107510712</td>\n",
       "      <td>illy Espresso Intenso Koffiecups - 10 x 10 stu...</td>\n",
       "      <td>32.93</td>\n",
       "      <td>43,90</td>\n",
       "      <td>32.93</td>\n",
       "      <td>https://bol.com/nl/nl/p/illy-espresso-intenso-...</td>\n",
       "      <td>illy Espresso Intenso Koffiecups - 10 x 10 stu...</td>\n",
       "      <td>42.50</td>\n",
       "      <td>NaN</td>\n",
       "      <td>42.50</td>\n",
       "      <td>https://bol.com/nl/nl/p/illy-espresso-intenso-...</td>\n",
       "      <td>0.225176</td>\n",
       "    </tr>\n",
       "    <tr>\n",
       "      <th>98</th>\n",
       "      <td>bol</td>\n",
       "      <td>9300000003898934</td>\n",
       "      <td>illy Espresso Decaffeinato Koffiecups - 10 x 1...</td>\n",
       "      <td>32.93</td>\n",
       "      <td>43,90</td>\n",
       "      <td>32.93</td>\n",
       "      <td>https://bol.com/nl/nl/p/illy-espresso-decaffei...</td>\n",
       "      <td>illy Espresso Decaffeinato Koffiecups - 10 x 1...</td>\n",
       "      <td>42.50</td>\n",
       "      <td>NaN</td>\n",
       "      <td>42.50</td>\n",
       "      <td>https://bol.com/nl/nl/p/illy-espresso-decaffei...</td>\n",
       "      <td>0.225176</td>\n",
       "    </tr>\n",
       "    <tr>\n",
       "      <th>108</th>\n",
       "      <td>bol</td>\n",
       "      <td>9300000007109869</td>\n",
       "      <td>illy - Iperespresso koffie home cafeinevrij 6 ...</td>\n",
       "      <td>50.28</td>\n",
       "      <td>NaN</td>\n",
       "      <td>50.28</td>\n",
       "      <td>https://bol.com/nl/nl/p/illy-iperespresso-koff...</td>\n",
       "      <td>illy - Iperespresso koffie home cafeinevrij 6 ...</td>\n",
       "      <td>53.99</td>\n",
       "      <td>NaN</td>\n",
       "      <td>53.99</td>\n",
       "      <td>https://bol.com/nl/nl/p/illy-iperespresso-koff...</td>\n",
       "      <td>0.068716</td>\n",
       "    </tr>\n",
       "  </tbody>\n",
       "</table>\n",
       "</div>"
      ],
      "text/plain": [
       "    provider       provider_id  \\\n",
       "3        bol  9200000102203020   \n",
       "43       bol  9200000073431957   \n",
       "81       bol  9300000024291116   \n",
       "86       bol  9200000111009145   \n",
       "92       bol  9300000006328985   \n",
       "95       bol  9200000107510712   \n",
       "98       bol  9300000003898934   \n",
       "108      bol  9300000007109869   \n",
       "\n",
       "                                                  name  price original_price  \\\n",
       "3    Philips Sonicare ProtectiveClean 4500 Sonische...  73.99            NaN   \n",
       "43   BRITA fill&enjoy Aluna Cool Waterfilterkan - W...  23.96            NaN   \n",
       "81   Little Dutch Badbekers Bademmertjes Gans Littl...  12.99            NaN   \n",
       "86                      Little Dutch Houten Poppenhuis  87.96            NaN   \n",
       "92   Dettol Handzeep Zachte Mousse - Navulling Magi...   9.99            NaN   \n",
       "95   illy Espresso Intenso Koffiecups - 10 x 10 stu...  32.93          43,90   \n",
       "98   illy Espresso Decaffeinato Koffiecups - 10 x 1...  32.93          43,90   \n",
       "108  illy - Iperespresso koffie home cafeinevrij 6 ...  50.28            NaN   \n",
       "\n",
       "     hidden_price                                                URL  \\\n",
       "3           73.99  https://bol.com/nl/nl/p/philips-sonicare-prote...   \n",
       "43          23.96  https://bol.com/nl/nl/p/brita-fill-enjoy-aluna...   \n",
       "81          12.99  https://bol.com/nl/nl/p/little-dutch-badbekers...   \n",
       "86          87.96  https://bol.com/nl/nl/p/little-dutch-houten-po...   \n",
       "92           9.99  https://bol.com/nl/nl/p/dettol-handzeep-zachte...   \n",
       "95          32.93  https://bol.com/nl/nl/p/illy-espresso-intenso-...   \n",
       "98          32.93  https://bol.com/nl/nl/p/illy-espresso-decaffei...   \n",
       "108         50.28  https://bol.com/nl/nl/p/illy-iperespresso-koff...   \n",
       "\n",
       "                                              name_old  price_old  \\\n",
       "3    Philips Sonicare ProtectiveClean 4500 Sonische...      79.99   \n",
       "43   BRITA fill&enjoy Aluna Cool Waterfilterkan - W...      25.54   \n",
       "81   Little Dutch Badbekers Bademmertjes Gans Littl...      13.99   \n",
       "86                      Little Dutch Houten Poppenhuis      96.70   \n",
       "92   Dettol Handzeep Zachte Mousse - Navulling Magi...      12.99   \n",
       "95   illy Espresso Intenso Koffiecups - 10 x 10 stu...      42.50   \n",
       "98   illy Espresso Decaffeinato Koffiecups - 10 x 1...      42.50   \n",
       "108  illy - Iperespresso koffie home cafeinevrij 6 ...      53.99   \n",
       "\n",
       "    original_price_old  hidden_price_old  \\\n",
       "3                  NaN             79.99   \n",
       "43                 NaN             25.54   \n",
       "81                 NaN             13.99   \n",
       "86                 NaN             96.70   \n",
       "92                 NaN             12.99   \n",
       "95                 NaN             42.50   \n",
       "98                 NaN             42.50   \n",
       "108                NaN             53.99   \n",
       "\n",
       "                                               URL_old  discount  \n",
       "3    https://bol.com/nl/nl/p/philips-sonicare-prote...  0.075009  \n",
       "43   https://bol.com/nl/nl/p/brita-fill-enjoy-aluna...  0.061864  \n",
       "81   https://bol.com/nl/nl/p/little-dutch-badbekers...  0.071480  \n",
       "86   https://bol.com/nl/nl/p/little-dutch-houten-po...  0.090383  \n",
       "92   https://bol.com/nl/nl/p/dettol-handzeep-zachte...  0.230947  \n",
       "95   https://bol.com/nl/nl/p/illy-espresso-intenso-...  0.225176  \n",
       "98   https://bol.com/nl/nl/p/illy-espresso-decaffei...  0.225176  \n",
       "108  https://bol.com/nl/nl/p/illy-iperespresso-koff...  0.068716  "
      ]
     },
     "execution_count": 26,
     "metadata": {},
     "output_type": "execute_result"
    }
   ],
   "source": [
    "df_notify"
   ]
  },
  {
   "cell_type": "code",
   "execution_count": 23,
   "id": "5b54b4eb-fbb0-4cb8-ba47-eaf1acfe3c4a",
   "metadata": {},
   "outputs": [
    {
     "data": {
      "text/plain": [
       "'https://bol.com/nl/nl/p/illy-iperespresso-koffie-home-cafeinevrij-6-x-18-capsules/9300000007109869/'"
      ]
     },
     "execution_count": 23,
     "metadata": {},
     "output_type": "execute_result"
    }
   ],
   "source": [
    "df_notify['URL'].values[-1]"
   ]
  },
  {
   "cell_type": "code",
   "execution_count": 262,
   "id": "333af001-b255-43cb-84dc-3f1c305f8fc6",
   "metadata": {},
   "outputs": [],
   "source": [
    "record = records[0]"
   ]
  },
  {
   "cell_type": "code",
   "execution_count": 263,
   "id": "d3a86eb5-54c1-4c13-a393-e2c38e4a2ac9",
   "metadata": {},
   "outputs": [],
   "source": [
    "records = df_notify.to_dict(orient = 'records')\n",
    "r = []\n",
    "for record in records:\n",
    "    price = record['price']\n",
    "    original_price = record['price_old']\n",
    "    url = record['URL']\n",
    "\n",
    "    r.append('\\n'.join([record['provider'], record['name'], f'{price}~{original_price}~',\n",
    "                            f'<{url}|Product Link>'\n",
    "                           ])\n",
    "            )"
   ]
  },
  {
   "cell_type": "code",
   "execution_count": 264,
   "id": "d8183df9-d57c-4e70-9618-1de89b991464",
   "metadata": {},
   "outputs": [
    {
     "data": {
      "text/plain": [
       "''"
      ]
     },
     "execution_count": 264,
     "metadata": {},
     "output_type": "execute_result"
    }
   ],
   "source": [
    "'\\n\\n'.join(r)"
   ]
  },
  {
   "cell_type": "markdown",
   "id": "74a75bb7-56c8-409b-988d-a112f7d178d5",
   "metadata": {},
   "source": [
    "# Pandas All Files"
   ]
  },
  {
   "cell_type": "code",
   "execution_count": 173,
   "id": "02c6d935-1c69-428b-ae90-498a4f8e05a9",
   "metadata": {},
   "outputs": [],
   "source": [
    "from concurrent.futures import ProcessPoolExecutor\n",
    "import pandas as pd"
   ]
  },
  {
   "cell_type": "code",
   "execution_count": 160,
   "id": "457d4b84-45c6-4228-b165-44574de10d2c",
   "metadata": {},
   "outputs": [],
   "source": [
    "data_dir = project_dir/'data'/'raw'"
   ]
  },
  {
   "cell_type": "code",
   "execution_count": 170,
   "id": "57216629-2a5d-42aa-bd88-e6ddc7a9dcfc",
   "metadata": {},
   "outputs": [],
   "source": [
    "example_file = list(data_dir.iterdir())[0]"
   ]
  },
  {
   "cell_type": "code",
   "execution_count": 189,
   "id": "1a224230-1393-462c-bc38-236a8b35ad68",
   "metadata": {},
   "outputs": [
    {
     "data": {
      "text/plain": [
       "'2021-10-05 12:00PM.tsv'"
      ]
     },
     "execution_count": 189,
     "metadata": {},
     "output_type": "execute_result"
    }
   ],
   "source": [
    "example_file.name"
   ]
  },
  {
   "cell_type": "code",
   "execution_count": 194,
   "id": "24cb43b0-b840-4a47-a356-caa2ae430a44",
   "metadata": {},
   "outputs": [],
   "source": [
    "def read_each_tsv(file):\n",
    "    try:\n",
    "        df = pd.read_csv(file, sep = '\\t', )\n",
    "        df['parse_date'] = file.name.rstrip('.tsv')\n",
    "        return df\n",
    "    except:\n",
    "        print(file)"
   ]
  },
  {
   "cell_type": "code",
   "execution_count": 239,
   "id": "aa3674c1-b052-4c24-9389-a66b6a6e95f4",
   "metadata": {},
   "outputs": [
    {
     "name": "stdout",
     "output_type": "stream",
     "text": [
      "/home/jetson/pi_projects/raspberrypi_projects/price_tracker/data/raw/.gitkeep\n"
     ]
    }
   ],
   "source": [
    "with ProcessPoolExecutor() as pool:\n",
    "    results = pool.map(read_each_tsv, data_dir.iterdir())"
   ]
  },
  {
   "cell_type": "code",
   "execution_count": 240,
   "id": "219ee006-11d2-492c-9df2-f7453a0b2e50",
   "metadata": {},
   "outputs": [],
   "source": [
    "df = pd.concat(results)"
   ]
  },
  {
   "cell_type": "code",
   "execution_count": 241,
   "id": "586ba901-ebc7-4fa8-bd63-1d393f9ec826",
   "metadata": {},
   "outputs": [],
   "source": [
    "df['parse_date'] = pd.to_datetime(df['parse_date'])"
   ]
  },
  {
   "cell_type": "code",
   "execution_count": 252,
   "id": "687e7c23-cb26-4d60-9664-408297149566",
   "metadata": {},
   "outputs": [],
   "source": [
    "df_brita = df[df['name'].str.contains('BRITA Waterfilterkan Style Cool Blue')].copy()"
   ]
  },
  {
   "cell_type": "code",
   "execution_count": 253,
   "id": "8059c776-c5e1-42b1-bf45-46f9e15e49cc",
   "metadata": {},
   "outputs": [],
   "source": [
    "df_brita.set_index('parse_date', inplace = True)"
   ]
  },
  {
   "cell_type": "code",
   "execution_count": 254,
   "id": "408211f4-ec65-4b61-9add-94d3bea9e890",
   "metadata": {},
   "outputs": [],
   "source": [
    "df_brita.sort_index(inplace = True)"
   ]
  },
  {
   "cell_type": "code",
   "execution_count": 255,
   "id": "55556cd7-e213-40bd-8931-e9b5a3d09e99",
   "metadata": {},
   "outputs": [
    {
     "data": {
      "text/html": [
       "<div>\n",
       "<style scoped>\n",
       "    .dataframe tbody tr th:only-of-type {\n",
       "        vertical-align: middle;\n",
       "    }\n",
       "\n",
       "    .dataframe tbody tr th {\n",
       "        vertical-align: top;\n",
       "    }\n",
       "\n",
       "    .dataframe thead th {\n",
       "        text-align: right;\n",
       "    }\n",
       "</style>\n",
       "<table border=\"1\" class=\"dataframe\">\n",
       "  <thead>\n",
       "    <tr style=\"text-align: right;\">\n",
       "      <th></th>\n",
       "      <th>provider</th>\n",
       "      <th>provider_id</th>\n",
       "      <th>name</th>\n",
       "      <th>price</th>\n",
       "      <th>original_price</th>\n",
       "      <th>URL</th>\n",
       "    </tr>\n",
       "    <tr>\n",
       "      <th>parse_date</th>\n",
       "      <th></th>\n",
       "      <th></th>\n",
       "      <th></th>\n",
       "      <th></th>\n",
       "      <th></th>\n",
       "      <th></th>\n",
       "    </tr>\n",
       "  </thead>\n",
       "  <tbody>\n",
       "    <tr>\n",
       "      <th>2021-10-06 05:02:00</th>\n",
       "      <td>bol</td>\n",
       "      <td>9200000074016762</td>\n",
       "      <td>BRITA Waterfilterkan Style Cool Blue 2,4L + 3 ...</td>\n",
       "      <td>42.94</td>\n",
       "      <td>NaN</td>\n",
       "      <td>https://bol.com/nl/nl/p/brita-waterfilterkan-s...</td>\n",
       "    </tr>\n",
       "    <tr>\n",
       "      <th>2021-10-06 06:02:00</th>\n",
       "      <td>bol</td>\n",
       "      <td>9200000074016762</td>\n",
       "      <td>BRITA Waterfilterkan Style Cool Blue 2,4L + 3 ...</td>\n",
       "      <td>42.94</td>\n",
       "      <td>NaN</td>\n",
       "      <td>https://bol.com/nl/nl/p/brita-waterfilterkan-s...</td>\n",
       "    </tr>\n",
       "    <tr>\n",
       "      <th>2021-10-06 07:02:00</th>\n",
       "      <td>bol</td>\n",
       "      <td>9200000074016762</td>\n",
       "      <td>BRITA Waterfilterkan Style Cool Blue 2,4L + 3 ...</td>\n",
       "      <td>NaN</td>\n",
       "      <td>NaN</td>\n",
       "      <td>https://bol.com/nl/nl/p/brita-waterfilterkan-s...</td>\n",
       "    </tr>\n",
       "    <tr>\n",
       "      <th>2021-10-06 08:02:00</th>\n",
       "      <td>bol</td>\n",
       "      <td>9200000074016762</td>\n",
       "      <td>BRITA Waterfilterkan Style Cool Blue 2,4L + 3 ...</td>\n",
       "      <td>42.94</td>\n",
       "      <td>NaN</td>\n",
       "      <td>https://bol.com/nl/nl/p/brita-waterfilterkan-s...</td>\n",
       "    </tr>\n",
       "    <tr>\n",
       "      <th>2021-10-06 08:34:00</th>\n",
       "      <td>bol</td>\n",
       "      <td>9200000074016762</td>\n",
       "      <td>BRITA Waterfilterkan Style Cool Blue 2,4L + 3 ...</td>\n",
       "      <td>42.94</td>\n",
       "      <td>NaN</td>\n",
       "      <td>https://bol.com/nl/nl/p/brita-waterfilterkan-s...</td>\n",
       "    </tr>\n",
       "  </tbody>\n",
       "</table>\n",
       "</div>"
      ],
      "text/plain": [
       "                    provider       provider_id  \\\n",
       "parse_date                                       \n",
       "2021-10-06 05:02:00      bol  9200000074016762   \n",
       "2021-10-06 06:02:00      bol  9200000074016762   \n",
       "2021-10-06 07:02:00      bol  9200000074016762   \n",
       "2021-10-06 08:02:00      bol  9200000074016762   \n",
       "2021-10-06 08:34:00      bol  9200000074016762   \n",
       "\n",
       "                                                                  name  price  \\\n",
       "parse_date                                                                      \n",
       "2021-10-06 05:02:00  BRITA Waterfilterkan Style Cool Blue 2,4L + 3 ...  42.94   \n",
       "2021-10-06 06:02:00  BRITA Waterfilterkan Style Cool Blue 2,4L + 3 ...  42.94   \n",
       "2021-10-06 07:02:00  BRITA Waterfilterkan Style Cool Blue 2,4L + 3 ...    NaN   \n",
       "2021-10-06 08:02:00  BRITA Waterfilterkan Style Cool Blue 2,4L + 3 ...  42.94   \n",
       "2021-10-06 08:34:00  BRITA Waterfilterkan Style Cool Blue 2,4L + 3 ...  42.94   \n",
       "\n",
       "                    original_price  \\\n",
       "parse_date                           \n",
       "2021-10-06 05:02:00            NaN   \n",
       "2021-10-06 06:02:00            NaN   \n",
       "2021-10-06 07:02:00            NaN   \n",
       "2021-10-06 08:02:00            NaN   \n",
       "2021-10-06 08:34:00            NaN   \n",
       "\n",
       "                                                                   URL  \n",
       "parse_date                                                              \n",
       "2021-10-06 05:02:00  https://bol.com/nl/nl/p/brita-waterfilterkan-s...  \n",
       "2021-10-06 06:02:00  https://bol.com/nl/nl/p/brita-waterfilterkan-s...  \n",
       "2021-10-06 07:02:00  https://bol.com/nl/nl/p/brita-waterfilterkan-s...  \n",
       "2021-10-06 08:02:00  https://bol.com/nl/nl/p/brita-waterfilterkan-s...  \n",
       "2021-10-06 08:34:00  https://bol.com/nl/nl/p/brita-waterfilterkan-s...  "
      ]
     },
     "execution_count": 255,
     "metadata": {},
     "output_type": "execute_result"
    }
   ],
   "source": [
    "df_brita.tail()"
   ]
  },
  {
   "cell_type": "markdown",
   "id": "415864ef-4138-4d48-982f-5f522df2d64a",
   "metadata": {},
   "source": [
    "# Dotenv"
   ]
  },
  {
   "cell_type": "code",
   "execution_count": null,
   "id": "daee9cec-12ae-4f11-b58b-86f2fea8c921",
   "metadata": {},
   "outputs": [],
   "source": [
    "from dotenv import find_dotenv, load_dotenv"
   ]
  },
  {
   "cell_type": "code",
   "execution_count": null,
   "id": "3501439a-4c6b-4e86-9056-3f102086dcd6",
   "metadata": {},
   "outputs": [],
   "source": [
    "load_dotenv(find_dotenv())"
   ]
  },
  {
   "cell_type": "code",
   "execution_count": null,
   "id": "35a3068c-caf3-4f9d-9368-29bdf7854984",
   "metadata": {},
   "outputs": [],
   "source": [
    "f = project_dir.parent / 'Utils'"
   ]
  },
  {
   "cell_type": "code",
   "execution_count": null,
   "id": "7fb11563-246f-4654-a27f-537970daa723",
   "metadata": {},
   "outputs": [],
   "source": [
    "f"
   ]
  },
  {
   "cell_type": "markdown",
   "id": "1af153d2-d172-4977-932c-3abcf5e09e77",
   "metadata": {},
   "source": [
    "# Selenium Driver"
   ]
  },
  {
   "cell_type": "code",
   "execution_count": 14,
   "id": "8d4321ac-0b47-4409-a25e-25f66a83be15",
   "metadata": {},
   "outputs": [],
   "source": [
    "bol = BolScraper('https://www.bol.com/nl/nl/s/?searchtext=brita', driver_method = 'selenium')"
   ]
  },
  {
   "cell_type": "code",
   "execution_count": 15,
   "id": "b75d6b71-cbcd-4d84-bb46-f572f3538c89",
   "metadata": {},
   "outputs": [],
   "source": [
    "pl = bol.get_productlist()"
   ]
  },
  {
   "cell_type": "code",
   "execution_count": 20,
   "id": "abc63169-4a58-4a2f-ab34-968af4376838",
   "metadata": {},
   "outputs": [
    {
     "data": {
      "text/plain": [
       "<selenium.webdriver.chrome.webdriver.WebDriver (session=\"366ffb8fb0c52d2d66a149f2cd27670c\")>"
      ]
     },
     "execution_count": 20,
     "metadata": {},
     "output_type": "execute_result"
    }
   ],
   "source": [
    "bol.driver"
   ]
  },
  {
   "cell_type": "code",
   "execution_count": 17,
   "id": "697b7536-31b5-4ff8-ae14-d9ce4f7d07a6",
   "metadata": {},
   "outputs": [],
   "source": [
    "# pl"
   ]
  },
  {
   "cell_type": "code",
   "execution_count": 18,
   "id": "6c7721dd-89d7-4e1d-8991-abe07b878b3a",
   "metadata": {},
   "outputs": [],
   "source": [
    "bol.close()"
   ]
  },
  {
   "cell_type": "markdown",
   "id": "c2a7c1b1-ed19-43eb-84f8-3f909e37c8ee",
   "metadata": {},
   "source": [
    "# MediaMarkt"
   ]
  },
  {
   "cell_type": "code",
   "execution_count": 11,
   "id": "2cfebf22-7713-4e93-a160-30a93db50caf",
   "metadata": {},
   "outputs": [],
   "source": [
    "from scrape_mediamarkt import *"
   ]
  },
  {
   "cell_type": "code",
   "execution_count": 12,
   "id": "ed24a9de-6ce0-494c-97f7-b55ad1efbc59",
   "metadata": {},
   "outputs": [],
   "source": [
    "url =  'https://www.mediamarkt.nl/nl/search.html?query=galaxy+tab+s7&searchProfile=onlineshop&channel=mmnlnl'"
   ]
  },
  {
   "cell_type": "code",
   "execution_count": 13,
   "id": "8488a538-577b-4114-933e-19c8017e79a4",
   "metadata": {},
   "outputs": [],
   "source": [
    "s = MediaMarktScraper(url, driver_method = 'selenium')"
   ]
  },
  {
   "cell_type": "code",
   "execution_count": 14,
   "id": "f90d3406-c236-4c74-afdd-e0eda4b29b74",
   "metadata": {},
   "outputs": [],
   "source": [
    "product_lists = s.page.find_all('div', attrs = {'class':'product-wrapper'})"
   ]
  },
  {
   "cell_type": "code",
   "execution_count": 15,
   "id": "36d1627e-3442-4470-bb9e-b6e4f6fea32e",
   "metadata": {},
   "outputs": [
    {
     "data": {
      "text/plain": [
       "[Product(provider='mediamarkt', provider_id='MMNL1687668', name='SAMSUNG Galaxy Tab S7+ 256 GB WIFI Blauw', url='https://mediamarkt.nl/nl/product/_samsung-galaxy-tab-s7-256-gb-wifi-blauw-1687668.html', price='849.', original_price='979.', hidden_price=None),\n",
       " Product(provider='mediamarkt', provider_id='MMNL1697849', name='SAMSUNG GALAXY TAB S7 128GB LTE - Enterprise Edition - BLACK', url='https://mediamarkt.nl/nl/product/_samsung-galaxy-tab-s7-128gb-lte-enterprise-edition-black-1697849.html', price='669.', original_price='669.', hidden_price=None),\n",
       " Product(provider='mediamarkt', provider_id='MMNL1687667', name='SAMSUNG Galaxy Tab S7+ 128 GB WIFI Blauw', url='https://mediamarkt.nl/nl/product/_samsung-galaxy-tab-s7-128-gb-wifi-blauw-1687667.html', price='841.', original_price='899.', hidden_price=None),\n",
       " Product(provider='mediamarkt', provider_id='MMNL1687665', name='SAMSUNG Galaxy Tab S7 128 GB WIFI Blauw', url='https://mediamarkt.nl/nl/product/_samsung-galaxy-tab-s7-128-gb-wifi-blauw-1687665.html', price='635.', original_price='699.', hidden_price=None),\n",
       " Product(provider='mediamarkt', provider_id='MMNL1687666', name='SAMSUNG Galaxy Tab S7 256 GB WIFI Blauw', url='https://mediamarkt.nl/nl/product/_samsung-galaxy-tab-s7-256-gb-wifi-blauw-1687666.html', price='699.', original_price='779.', hidden_price=None),\n",
       " Product(provider='mediamarkt', provider_id='MMNL1668519', name='SAMSUNG GALAXY TAB S7+ 128GB WIFI BLACK', url='https://mediamarkt.nl/nl/product/_samsung-galaxy-tab-s7-128gb-wifi-black-1668519.html', price='841.', original_price='899.', hidden_price=None),\n",
       " Product(provider='mediamarkt', provider_id='MMNL1668522', name='SAMSUNG GALAXY TAB S7+ 128GB 5G BLACK', url='https://mediamarkt.nl/nl/product/_samsung-galaxy-tab-s7-128gb-5g-black-1668522.html', price='1039.', original_price='1039.', hidden_price=None),\n",
       " Product(provider='mediamarkt', provider_id='MMNL1668520', name='SAMSUNG GALAXY TAB S7+ 128GB WIFI BRONZE', url='https://mediamarkt.nl/nl/product/_samsung-galaxy-tab-s7-128gb-wifi-bronze-1668520.html', price='841.', original_price='899.', hidden_price=None),\n",
       " Product(provider='mediamarkt', provider_id='MMNL1668516', name='SAMSUNG GALAXY TAB S7 256GB WIFI BLACK', url='https://mediamarkt.nl/nl/product/_samsung-galaxy-tab-s7-256gb-wifi-black-1668516.html', price='699.', original_price='779.', hidden_price=None),\n",
       " Product(provider='mediamarkt', provider_id='MMNL1668630', name='SAMSUNG GALAXY TAB S7+ 128GB WIFI SILVER', url='https://mediamarkt.nl/nl/product/_samsung-galaxy-tab-s7-128gb-wifi-silver-1668630.html', price='841.', original_price='841.', hidden_price=None)]"
      ]
     },
     "execution_count": 15,
     "metadata": {},
     "output_type": "execute_result"
    }
   ],
   "source": [
    "s.productlist"
   ]
  },
  {
   "cell_type": "code",
   "execution_count": 106,
   "id": "ddd3b5ec-7495-4611-80da-a8dfa37c8348",
   "metadata": {},
   "outputs": [],
   "source": [
    "product = product_lists[0]"
   ]
  },
  {
   "cell_type": "code",
   "execution_count": 126,
   "id": "a04904c4-3a38-4680-afb2-90bb6db0dd7d",
   "metadata": {},
   "outputs": [],
   "source": [
    "prices = product.find('div', attrs = {'class': 'price', 'class': 'small'})"
   ]
  },
  {
   "cell_type": "code",
   "execution_count": 127,
   "id": "a1d35deb-d8df-49ee-80d9-d4cbade0fe79",
   "metadata": {},
   "outputs": [
    {
     "data": {
      "text/plain": [
       "'849.'"
      ]
     },
     "execution_count": 127,
     "metadata": {},
     "output_type": "execute_result"
    }
   ],
   "source": [
    "''.join([i.contents[0] for i in prices.contents]).strip().strip('-').replace(',', '.')"
   ]
  },
  {
   "cell_type": "code",
   "execution_count": 128,
   "id": "b1586013-c6be-4d77-8856-0cc024dde901",
   "metadata": {},
   "outputs": [],
   "source": [
    "old_prices = product.find('div', attrs = {'class': 'price-old', 'class': 'price'})"
   ]
  },
  {
   "cell_type": "code",
   "execution_count": 129,
   "id": "1b8fc697-e744-4335-af9d-f4131c99cc93",
   "metadata": {},
   "outputs": [
    {
     "data": {
      "text/plain": [
       "'979.'"
      ]
     },
     "execution_count": 129,
     "metadata": {},
     "output_type": "execute_result"
    }
   ],
   "source": [
    "''.join([i.contents[0] for i in old_prices.contents]).strip().strip('-').replace(',', '.')"
   ]
  },
  {
   "cell_type": "code",
   "execution_count": 65,
   "id": "87cc1ffb-35ce-4092-9323-714b4112ca37",
   "metadata": {},
   "outputs": [
    {
     "data": {
      "text/plain": [
       "'https://mediamarkt.nl/nl/product/_philips-sonicare-plaquedefense-hx6231-01-1371881.html'"
      ]
     },
     "execution_count": 65,
     "metadata": {},
     "output_type": "execute_result"
    }
   ],
   "source": [
    "'https://mediamarkt.nl'+ product.find('a').attrs['data-clickable-href']"
   ]
  },
  {
   "cell_type": "code",
   "execution_count": 66,
   "id": "559ae5f1-83fa-44ab-a0b5-ea2a0864dbd2",
   "metadata": {},
   "outputs": [
    {
     "data": {
      "text/plain": [
       "{'class': ['product-wrapper'],\n",
       " 'data-bundle': 'false',\n",
       " 'data-modelnumber': '1371881',\n",
       " 'data-age-rating': '0',\n",
       " 'data-gtm-impression-event': 'EEC_PRODUCT_IMPRESSION',\n",
       " 'data-gtm-impression-event-ext': 'product1371881',\n",
       " 'data-reco-pid': 'MMNL1371881'}"
      ]
     },
     "execution_count": 66,
     "metadata": {},
     "output_type": "execute_result"
    }
   ],
   "source": [
    "product.attrs"
   ]
  },
  {
   "cell_type": "code",
   "execution_count": 79,
   "id": "7655bd2a-df69-4d94-93bf-7a51dd4be36e",
   "metadata": {},
   "outputs": [
    {
     "data": {
      "text/plain": [
       "'PHILIPS Sonicare PlaqueDefense HX6231/01'"
      ]
     },
     "execution_count": 79,
     "metadata": {},
     "output_type": "execute_result"
    }
   ],
   "source": [
    "product.find('img').attrs['alt']"
   ]
  },
  {
   "cell_type": "code",
   "execution_count": 16,
   "id": "68af1917-6c09-444b-84e3-d0963d87f7ec",
   "metadata": {},
   "outputs": [],
   "source": [
    "s.close()"
   ]
  },
  {
   "cell_type": "code",
   "execution_count": null,
   "id": "2bd8ee42-ac58-4783-b907-ec88d98afa81",
   "metadata": {},
   "outputs": [],
   "source": []
  }
 ],
 "metadata": {
  "kernelspec": {
   "display_name": "Python 3",
   "language": "python",
   "name": "python3"
  },
  "language_info": {
   "codemirror_mode": {
    "name": "ipython",
    "version": 3
   },
   "file_extension": ".py",
   "mimetype": "text/x-python",
   "name": "python",
   "nbconvert_exporter": "python",
   "pygments_lexer": "ipython3",
   "version": "3.6.9"
  }
 },
 "nbformat": 4,
 "nbformat_minor": 5
}
