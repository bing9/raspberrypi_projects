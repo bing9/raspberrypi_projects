{
 "cells": [
  {
   "cell_type": "code",
   "execution_count": 41,
   "id": "46e0719b-1779-4975-a19a-054dc40275f8",
   "metadata": {},
   "outputs": [],
   "source": [
    "import pandas as pd"
   ]
  },
  {
   "cell_type": "code",
   "execution_count": 42,
   "id": "ff6e0868-61e5-44d0-8626-c1c3f8650b6f",
   "metadata": {},
   "outputs": [],
   "source": [
    "from pathlib import Path"
   ]
  },
  {
   "cell_type": "code",
   "execution_count": 43,
   "id": "630fb0da-5630-4efa-af86-fe4f5b35d0ea",
   "metadata": {},
   "outputs": [],
   "source": [
    "from concurrent.futures import ProcessPoolExecutor"
   ]
  },
  {
   "cell_type": "code",
   "execution_count": 44,
   "id": "d3ed0cef-9000-4c94-b42c-4d3d4c200c4f",
   "metadata": {},
   "outputs": [],
   "source": [
    "project_dir = Path('.').resolve().parents[0]"
   ]
  },
  {
   "cell_type": "code",
   "execution_count": 45,
   "id": "c4dd1d24-ae8f-49a2-9fa5-a9c86b1453fe",
   "metadata": {},
   "outputs": [],
   "source": [
    "data_dir = project_dir/'data'/'raw'"
   ]
  },
  {
   "cell_type": "code",
   "execution_count": 79,
   "id": "f56278ff-0065-43cf-b275-c084e2922acd",
   "metadata": {},
   "outputs": [],
   "source": [
    "names = list(data_dir.iterdir())"
   ]
  },
  {
   "cell_type": "code",
   "execution_count": 86,
   "id": "f09660fe-ee1a-411d-946e-931f9ab7d774",
   "metadata": {},
   "outputs": [],
   "source": [
    "names = sorted([n.name for n in names])"
   ]
  },
  {
   "cell_type": "code",
   "execution_count": 80,
   "id": "15ceb6fa-8517-4721-8876-471d5eb4d658",
   "metadata": {},
   "outputs": [
    {
     "data": {
      "text/plain": [
       "296"
      ]
     },
     "execution_count": 80,
     "metadata": {},
     "output_type": "execute_result"
    }
   ],
   "source": [
    "len(names)"
   ]
  },
  {
   "cell_type": "code",
   "execution_count": 88,
   "id": "1225dc77-1f72-475d-8dd1-bc915641f347",
   "metadata": {},
   "outputs": [
    {
     "data": {
      "text/plain": [
       "['.gitkeep',\n",
       " '2021-10-03 10:04PM.tsv',\n",
       " '2021-10-03 10:06PM.tsv',\n",
       " '2021-10-03 10:21PM.tsv',\n",
       " '2021-10-03 11:12PM.tsv']"
      ]
     },
     "execution_count": 88,
     "metadata": {},
     "output_type": "execute_result"
    }
   ],
   "source": [
    "names[:5]"
   ]
  },
  {
   "cell_type": "code",
   "execution_count": 89,
   "id": "eda6dff6-4640-4741-a83e-9aa795e74fb0",
   "metadata": {},
   "outputs": [
    {
     "data": {
      "text/plain": [
       "['2021-10-23 08:38AM.tsv',\n",
       " '2021-10-23 09:46AM.tsv',\n",
       " '2021-10-23 10:53AM.tsv',\n",
       " '2021-10-23 12:01PM.tsv',\n",
       " '2021-10-23 12:47AM.tsv']"
      ]
     },
     "execution_count": 89,
     "metadata": {},
     "output_type": "execute_result"
    }
   ],
   "source": [
    "names[-5:]"
   ]
  },
  {
   "cell_type": "code",
   "execution_count": 46,
   "id": "a29b7551-9889-492a-b406-e690148118cd",
   "metadata": {},
   "outputs": [],
   "source": [
    "def read_csv(path):\n",
    "    try:\n",
    "        df = pd.read_csv(path, sep = '\\t')\n",
    "        df['parse_date'] = path.name.rstrip('.tsv')\n",
    "        return df\n",
    "    except:\n",
    "        return None"
   ]
  },
  {
   "cell_type": "code",
   "execution_count": 47,
   "id": "a2ea6529-e181-487e-9217-34405b53f49f",
   "metadata": {},
   "outputs": [],
   "source": [
    "with ProcessPoolExecutor() as pool:\n",
    "    dfs = pool.map(read_csv, data_dir.iterdir())"
   ]
  },
  {
   "cell_type": "code",
   "execution_count": 48,
   "id": "4a12cefa-220c-45d7-b4ba-bc7e6f513f80",
   "metadata": {},
   "outputs": [],
   "source": [
    "dfs = list(dfs)"
   ]
  },
  {
   "cell_type": "code",
   "execution_count": 51,
   "id": "67313949-d672-43d2-b9ef-cf916b90d834",
   "metadata": {},
   "outputs": [
    {
     "data": {
      "text/plain": [
       "296"
      ]
     },
     "execution_count": 51,
     "metadata": {},
     "output_type": "execute_result"
    }
   ],
   "source": [
    "len(dfs)"
   ]
  },
  {
   "cell_type": "code",
   "execution_count": 91,
   "id": "fcdcabe6-788f-4dce-acf6-cbf0865f789c",
   "metadata": {},
   "outputs": [],
   "source": [
    "df = pd.concat(dfs)"
   ]
  },
  {
   "cell_type": "code",
   "execution_count": 92,
   "id": "9f44efb4-0bba-4ced-b48e-83c672c60699",
   "metadata": {},
   "outputs": [
    {
     "data": {
      "text/plain": [
       "(129753, 8)"
      ]
     },
     "execution_count": 92,
     "metadata": {},
     "output_type": "execute_result"
    }
   ],
   "source": [
    "df.shape"
   ]
  },
  {
   "cell_type": "code",
   "execution_count": 93,
   "id": "c74962d7-3877-4251-86de-d8a06e2963ce",
   "metadata": {},
   "outputs": [
    {
     "data": {
      "text/html": [
       "<div>\n",
       "<style scoped>\n",
       "    .dataframe tbody tr th:only-of-type {\n",
       "        vertical-align: middle;\n",
       "    }\n",
       "\n",
       "    .dataframe tbody tr th {\n",
       "        vertical-align: top;\n",
       "    }\n",
       "\n",
       "    .dataframe thead th {\n",
       "        text-align: right;\n",
       "    }\n",
       "</style>\n",
       "<table border=\"1\" class=\"dataframe\">\n",
       "  <thead>\n",
       "    <tr style=\"text-align: right;\">\n",
       "      <th></th>\n",
       "      <th>provider</th>\n",
       "      <th>provider_id</th>\n",
       "      <th>name</th>\n",
       "      <th>price</th>\n",
       "      <th>original_price</th>\n",
       "      <th>hidden_price</th>\n",
       "      <th>URL</th>\n",
       "      <th>parse_date</th>\n",
       "    </tr>\n",
       "  </thead>\n",
       "  <tbody>\n",
       "    <tr>\n",
       "      <th>0</th>\n",
       "      <td>bol</td>\n",
       "      <td>9200000119746345</td>\n",
       "      <td>Philips Sonicare ProtectiveClean 4300 HX6805/2...</td>\n",
       "      <td>49.99</td>\n",
       "      <td>NaN</td>\n",
       "      <td>49.99</td>\n",
       "      <td>https://bol.com/nl/nl/p/philips-sonicare-prote...</td>\n",
       "      <td>2021-10-23 10:53AM</td>\n",
       "    </tr>\n",
       "  </tbody>\n",
       "</table>\n",
       "</div>"
      ],
      "text/plain": [
       "  provider       provider_id  \\\n",
       "0      bol  9200000119746345   \n",
       "\n",
       "                                                name  price original_price  \\\n",
       "0  Philips Sonicare ProtectiveClean 4300 HX6805/2...  49.99            NaN   \n",
       "\n",
       "   hidden_price                                                URL  \\\n",
       "0         49.99  https://bol.com/nl/nl/p/philips-sonicare-prote...   \n",
       "\n",
       "           parse_date  \n",
       "0  2021-10-23 10:53AM  "
      ]
     },
     "execution_count": 93,
     "metadata": {},
     "output_type": "execute_result"
    }
   ],
   "source": [
    "df.head(1)"
   ]
  },
  {
   "cell_type": "code",
   "execution_count": 94,
   "id": "cb39e3ae-3537-49ca-bbd7-a8f62d5e6a1e",
   "metadata": {},
   "outputs": [],
   "source": [
    "def clean_numeric(s, to_type = float):\n",
    "    if isinstance(s, str):\n",
    "        return to_type(s.strip().strip('-'))\n",
    "    else:\n",
    "        return s"
   ]
  },
  {
   "cell_type": "code",
   "execution_count": 95,
   "id": "99eb857a-0c3d-4e2e-a67f-a1fffa0e1775",
   "metadata": {},
   "outputs": [],
   "source": [
    "df['price'] = df['price'].apply(clean_numeric)"
   ]
  },
  {
   "cell_type": "code",
   "execution_count": 96,
   "id": "ffa6dfa9-1e4b-462a-8895-5394e22d5c1b",
   "metadata": {},
   "outputs": [],
   "source": [
    "df.sort_values(by = 'price', inplace = True)"
   ]
  },
  {
   "cell_type": "code",
   "execution_count": 97,
   "id": "624dc257-fbc5-4f97-aad3-f29c68d9e3a1",
   "metadata": {},
   "outputs": [],
   "source": [
    "# df.drop_duplicates(subset = ['provider', 'provider_id'], keep = 'first', inplace = True)"
   ]
  },
  {
   "cell_type": "code",
   "execution_count": 98,
   "id": "afe56904-03e9-4648-a59a-d11715fe4826",
   "metadata": {},
   "outputs": [
    {
     "data": {
      "text/html": [
       "<div>\n",
       "<style scoped>\n",
       "    .dataframe tbody tr th:only-of-type {\n",
       "        vertical-align: middle;\n",
       "    }\n",
       "\n",
       "    .dataframe tbody tr th {\n",
       "        vertical-align: top;\n",
       "    }\n",
       "\n",
       "    .dataframe thead th {\n",
       "        text-align: right;\n",
       "    }\n",
       "</style>\n",
       "<table border=\"1\" class=\"dataframe\">\n",
       "  <thead>\n",
       "    <tr style=\"text-align: right;\">\n",
       "      <th></th>\n",
       "      <th>provider</th>\n",
       "      <th>provider_id</th>\n",
       "      <th>name</th>\n",
       "      <th>price</th>\n",
       "      <th>original_price</th>\n",
       "      <th>hidden_price</th>\n",
       "      <th>URL</th>\n",
       "      <th>parse_date</th>\n",
       "    </tr>\n",
       "  </thead>\n",
       "  <tbody>\n",
       "    <tr>\n",
       "      <th>226</th>\n",
       "      <td>bol</td>\n",
       "      <td>9300000007382505</td>\n",
       "      <td>OTRONIC® Relais Module 5v | Ideaal voor Arduin...</td>\n",
       "      <td>2.74</td>\n",
       "      <td>NaN</td>\n",
       "      <td>2.74</td>\n",
       "      <td>https://bol.com/nl/nl/p/otronic-relais-module-...</td>\n",
       "      <td>2021-10-23 09:46AM</td>\n",
       "    </tr>\n",
       "  </tbody>\n",
       "</table>\n",
       "</div>"
      ],
      "text/plain": [
       "    provider       provider_id  \\\n",
       "226      bol  9300000007382505   \n",
       "\n",
       "                                                  name  price original_price  \\\n",
       "226  OTRONIC® Relais Module 5v | Ideaal voor Arduin...   2.74            NaN   \n",
       "\n",
       "     hidden_price                                                URL  \\\n",
       "226          2.74  https://bol.com/nl/nl/p/otronic-relais-module-...   \n",
       "\n",
       "             parse_date  \n",
       "226  2021-10-23 09:46AM  "
      ]
     },
     "execution_count": 98,
     "metadata": {},
     "output_type": "execute_result"
    }
   ],
   "source": [
    "df.head(1)"
   ]
  },
  {
   "cell_type": "code",
   "execution_count": 99,
   "id": "dfbed45e-2f90-487e-b0b7-c0f58d1b8dc1",
   "metadata": {},
   "outputs": [],
   "source": [
    "df['parse_date'] = pd.to_datetime(df['parse_date'])"
   ]
  },
  {
   "cell_type": "code",
   "execution_count": 100,
   "id": "23183d1b-3a57-4bea-8e28-c57d0b9132eb",
   "metadata": {},
   "outputs": [],
   "source": [
    "df.set_index('parse_date', inplace = True)"
   ]
  },
  {
   "cell_type": "code",
   "execution_count": 101,
   "id": "24bbd455-9bde-4ce6-ac52-147b438d280d",
   "metadata": {},
   "outputs": [],
   "source": [
    "df.sort_index(inplace = True)"
   ]
  },
  {
   "cell_type": "code",
   "execution_count": 102,
   "id": "68772861-9c3a-48ab-bdb7-8bf98e9e4d48",
   "metadata": {},
   "outputs": [],
   "source": [
    "df.to_csv('combined_data.tsv', sep = '\\t')"
   ]
  },
  {
   "cell_type": "markdown",
   "id": "d71f0a3c-8870-4be1-871d-5f278a01fcbf",
   "metadata": {},
   "source": [
    "# EDA"
   ]
  },
  {
   "cell_type": "code",
   "execution_count": 70,
   "id": "4cef094e-9658-4817-abe4-c8ecba8d64e2",
   "metadata": {},
   "outputs": [],
   "source": [
    "groupby_cols = ['provider', 'provider_id']"
   ]
  },
  {
   "cell_type": "code",
   "execution_count": 90,
   "id": "e82a7e10-ca32-454a-a5ac-ab25f8b8ae68",
   "metadata": {},
   "outputs": [
    {
     "data": {
      "text/plain": [
       "provider\n",
       "mediamarkt    284\n",
       "bcc           288\n",
       "bol           575\n",
       "Name: name, dtype: int64"
      ]
     },
     "execution_count": 90,
     "metadata": {},
     "output_type": "execute_result"
    }
   ],
   "source": [
    "df.groupby('provider')['name'].count().sort_values()"
   ]
  },
  {
   "cell_type": "code",
   "execution_count": 61,
   "id": "1aea370d-f807-4c82-80b4-ec59ebaa9252",
   "metadata": {},
   "outputs": [
    {
     "data": {
      "text/html": [
       "<div>\n",
       "<style scoped>\n",
       "    .dataframe tbody tr th:only-of-type {\n",
       "        vertical-align: middle;\n",
       "    }\n",
       "\n",
       "    .dataframe tbody tr th {\n",
       "        vertical-align: top;\n",
       "    }\n",
       "\n",
       "    .dataframe thead th {\n",
       "        text-align: right;\n",
       "    }\n",
       "</style>\n",
       "<table border=\"1\" class=\"dataframe\">\n",
       "  <thead>\n",
       "    <tr style=\"text-align: right;\">\n",
       "      <th></th>\n",
       "      <th>price</th>\n",
       "      <th>hidden_price</th>\n",
       "    </tr>\n",
       "  </thead>\n",
       "  <tbody>\n",
       "    <tr>\n",
       "      <th>count</th>\n",
       "      <td>1145.000000</td>\n",
       "      <td>423.000000</td>\n",
       "    </tr>\n",
       "    <tr>\n",
       "      <th>mean</th>\n",
       "      <td>455.766969</td>\n",
       "      <td>275.654350</td>\n",
       "    </tr>\n",
       "    <tr>\n",
       "      <th>std</th>\n",
       "      <td>615.215406</td>\n",
       "      <td>602.809826</td>\n",
       "    </tr>\n",
       "    <tr>\n",
       "      <th>min</th>\n",
       "      <td>2.740000</td>\n",
       "      <td>2.740000</td>\n",
       "    </tr>\n",
       "    <tr>\n",
       "      <th>25%</th>\n",
       "      <td>42.830000</td>\n",
       "      <td>23.970000</td>\n",
       "    </tr>\n",
       "    <tr>\n",
       "      <th>50%</th>\n",
       "      <td>279.000000</td>\n",
       "      <td>47.950000</td>\n",
       "    </tr>\n",
       "    <tr>\n",
       "      <th>75%</th>\n",
       "      <td>669.150000</td>\n",
       "      <td>307.495000</td>\n",
       "    </tr>\n",
       "    <tr>\n",
       "      <th>max</th>\n",
       "      <td>8499.000000</td>\n",
       "      <td>7999.000000</td>\n",
       "    </tr>\n",
       "  </tbody>\n",
       "</table>\n",
       "</div>"
      ],
      "text/plain": [
       "             price  hidden_price\n",
       "count  1145.000000    423.000000\n",
       "mean    455.766969    275.654350\n",
       "std     615.215406    602.809826\n",
       "min       2.740000      2.740000\n",
       "25%      42.830000     23.970000\n",
       "50%     279.000000     47.950000\n",
       "75%     669.150000    307.495000\n",
       "max    8499.000000   7999.000000"
      ]
     },
     "execution_count": 61,
     "metadata": {},
     "output_type": "execute_result"
    }
   ],
   "source": [
    "df.describe()"
   ]
  },
  {
   "cell_type": "code",
   "execution_count": 62,
   "id": "7c053a13-baa1-4140-905b-279a104cfd37",
   "metadata": {},
   "outputs": [
    {
     "data": {
      "text/plain": [
       "(1147, 7)"
      ]
     },
     "execution_count": 62,
     "metadata": {},
     "output_type": "execute_result"
    }
   ],
   "source": [
    "df.shape"
   ]
  },
  {
   "cell_type": "code",
   "execution_count": 69,
   "id": "a865b070-3e7c-496d-96c8-046a29912d7c",
   "metadata": {},
   "outputs": [
    {
     "data": {
      "text/plain": [
       "0"
      ]
     },
     "execution_count": 69,
     "metadata": {},
     "output_type": "execute_result"
    }
   ],
   "source": [
    "sum(df.reset_index().groupby(groupby_cols).count()['price']>1)"
   ]
  },
  {
   "cell_type": "code",
   "execution_count": 68,
   "id": "201d67ad-ec0d-4b1f-9dd1-5f24b295fdad",
   "metadata": {},
   "outputs": [
    {
     "data": {
      "text/html": [
       "<div>\n",
       "<style scoped>\n",
       "    .dataframe tbody tr th:only-of-type {\n",
       "        vertical-align: middle;\n",
       "    }\n",
       "\n",
       "    .dataframe tbody tr th {\n",
       "        vertical-align: top;\n",
       "    }\n",
       "\n",
       "    .dataframe thead tr th {\n",
       "        text-align: left;\n",
       "    }\n",
       "\n",
       "    .dataframe thead tr:last-of-type th {\n",
       "        text-align: right;\n",
       "    }\n",
       "</style>\n",
       "<table border=\"1\" class=\"dataframe\">\n",
       "  <thead>\n",
       "    <tr>\n",
       "      <th></th>\n",
       "      <th></th>\n",
       "      <th colspan=\"3\" halign=\"left\">price</th>\n",
       "    </tr>\n",
       "    <tr>\n",
       "      <th></th>\n",
       "      <th></th>\n",
       "      <th>min</th>\n",
       "      <th>max</th>\n",
       "      <th>std</th>\n",
       "    </tr>\n",
       "    <tr>\n",
       "      <th>provider</th>\n",
       "      <th>provider_id</th>\n",
       "      <th></th>\n",
       "      <th></th>\n",
       "      <th></th>\n",
       "    </tr>\n",
       "  </thead>\n",
       "  <tbody>\n",
       "    <tr>\n",
       "      <th rowspan=\"5\" valign=\"top\">bcc</th>\n",
       "      <th>000000000000048395</th>\n",
       "      <td>249.99</td>\n",
       "      <td>249.99</td>\n",
       "      <td>NaN</td>\n",
       "    </tr>\n",
       "    <tr>\n",
       "      <th>000000000000079276</th>\n",
       "      <td>24.95</td>\n",
       "      <td>24.95</td>\n",
       "      <td>NaN</td>\n",
       "    </tr>\n",
       "    <tr>\n",
       "      <th>000000000000219089</th>\n",
       "      <td>61.99</td>\n",
       "      <td>61.99</td>\n",
       "      <td>NaN</td>\n",
       "    </tr>\n",
       "    <tr>\n",
       "      <th>000000000000219297</th>\n",
       "      <td>112.00</td>\n",
       "      <td>112.00</td>\n",
       "      <td>NaN</td>\n",
       "    </tr>\n",
       "    <tr>\n",
       "      <th>000000000000219733</th>\n",
       "      <td>134.99</td>\n",
       "      <td>134.99</td>\n",
       "      <td>NaN</td>\n",
       "    </tr>\n",
       "    <tr>\n",
       "      <th>...</th>\n",
       "      <th>...</th>\n",
       "      <td>...</td>\n",
       "      <td>...</td>\n",
       "      <td>...</td>\n",
       "    </tr>\n",
       "    <tr>\n",
       "      <th rowspan=\"5\" valign=\"top\">mediamarkt</th>\n",
       "      <th>MMNL1707558</th>\n",
       "      <td>1279.00</td>\n",
       "      <td>1279.00</td>\n",
       "      <td>NaN</td>\n",
       "    </tr>\n",
       "    <tr>\n",
       "      <th>MMNL1707687</th>\n",
       "      <td>499.00</td>\n",
       "      <td>499.00</td>\n",
       "      <td>NaN</td>\n",
       "    </tr>\n",
       "    <tr>\n",
       "      <th>MMNL1707835</th>\n",
       "      <td>389.00</td>\n",
       "      <td>389.00</td>\n",
       "      <td>NaN</td>\n",
       "    </tr>\n",
       "    <tr>\n",
       "      <th>MMNL1711411</th>\n",
       "      <td>2249.00</td>\n",
       "      <td>2249.00</td>\n",
       "      <td>NaN</td>\n",
       "    </tr>\n",
       "    <tr>\n",
       "      <th>MMNL1711414</th>\n",
       "      <td>2979.00</td>\n",
       "      <td>2979.00</td>\n",
       "      <td>NaN</td>\n",
       "    </tr>\n",
       "  </tbody>\n",
       "</table>\n",
       "<p>1147 rows × 3 columns</p>\n",
       "</div>"
      ],
      "text/plain": [
       "                                 price             \n",
       "                                   min      max std\n",
       "provider   provider_id                             \n",
       "bcc        000000000000048395   249.99   249.99 NaN\n",
       "           000000000000079276    24.95    24.95 NaN\n",
       "           000000000000219089    61.99    61.99 NaN\n",
       "           000000000000219297   112.00   112.00 NaN\n",
       "           000000000000219733   134.99   134.99 NaN\n",
       "...                                ...      ...  ..\n",
       "mediamarkt MMNL1707558         1279.00  1279.00 NaN\n",
       "           MMNL1707687          499.00   499.00 NaN\n",
       "           MMNL1707835          389.00   389.00 NaN\n",
       "           MMNL1711411         2249.00  2249.00 NaN\n",
       "           MMNL1711414         2979.00  2979.00 NaN\n",
       "\n",
       "[1147 rows x 3 columns]"
      ]
     },
     "execution_count": 68,
     "metadata": {},
     "output_type": "execute_result"
    }
   ],
   "source": [
    "df.groupby(groupby_cols)[['price']].agg(['min', 'max', 'std'])"
   ]
  },
  {
   "cell_type": "code",
   "execution_count": 38,
   "id": "0fe3c2e7-5046-4868-8ddd-f85da5e1b7c4",
   "metadata": {},
   "outputs": [
    {
     "data": {
      "text/html": [
       "<div>\n",
       "<style scoped>\n",
       "    .dataframe tbody tr th:only-of-type {\n",
       "        vertical-align: middle;\n",
       "    }\n",
       "\n",
       "    .dataframe tbody tr th {\n",
       "        vertical-align: top;\n",
       "    }\n",
       "\n",
       "    .dataframe thead th {\n",
       "        text-align: right;\n",
       "    }\n",
       "</style>\n",
       "<table border=\"1\" class=\"dataframe\">\n",
       "  <thead>\n",
       "    <tr style=\"text-align: right;\">\n",
       "      <th></th>\n",
       "      <th>provider</th>\n",
       "      <th>provider_id</th>\n",
       "      <th>name</th>\n",
       "      <th>price</th>\n",
       "      <th>original_price</th>\n",
       "      <th>hidden_price</th>\n",
       "      <th>URL</th>\n",
       "    </tr>\n",
       "    <tr>\n",
       "      <th>parse_date</th>\n",
       "      <th></th>\n",
       "      <th></th>\n",
       "      <th></th>\n",
       "      <th></th>\n",
       "      <th></th>\n",
       "      <th></th>\n",
       "      <th></th>\n",
       "    </tr>\n",
       "  </thead>\n",
       "  <tbody>\n",
       "    <tr>\n",
       "      <th>2021-10-09 14:17:00</th>\n",
       "      <td>mediamarkt</td>\n",
       "      <td>MMNL1700318</td>\n",
       "      <td>LENOVO IdeaCentre 5 - i5-10400 8GB 512GB SSD</td>\n",
       "      <td>549.00</td>\n",
       "      <td>549.</td>\n",
       "      <td>NaN</td>\n",
       "      <td>https://mediamarkt.nl/nl/product/_lenovo-ideac...</td>\n",
       "    </tr>\n",
       "    <tr>\n",
       "      <th>2021-10-09 14:17:00</th>\n",
       "      <td>mediamarkt</td>\n",
       "      <td>MMNL1698756</td>\n",
       "      <td>MSI MAG META 5 3SI-441MYS</td>\n",
       "      <td>1139.00</td>\n",
       "      <td>1139.</td>\n",
       "      <td>NaN</td>\n",
       "      <td>https://mediamarkt.nl/nl/product/_msi-mag-meta...</td>\n",
       "    </tr>\n",
       "    <tr>\n",
       "      <th>2021-10-09 14:17:00</th>\n",
       "      <td>mediamarkt</td>\n",
       "      <td>MMNL1698956</td>\n",
       "      <td>HP OMEN 25L GT12-1410nd</td>\n",
       "      <td>1389.00</td>\n",
       "      <td>1389.</td>\n",
       "      <td>NaN</td>\n",
       "      <td>https://mediamarkt.nl/nl/product/_hp-omen-25l-...</td>\n",
       "    </tr>\n",
       "    <tr>\n",
       "      <th>2021-10-09 14:17:00</th>\n",
       "      <td>mediamarkt</td>\n",
       "      <td>MMNL1696650</td>\n",
       "      <td>HP OMEN 25L GT12-1420nd</td>\n",
       "      <td>1499.00</td>\n",
       "      <td>1499.</td>\n",
       "      <td>NaN</td>\n",
       "      <td>https://mediamarkt.nl/nl/product/_hp-omen-25l-...</td>\n",
       "    </tr>\n",
       "    <tr>\n",
       "      <th>2021-10-09 14:17:00</th>\n",
       "      <td>mediamarkt</td>\n",
       "      <td>MMNL1670320</td>\n",
       "      <td>APPLE iMac 21.5\" - i5/8GB/1TB/FHD</td>\n",
       "      <td>999.00</td>\n",
       "      <td>1249.</td>\n",
       "      <td>NaN</td>\n",
       "      <td>https://mediamarkt.nl/nl/product/_apple-imac-2...</td>\n",
       "    </tr>\n",
       "    <tr>\n",
       "      <th>...</th>\n",
       "      <td>...</td>\n",
       "      <td>...</td>\n",
       "      <td>...</td>\n",
       "      <td>...</td>\n",
       "      <td>...</td>\n",
       "      <td>...</td>\n",
       "      <td>...</td>\n",
       "    </tr>\n",
       "    <tr>\n",
       "      <th>2021-10-09 17:22:00</th>\n",
       "      <td>mediamarkt</td>\n",
       "      <td>MMNL1698952</td>\n",
       "      <td>HP Pavilion TP01-2050nd</td>\n",
       "      <td>649.99</td>\n",
       "      <td>649.99</td>\n",
       "      <td>NaN</td>\n",
       "      <td>https://mediamarkt.nl/nl/product/_hp-pavilion-...</td>\n",
       "    </tr>\n",
       "    <tr>\n",
       "      <th>2021-10-09 17:22:00</th>\n",
       "      <td>mediamarkt</td>\n",
       "      <td>MMNL1698756</td>\n",
       "      <td>MSI MAG META 5 3SI-441MYS</td>\n",
       "      <td>1139.00</td>\n",
       "      <td>1139.</td>\n",
       "      <td>NaN</td>\n",
       "      <td>https://mediamarkt.nl/nl/product/_msi-mag-meta...</td>\n",
       "    </tr>\n",
       "    <tr>\n",
       "      <th>2021-10-09 17:22:00</th>\n",
       "      <td>mediamarkt</td>\n",
       "      <td>MMNL1701541</td>\n",
       "      <td>SCREENON GamePC V621817 - Ryzen 3 480GB</td>\n",
       "      <td>559.99</td>\n",
       "      <td>559.99</td>\n",
       "      <td>NaN</td>\n",
       "      <td>https://mediamarkt.nl/nl/product/_screenon-gam...</td>\n",
       "    </tr>\n",
       "    <tr>\n",
       "      <th>2021-10-09 17:22:00</th>\n",
       "      <td>mediamarkt</td>\n",
       "      <td>MMNL1606590</td>\n",
       "      <td>PHILIPS Sonicare Protective Clean HX6803/63</td>\n",
       "      <td>59.95</td>\n",
       "      <td>59.95</td>\n",
       "      <td>NaN</td>\n",
       "      <td>https://mediamarkt.nl/nl/product/_philips-soni...</td>\n",
       "    </tr>\n",
       "    <tr>\n",
       "      <th>2021-10-09 17:22:00</th>\n",
       "      <td>mediamarkt</td>\n",
       "      <td>MMNL1371881</td>\n",
       "      <td>PHILIPS Sonicare PlaqueDefense HX6231/01</td>\n",
       "      <td>39.99</td>\n",
       "      <td>39.99</td>\n",
       "      <td>NaN</td>\n",
       "      <td>https://mediamarkt.nl/nl/product/_philips-soni...</td>\n",
       "    </tr>\n",
       "  </tbody>\n",
       "</table>\n",
       "<p>200 rows × 7 columns</p>\n",
       "</div>"
      ],
      "text/plain": [
       "                       provider  provider_id  \\\n",
       "parse_date                                     \n",
       "2021-10-09 14:17:00  mediamarkt  MMNL1700318   \n",
       "2021-10-09 14:17:00  mediamarkt  MMNL1698756   \n",
       "2021-10-09 14:17:00  mediamarkt  MMNL1698956   \n",
       "2021-10-09 14:17:00  mediamarkt  MMNL1696650   \n",
       "2021-10-09 14:17:00  mediamarkt  MMNL1670320   \n",
       "...                         ...          ...   \n",
       "2021-10-09 17:22:00  mediamarkt  MMNL1698952   \n",
       "2021-10-09 17:22:00  mediamarkt  MMNL1698756   \n",
       "2021-10-09 17:22:00  mediamarkt  MMNL1701541   \n",
       "2021-10-09 17:22:00  mediamarkt  MMNL1606590   \n",
       "2021-10-09 17:22:00  mediamarkt  MMNL1371881   \n",
       "\n",
       "                                                             name    price  \\\n",
       "parse_date                                                                   \n",
       "2021-10-09 14:17:00  LENOVO IdeaCentre 5 - i5-10400 8GB 512GB SSD   549.00   \n",
       "2021-10-09 14:17:00                     MSI MAG META 5 3SI-441MYS  1139.00   \n",
       "2021-10-09 14:17:00                       HP OMEN 25L GT12-1410nd  1389.00   \n",
       "2021-10-09 14:17:00                       HP OMEN 25L GT12-1420nd  1499.00   \n",
       "2021-10-09 14:17:00             APPLE iMac 21.5\" - i5/8GB/1TB/FHD   999.00   \n",
       "...                                                           ...      ...   \n",
       "2021-10-09 17:22:00                       HP Pavilion TP01-2050nd   649.99   \n",
       "2021-10-09 17:22:00                     MSI MAG META 5 3SI-441MYS  1139.00   \n",
       "2021-10-09 17:22:00       SCREENON GamePC V621817 - Ryzen 3 480GB   559.99   \n",
       "2021-10-09 17:22:00   PHILIPS Sonicare Protective Clean HX6803/63    59.95   \n",
       "2021-10-09 17:22:00      PHILIPS Sonicare PlaqueDefense HX6231/01    39.99   \n",
       "\n",
       "                    original_price  hidden_price  \\\n",
       "parse_date                                         \n",
       "2021-10-09 14:17:00           549.           NaN   \n",
       "2021-10-09 14:17:00          1139.           NaN   \n",
       "2021-10-09 14:17:00          1389.           NaN   \n",
       "2021-10-09 14:17:00          1499.           NaN   \n",
       "2021-10-09 14:17:00          1249.           NaN   \n",
       "...                            ...           ...   \n",
       "2021-10-09 17:22:00         649.99           NaN   \n",
       "2021-10-09 17:22:00          1139.           NaN   \n",
       "2021-10-09 17:22:00         559.99           NaN   \n",
       "2021-10-09 17:22:00          59.95           NaN   \n",
       "2021-10-09 17:22:00          39.99           NaN   \n",
       "\n",
       "                                                                   URL  \n",
       "parse_date                                                              \n",
       "2021-10-09 14:17:00  https://mediamarkt.nl/nl/product/_lenovo-ideac...  \n",
       "2021-10-09 14:17:00  https://mediamarkt.nl/nl/product/_msi-mag-meta...  \n",
       "2021-10-09 14:17:00  https://mediamarkt.nl/nl/product/_hp-omen-25l-...  \n",
       "2021-10-09 14:17:00  https://mediamarkt.nl/nl/product/_hp-omen-25l-...  \n",
       "2021-10-09 14:17:00  https://mediamarkt.nl/nl/product/_apple-imac-2...  \n",
       "...                                                                ...  \n",
       "2021-10-09 17:22:00  https://mediamarkt.nl/nl/product/_hp-pavilion-...  \n",
       "2021-10-09 17:22:00  https://mediamarkt.nl/nl/product/_msi-mag-meta...  \n",
       "2021-10-09 17:22:00  https://mediamarkt.nl/nl/product/_screenon-gam...  \n",
       "2021-10-09 17:22:00  https://mediamarkt.nl/nl/product/_philips-soni...  \n",
       "2021-10-09 17:22:00  https://mediamarkt.nl/nl/product/_philips-soni...  \n",
       "\n",
       "[200 rows x 7 columns]"
      ]
     },
     "execution_count": 38,
     "metadata": {},
     "output_type": "execute_result"
    }
   ],
   "source": [
    "df[df.provider == 'mediamarkt']"
   ]
  },
  {
   "cell_type": "code",
   "execution_count": 39,
   "id": "490df461-5764-410c-b237-7132a78bcb63",
   "metadata": {},
   "outputs": [
    {
     "data": {
      "text/html": [
       "<div>\n",
       "<style scoped>\n",
       "    .dataframe tbody tr th:only-of-type {\n",
       "        vertical-align: middle;\n",
       "    }\n",
       "\n",
       "    .dataframe tbody tr th {\n",
       "        vertical-align: top;\n",
       "    }\n",
       "\n",
       "    .dataframe thead th {\n",
       "        text-align: right;\n",
       "    }\n",
       "</style>\n",
       "<table border=\"1\" class=\"dataframe\">\n",
       "  <thead>\n",
       "    <tr style=\"text-align: right;\">\n",
       "      <th></th>\n",
       "      <th>provider</th>\n",
       "      <th>provider_id</th>\n",
       "      <th>name</th>\n",
       "      <th>price</th>\n",
       "      <th>original_price</th>\n",
       "      <th>hidden_price</th>\n",
       "      <th>URL</th>\n",
       "    </tr>\n",
       "    <tr>\n",
       "      <th>parse_date</th>\n",
       "      <th></th>\n",
       "      <th></th>\n",
       "      <th></th>\n",
       "      <th></th>\n",
       "      <th></th>\n",
       "      <th></th>\n",
       "      <th></th>\n",
       "    </tr>\n",
       "  </thead>\n",
       "  <tbody>\n",
       "  </tbody>\n",
       "</table>\n",
       "</div>"
      ],
      "text/plain": [
       "Empty DataFrame\n",
       "Columns: [provider, provider_id, name, price, original_price, hidden_price, URL]\n",
       "Index: []"
      ]
     },
     "execution_count": 39,
     "metadata": {},
     "output_type": "execute_result"
    }
   ],
   "source": [
    "df[df.provider_id.isnull()]"
   ]
  },
  {
   "cell_type": "code",
   "execution_count": null,
   "id": "e31c67aa-87a7-4fd1-9b54-3bd2cdbf4d37",
   "metadata": {},
   "outputs": [],
   "source": []
  }
 ],
 "metadata": {
  "kernelspec": {
   "display_name": "Python 3",
   "language": "python",
   "name": "python3"
  },
  "language_info": {
   "codemirror_mode": {
    "name": "ipython",
    "version": 3
   },
   "file_extension": ".py",
   "mimetype": "text/x-python",
   "name": "python",
   "nbconvert_exporter": "python",
   "pygments_lexer": "ipython3",
   "version": "3.6.9"
  }
 },
 "nbformat": 4,
 "nbformat_minor": 5
}
