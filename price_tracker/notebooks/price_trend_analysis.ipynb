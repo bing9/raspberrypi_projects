{
 "cells": [
  {
   "cell_type": "code",
   "execution_count": 2,
   "id": "46e0719b-1779-4975-a19a-054dc40275f8",
   "metadata": {},
   "outputs": [],
   "source": [
    "import pandas as pd"
   ]
  },
  {
   "cell_type": "code",
   "execution_count": 3,
   "id": "ff6e0868-61e5-44d0-8626-c1c3f8650b6f",
   "metadata": {},
   "outputs": [],
   "source": [
    "from pathlib import Path"
   ]
  },
  {
   "cell_type": "code",
   "execution_count": 4,
   "id": "630fb0da-5630-4efa-af86-fe4f5b35d0ea",
   "metadata": {},
   "outputs": [],
   "source": [
    "from concurrent.futures import ProcessPoolExecutor"
   ]
  },
  {
   "cell_type": "code",
   "execution_count": 5,
   "id": "d3ed0cef-9000-4c94-b42c-4d3d4c200c4f",
   "metadata": {},
   "outputs": [],
   "source": [
    "project_dir = Path('.').resolve().parents[0]"
   ]
  },
  {
   "cell_type": "code",
   "execution_count": 6,
   "id": "c4dd1d24-ae8f-49a2-9fa5-a9c86b1453fe",
   "metadata": {},
   "outputs": [],
   "source": [
    "data_dir = project_dir/'data'/'raw'"
   ]
  },
  {
   "cell_type": "code",
   "execution_count": 26,
   "id": "a29b7551-9889-492a-b406-e690148118cd",
   "metadata": {},
   "outputs": [],
   "source": [
    "def read_csv(path):\n",
    "    try:\n",
    "        df = pd.read_csv(path, sep = '\\t')\n",
    "        df['parse_date'] = path.name.rstrip('.tsv')\n",
    "        return df\n",
    "    except:\n",
    "        return None"
   ]
  },
  {
   "cell_type": "code",
   "execution_count": 27,
   "id": "a2ea6529-e181-487e-9217-34405b53f49f",
   "metadata": {},
   "outputs": [],
   "source": [
    "with ProcessPoolExecutor() as pool:\n",
    "    dfs = pool.map(read_csv, data_dir.iterdir())"
   ]
  },
  {
   "cell_type": "code",
   "execution_count": 28,
   "id": "fcdcabe6-788f-4dce-acf6-cbf0865f789c",
   "metadata": {},
   "outputs": [],
   "source": [
    "df = pd.concat(dfs)"
   ]
  },
  {
   "cell_type": "code",
   "execution_count": 29,
   "id": "c74962d7-3877-4251-86de-d8a06e2963ce",
   "metadata": {},
   "outputs": [
    {
     "data": {
      "text/html": [
       "<div>\n",
       "<style scoped>\n",
       "    .dataframe tbody tr th:only-of-type {\n",
       "        vertical-align: middle;\n",
       "    }\n",
       "\n",
       "    .dataframe tbody tr th {\n",
       "        vertical-align: top;\n",
       "    }\n",
       "\n",
       "    .dataframe thead th {\n",
       "        text-align: right;\n",
       "    }\n",
       "</style>\n",
       "<table border=\"1\" class=\"dataframe\">\n",
       "  <thead>\n",
       "    <tr style=\"text-align: right;\">\n",
       "      <th></th>\n",
       "      <th>provider</th>\n",
       "      <th>provider_id</th>\n",
       "      <th>name</th>\n",
       "      <th>price</th>\n",
       "      <th>original_price</th>\n",
       "      <th>hidden_price</th>\n",
       "      <th>URL</th>\n",
       "      <th>parse_date</th>\n",
       "    </tr>\n",
       "  </thead>\n",
       "  <tbody>\n",
       "    <tr>\n",
       "      <th>0</th>\n",
       "      <td>bol</td>\n",
       "      <td>9200000093063167</td>\n",
       "      <td>Philips Sonicare ProtectiveClean 4500 HX6830/4...</td>\n",
       "      <td>79.99</td>\n",
       "      <td>NaN</td>\n",
       "      <td>79.99</td>\n",
       "      <td>https://bol.com/nl/nl/p/philips-sonicare-prote...</td>\n",
       "      <td>2021-10-06 09:31AM</td>\n",
       "    </tr>\n",
       "  </tbody>\n",
       "</table>\n",
       "</div>"
      ],
      "text/plain": [
       "  provider       provider_id  \\\n",
       "0      bol  9200000093063167   \n",
       "\n",
       "                                                name  price original_price  \\\n",
       "0  Philips Sonicare ProtectiveClean 4500 HX6830/4...  79.99            NaN   \n",
       "\n",
       "   hidden_price                                                URL  \\\n",
       "0         79.99  https://bol.com/nl/nl/p/philips-sonicare-prote...   \n",
       "\n",
       "           parse_date  \n",
       "0  2021-10-06 09:31AM  "
      ]
     },
     "execution_count": 29,
     "metadata": {},
     "output_type": "execute_result"
    }
   ],
   "source": [
    "df.head(1)"
   ]
  },
  {
   "cell_type": "code",
   "execution_count": 30,
   "id": "dfbed45e-2f90-487e-b0b7-c0f58d1b8dc1",
   "metadata": {},
   "outputs": [],
   "source": [
    "df['parse_date'] = pd.to_datetime(df['parse_date'])"
   ]
  },
  {
   "cell_type": "code",
   "execution_count": 31,
   "id": "23183d1b-3a57-4bea-8e28-c57d0b9132eb",
   "metadata": {},
   "outputs": [],
   "source": [
    "df.set_index('parse_date', inplace = True)"
   ]
  },
  {
   "cell_type": "code",
   "execution_count": 32,
   "id": "24bbd455-9bde-4ce6-ac52-147b438d280d",
   "metadata": {},
   "outputs": [],
   "source": [
    "df.sort_index(inplace = True)"
   ]
  },
  {
   "cell_type": "code",
   "execution_count": 33,
   "id": "daf9a767-5d33-4bf2-9494-c69e0516cf5d",
   "metadata": {},
   "outputs": [],
   "source": [
    "def clean_numeric(s, to_type = float):\n",
    "    if isinstance(s, str):\n",
    "        return to_type(s.strip().strip('-'))\n",
    "    else:\n",
    "        return s"
   ]
  },
  {
   "cell_type": "code",
   "execution_count": 34,
   "id": "3a404441-d285-49b2-a805-1a4a1c3852ed",
   "metadata": {},
   "outputs": [],
   "source": [
    "df['price'] = df['price'].apply(clean_numeric)"
   ]
  },
  {
   "cell_type": "code",
   "execution_count": 35,
   "id": "68772861-9c3a-48ab-bdb7-8bf98e9e4d48",
   "metadata": {},
   "outputs": [],
   "source": [
    "df.to_csv('combined_data.tsv', sep = '\\t')"
   ]
  },
  {
   "cell_type": "code",
   "execution_count": 38,
   "id": "0fe3c2e7-5046-4868-8ddd-f85da5e1b7c4",
   "metadata": {},
   "outputs": [
    {
     "data": {
      "text/html": [
       "<div>\n",
       "<style scoped>\n",
       "    .dataframe tbody tr th:only-of-type {\n",
       "        vertical-align: middle;\n",
       "    }\n",
       "\n",
       "    .dataframe tbody tr th {\n",
       "        vertical-align: top;\n",
       "    }\n",
       "\n",
       "    .dataframe thead th {\n",
       "        text-align: right;\n",
       "    }\n",
       "</style>\n",
       "<table border=\"1\" class=\"dataframe\">\n",
       "  <thead>\n",
       "    <tr style=\"text-align: right;\">\n",
       "      <th></th>\n",
       "      <th>provider</th>\n",
       "      <th>provider_id</th>\n",
       "      <th>name</th>\n",
       "      <th>price</th>\n",
       "      <th>original_price</th>\n",
       "      <th>hidden_price</th>\n",
       "      <th>URL</th>\n",
       "    </tr>\n",
       "    <tr>\n",
       "      <th>parse_date</th>\n",
       "      <th></th>\n",
       "      <th></th>\n",
       "      <th></th>\n",
       "      <th></th>\n",
       "      <th></th>\n",
       "      <th></th>\n",
       "      <th></th>\n",
       "    </tr>\n",
       "  </thead>\n",
       "  <tbody>\n",
       "    <tr>\n",
       "      <th>2021-10-09 14:17:00</th>\n",
       "      <td>mediamarkt</td>\n",
       "      <td>MMNL1700318</td>\n",
       "      <td>LENOVO IdeaCentre 5 - i5-10400 8GB 512GB SSD</td>\n",
       "      <td>549.00</td>\n",
       "      <td>549.</td>\n",
       "      <td>NaN</td>\n",
       "      <td>https://mediamarkt.nl/nl/product/_lenovo-ideac...</td>\n",
       "    </tr>\n",
       "    <tr>\n",
       "      <th>2021-10-09 14:17:00</th>\n",
       "      <td>mediamarkt</td>\n",
       "      <td>MMNL1698756</td>\n",
       "      <td>MSI MAG META 5 3SI-441MYS</td>\n",
       "      <td>1139.00</td>\n",
       "      <td>1139.</td>\n",
       "      <td>NaN</td>\n",
       "      <td>https://mediamarkt.nl/nl/product/_msi-mag-meta...</td>\n",
       "    </tr>\n",
       "    <tr>\n",
       "      <th>2021-10-09 14:17:00</th>\n",
       "      <td>mediamarkt</td>\n",
       "      <td>MMNL1698956</td>\n",
       "      <td>HP OMEN 25L GT12-1410nd</td>\n",
       "      <td>1389.00</td>\n",
       "      <td>1389.</td>\n",
       "      <td>NaN</td>\n",
       "      <td>https://mediamarkt.nl/nl/product/_hp-omen-25l-...</td>\n",
       "    </tr>\n",
       "    <tr>\n",
       "      <th>2021-10-09 14:17:00</th>\n",
       "      <td>mediamarkt</td>\n",
       "      <td>MMNL1696650</td>\n",
       "      <td>HP OMEN 25L GT12-1420nd</td>\n",
       "      <td>1499.00</td>\n",
       "      <td>1499.</td>\n",
       "      <td>NaN</td>\n",
       "      <td>https://mediamarkt.nl/nl/product/_hp-omen-25l-...</td>\n",
       "    </tr>\n",
       "    <tr>\n",
       "      <th>2021-10-09 14:17:00</th>\n",
       "      <td>mediamarkt</td>\n",
       "      <td>MMNL1670320</td>\n",
       "      <td>APPLE iMac 21.5\" - i5/8GB/1TB/FHD</td>\n",
       "      <td>999.00</td>\n",
       "      <td>1249.</td>\n",
       "      <td>NaN</td>\n",
       "      <td>https://mediamarkt.nl/nl/product/_apple-imac-2...</td>\n",
       "    </tr>\n",
       "    <tr>\n",
       "      <th>...</th>\n",
       "      <td>...</td>\n",
       "      <td>...</td>\n",
       "      <td>...</td>\n",
       "      <td>...</td>\n",
       "      <td>...</td>\n",
       "      <td>...</td>\n",
       "      <td>...</td>\n",
       "    </tr>\n",
       "    <tr>\n",
       "      <th>2021-10-09 17:22:00</th>\n",
       "      <td>mediamarkt</td>\n",
       "      <td>MMNL1698952</td>\n",
       "      <td>HP Pavilion TP01-2050nd</td>\n",
       "      <td>649.99</td>\n",
       "      <td>649.99</td>\n",
       "      <td>NaN</td>\n",
       "      <td>https://mediamarkt.nl/nl/product/_hp-pavilion-...</td>\n",
       "    </tr>\n",
       "    <tr>\n",
       "      <th>2021-10-09 17:22:00</th>\n",
       "      <td>mediamarkt</td>\n",
       "      <td>MMNL1698756</td>\n",
       "      <td>MSI MAG META 5 3SI-441MYS</td>\n",
       "      <td>1139.00</td>\n",
       "      <td>1139.</td>\n",
       "      <td>NaN</td>\n",
       "      <td>https://mediamarkt.nl/nl/product/_msi-mag-meta...</td>\n",
       "    </tr>\n",
       "    <tr>\n",
       "      <th>2021-10-09 17:22:00</th>\n",
       "      <td>mediamarkt</td>\n",
       "      <td>MMNL1701541</td>\n",
       "      <td>SCREENON GamePC V621817 - Ryzen 3 480GB</td>\n",
       "      <td>559.99</td>\n",
       "      <td>559.99</td>\n",
       "      <td>NaN</td>\n",
       "      <td>https://mediamarkt.nl/nl/product/_screenon-gam...</td>\n",
       "    </tr>\n",
       "    <tr>\n",
       "      <th>2021-10-09 17:22:00</th>\n",
       "      <td>mediamarkt</td>\n",
       "      <td>MMNL1606590</td>\n",
       "      <td>PHILIPS Sonicare Protective Clean HX6803/63</td>\n",
       "      <td>59.95</td>\n",
       "      <td>59.95</td>\n",
       "      <td>NaN</td>\n",
       "      <td>https://mediamarkt.nl/nl/product/_philips-soni...</td>\n",
       "    </tr>\n",
       "    <tr>\n",
       "      <th>2021-10-09 17:22:00</th>\n",
       "      <td>mediamarkt</td>\n",
       "      <td>MMNL1371881</td>\n",
       "      <td>PHILIPS Sonicare PlaqueDefense HX6231/01</td>\n",
       "      <td>39.99</td>\n",
       "      <td>39.99</td>\n",
       "      <td>NaN</td>\n",
       "      <td>https://mediamarkt.nl/nl/product/_philips-soni...</td>\n",
       "    </tr>\n",
       "  </tbody>\n",
       "</table>\n",
       "<p>200 rows × 7 columns</p>\n",
       "</div>"
      ],
      "text/plain": [
       "                       provider  provider_id  \\\n",
       "parse_date                                     \n",
       "2021-10-09 14:17:00  mediamarkt  MMNL1700318   \n",
       "2021-10-09 14:17:00  mediamarkt  MMNL1698756   \n",
       "2021-10-09 14:17:00  mediamarkt  MMNL1698956   \n",
       "2021-10-09 14:17:00  mediamarkt  MMNL1696650   \n",
       "2021-10-09 14:17:00  mediamarkt  MMNL1670320   \n",
       "...                         ...          ...   \n",
       "2021-10-09 17:22:00  mediamarkt  MMNL1698952   \n",
       "2021-10-09 17:22:00  mediamarkt  MMNL1698756   \n",
       "2021-10-09 17:22:00  mediamarkt  MMNL1701541   \n",
       "2021-10-09 17:22:00  mediamarkt  MMNL1606590   \n",
       "2021-10-09 17:22:00  mediamarkt  MMNL1371881   \n",
       "\n",
       "                                                             name    price  \\\n",
       "parse_date                                                                   \n",
       "2021-10-09 14:17:00  LENOVO IdeaCentre 5 - i5-10400 8GB 512GB SSD   549.00   \n",
       "2021-10-09 14:17:00                     MSI MAG META 5 3SI-441MYS  1139.00   \n",
       "2021-10-09 14:17:00                       HP OMEN 25L GT12-1410nd  1389.00   \n",
       "2021-10-09 14:17:00                       HP OMEN 25L GT12-1420nd  1499.00   \n",
       "2021-10-09 14:17:00             APPLE iMac 21.5\" - i5/8GB/1TB/FHD   999.00   \n",
       "...                                                           ...      ...   \n",
       "2021-10-09 17:22:00                       HP Pavilion TP01-2050nd   649.99   \n",
       "2021-10-09 17:22:00                     MSI MAG META 5 3SI-441MYS  1139.00   \n",
       "2021-10-09 17:22:00       SCREENON GamePC V621817 - Ryzen 3 480GB   559.99   \n",
       "2021-10-09 17:22:00   PHILIPS Sonicare Protective Clean HX6803/63    59.95   \n",
       "2021-10-09 17:22:00      PHILIPS Sonicare PlaqueDefense HX6231/01    39.99   \n",
       "\n",
       "                    original_price  hidden_price  \\\n",
       "parse_date                                         \n",
       "2021-10-09 14:17:00           549.           NaN   \n",
       "2021-10-09 14:17:00          1139.           NaN   \n",
       "2021-10-09 14:17:00          1389.           NaN   \n",
       "2021-10-09 14:17:00          1499.           NaN   \n",
       "2021-10-09 14:17:00          1249.           NaN   \n",
       "...                            ...           ...   \n",
       "2021-10-09 17:22:00         649.99           NaN   \n",
       "2021-10-09 17:22:00          1139.           NaN   \n",
       "2021-10-09 17:22:00         559.99           NaN   \n",
       "2021-10-09 17:22:00          59.95           NaN   \n",
       "2021-10-09 17:22:00          39.99           NaN   \n",
       "\n",
       "                                                                   URL  \n",
       "parse_date                                                              \n",
       "2021-10-09 14:17:00  https://mediamarkt.nl/nl/product/_lenovo-ideac...  \n",
       "2021-10-09 14:17:00  https://mediamarkt.nl/nl/product/_msi-mag-meta...  \n",
       "2021-10-09 14:17:00  https://mediamarkt.nl/nl/product/_hp-omen-25l-...  \n",
       "2021-10-09 14:17:00  https://mediamarkt.nl/nl/product/_hp-omen-25l-...  \n",
       "2021-10-09 14:17:00  https://mediamarkt.nl/nl/product/_apple-imac-2...  \n",
       "...                                                                ...  \n",
       "2021-10-09 17:22:00  https://mediamarkt.nl/nl/product/_hp-pavilion-...  \n",
       "2021-10-09 17:22:00  https://mediamarkt.nl/nl/product/_msi-mag-meta...  \n",
       "2021-10-09 17:22:00  https://mediamarkt.nl/nl/product/_screenon-gam...  \n",
       "2021-10-09 17:22:00  https://mediamarkt.nl/nl/product/_philips-soni...  \n",
       "2021-10-09 17:22:00  https://mediamarkt.nl/nl/product/_philips-soni...  \n",
       "\n",
       "[200 rows x 7 columns]"
      ]
     },
     "execution_count": 38,
     "metadata": {},
     "output_type": "execute_result"
    }
   ],
   "source": [
    "df[df.provider == 'mediamarkt']"
   ]
  },
  {
   "cell_type": "code",
   "execution_count": 39,
   "id": "490df461-5764-410c-b237-7132a78bcb63",
   "metadata": {},
   "outputs": [
    {
     "data": {
      "text/html": [
       "<div>\n",
       "<style scoped>\n",
       "    .dataframe tbody tr th:only-of-type {\n",
       "        vertical-align: middle;\n",
       "    }\n",
       "\n",
       "    .dataframe tbody tr th {\n",
       "        vertical-align: top;\n",
       "    }\n",
       "\n",
       "    .dataframe thead th {\n",
       "        text-align: right;\n",
       "    }\n",
       "</style>\n",
       "<table border=\"1\" class=\"dataframe\">\n",
       "  <thead>\n",
       "    <tr style=\"text-align: right;\">\n",
       "      <th></th>\n",
       "      <th>provider</th>\n",
       "      <th>provider_id</th>\n",
       "      <th>name</th>\n",
       "      <th>price</th>\n",
       "      <th>original_price</th>\n",
       "      <th>hidden_price</th>\n",
       "      <th>URL</th>\n",
       "    </tr>\n",
       "    <tr>\n",
       "      <th>parse_date</th>\n",
       "      <th></th>\n",
       "      <th></th>\n",
       "      <th></th>\n",
       "      <th></th>\n",
       "      <th></th>\n",
       "      <th></th>\n",
       "      <th></th>\n",
       "    </tr>\n",
       "  </thead>\n",
       "  <tbody>\n",
       "  </tbody>\n",
       "</table>\n",
       "</div>"
      ],
      "text/plain": [
       "Empty DataFrame\n",
       "Columns: [provider, provider_id, name, price, original_price, hidden_price, URL]\n",
       "Index: []"
      ]
     },
     "execution_count": 39,
     "metadata": {},
     "output_type": "execute_result"
    }
   ],
   "source": [
    "df[df.provider_id.isnull()]"
   ]
  },
  {
   "cell_type": "code",
   "execution_count": null,
   "id": "e31c67aa-87a7-4fd1-9b54-3bd2cdbf4d37",
   "metadata": {},
   "outputs": [],
   "source": []
  }
 ],
 "metadata": {
  "kernelspec": {
   "display_name": "Python 3",
   "language": "python",
   "name": "python3"
  },
  "language_info": {
   "codemirror_mode": {
    "name": "ipython",
    "version": 3
   },
   "file_extension": ".py",
   "mimetype": "text/x-python",
   "name": "python",
   "nbconvert_exporter": "python",
   "pygments_lexer": "ipython3",
   "version": "3.6.9"
  }
 },
 "nbformat": 4,
 "nbformat_minor": 5
}
