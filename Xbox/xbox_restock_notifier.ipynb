{
 "cells": [
  {
   "cell_type": "code",
   "execution_count": null,
   "metadata": {},
   "outputs": [],
   "source": [
    "import sys  \n",
    "import os\n",
    "sys.path.insert(0, '/'.join([*os.getcwd().split('/')[:-1], 'Utils']))\n",
    "\n",
    "import notifications as n\n",
    "\n",
    "import requests\n",
    "from bs4 import BeautifulSoup\n",
    "import json\n",
    "import os\n",
    "\n",
    "import time\n",
    "\n",
    "import pandas as pd\n",
    "pd.set_option('display.max_columns', None)\n",
    "\n",
    "from selenium import webdriver\n",
    "\n",
    "from dotenv import load_dotenv"
   ]
  },
  {
   "cell_type": "code",
   "execution_count": null,
   "metadata": {},
   "outputs": [],
   "source": [
    "load_dotenv(override = True)"
   ]
  },
  {
   "cell_type": "code",
   "execution_count": null,
   "metadata": {},
   "outputs": [],
   "source": [
    "def get_body(site_url):\n",
    "    headers = {'Accept-Encoding': 'identity'}\n",
    "    site_source = requests.get(site_url, headers=headers)\n",
    "    content = BeautifulSoup(site_source.content).body\n",
    "    return content"
   ]
  },
  {
   "cell_type": "code",
   "execution_count": null,
   "metadata": {},
   "outputs": [],
   "source": [
    "def check_halo(content):\n",
    "    b = content.find(attrs = {'type': 'button', 'class': 'BundleBuilderHeader-module__checkoutButton___3UyEq'})\n",
    "    if 'disabled' in b.attrs:\n",
    "        return False\n",
    "    else:\n",
    "        True"
   ]
  },
  {
   "cell_type": "code",
   "execution_count": null,
   "metadata": {},
   "outputs": [],
   "source": [
    "def check_microsoft(content, keyword):\n",
    "    buys = content.find(attrs = {'class':\"buy-group\"})\n",
    "    if buys != None:\n",
    "        lst = buys.findChildren(name='span')\n",
    "\n",
    "    if any([keyword in i.text for i in lst]) != True:\n",
    "        return True\n",
    "    else:\n",
    "        return False"
   ]
  },
  {
   "cell_type": "code",
   "execution_count": null,
   "metadata": {},
   "outputs": [],
   "source": [
    "def check_ms_inventory():\n",
    "    response = requests.post(\n",
    "    url = 'https://inv.mp.microsoft.com/v2.0/inventory/NL',\n",
    "    data = \"\"\"[\n",
    "        {\"skuId\":\"RRT-00009\",\"distributorId\":\"9000000013\"},\n",
    "        {\"skuId\":\"RRT-00007\",\"distributorId\":\"9000000013\"},\n",
    "        {\"skuId\":\"RRT-00008\",\"distributorId\":\"9000000013\"},\n",
    "        {\"skuId\":\"RRT-00010\",\"distributorId\":\"9000000013\"}]\"\"\",\n",
    "    params = {'MS-CorrelationId':'98e7083c-4bfb-4715-b3cb-4b423d01c9cf',\n",
    "                      'MS-RequestId': '98e7083c-4bfb-4715-b3cb-4b423d01c9cf',\n",
    "                      'mode':'continueOnError'},\n",
    "     headers = {'accept': '*/*',\n",
    "         'accept-encoding': 'gzip, deflate, br',\n",
    "         'accept-language': 'en-US,en;q=0.9,zh-CN;q=0.8,zh;q=0.7',\n",
    "         'content-length': '817',\n",
    "         'content-type': 'application/json',\n",
    "         'dnt': '1',\n",
    "         'origin': 'https://www.microsoft.com',\n",
    "         'referer': 'https://www.microsoft.com/',\n",
    "         'sec-ch-ua': '\"Google Chrome\";v=\"93\", \" Not;A Brand\";v=\"99\", \"Chromium\";v=\"93\"',\n",
    "         'sec-ch-ua-mobile': '?0',\n",
    "         'sec-ch-ua-platform': '\"Windows\"',\n",
    "         'sec-fetch-dest': 'empty',\n",
    "         'sec-fetch-mode': 'cors',\n",
    "         'sec-fetch-site': 'same-site',\n",
    "         'user-agent': 'Mozilla/5.0 (Windows NT 10.0; Win64; x64) AppleWebKit/537.36 (KHTML, like Gecko) Chrome/93.0.4577.63 Safari/537.36'}\n",
    "                            )\n",
    "    d = eval(response.text)\n",
    "    df = pd.DataFrame(d)\n",
    "    df_availables =  pd.json_normalize(df['availabilities'])\n",
    "    df_availables['inStock'] = df['inStock'].apply(eval)\n",
    "    col = 'productDescription'\n",
    "    final_d = df_availables[[col, 'inStock']].set_index(col)['inStock'].to_dict()\n",
    "    return final_d"
   ]
  },
  {
   "cell_type": "code",
   "execution_count": null,
   "metadata": {},
   "outputs": [],
   "source": [
    "def check_coolblue():\n",
    "    url = 'https://www.coolblue.nl/en/product/867421/xbox-series-x.html'\n",
    "    request = BeautifulSoup(requests.get(url).content)\n",
    "    lst = request.find_all(attrs = {'type': 'submit', 'class': 'js-add-to-cart-button'}, name = 'button')\n",
    "\n",
    "    if len(lst)>0:\n",
    "        return True\n",
    "    else:\n",
    "        return False"
   ]
  },
  {
   "cell_type": "code",
   "execution_count": null,
   "metadata": {},
   "outputs": [],
   "source": [
    "def check_bcc():\n",
    "    url = 'https://www.bcc.nl/gaming/xbox/xbox-series-console/microsoft-gameconsole-xbox-series-x/293589'\n",
    "#     url = 'https://www.bcc.nl/gaming/xbox/xbox-gamepass-abonnement/xbox-game-pass-console-lidmaatschap-3-maanden-direct-download/292764'\n",
    "    request = BeautifulSoup(requests.get(url).content)\n",
    "\n",
    "    lst = request.find_all(attrs = {'class': 'productoffer__orderbtn'})\n",
    "\n",
    "    if len(lst)>0:\n",
    "        return True\n",
    "    else:\n",
    "        return False"
   ]
  },
  {
   "cell_type": "code",
   "execution_count": null,
   "metadata": {},
   "outputs": [],
   "source": [
    "class MediaMarkt:\n",
    "    '''MediaMarkt uses javascript to check online availability. \n",
    "    Thus we have to let the page load in Selenium before getting the results.'''\n",
    "    def __init__(self, driver=None):\n",
    "        self._driver = driver\n",
    "        \n",
    "    def start_mediatmarkt_driver(self):\n",
    "        driver = webdriver.Chrome()\n",
    "        driver.get('https://www.mediamarkt.nl/nl/product/_microsoft-xbox-series-x-1667555.html#')\n",
    "        return driver\n",
    "    \n",
    "    @property\n",
    "    def driver(self):\n",
    "        if self._driver == None:\n",
    "            self._driver = self.start_mediatmarkt_driver()\n",
    "            return self._driver\n",
    "        else:\n",
    "            return self._driver\n",
    "    \n",
    "    def check_mediamarkt(self):\n",
    "        try:\n",
    "            self.driver.refresh()\n",
    "            online_nostock = self.driver.find_elements_by_class_name(\"online-nostock\")\n",
    "        except:\n",
    "            self._driver = None\n",
    "            online_nostock = self.driver.find_elements_by_class_name(\"online-nostock\")\n",
    "\n",
    "        if len(online_nostock) == 0:\n",
    "            return True\n",
    "        else:\n",
    "            return False"
   ]
  },
  {
   "cell_type": "code",
   "execution_count": null,
   "metadata": {},
   "outputs": [],
   "source": [
    "def check_bol():\n",
    "    bol_url = 'https://www.bol.com/nl/nl/p/xbox-series-x-console/9300000003688723/'\n",
    "    r = requests.get(bol_url)\n",
    "    soup = BeautifulSoup(r.text)\n",
    "    results = soup.findChildren(attrs = {'class': 'buy-block__title'})\n",
    "    \n",
    "    if results:\n",
    "        return False\n",
    "    else:\n",
    "        return True"
   ]
  },
  {
   "cell_type": "code",
   "execution_count": null,
   "metadata": {},
   "outputs": [],
   "source": [
    "def run_all_checks(mm: MediaMarkt):\n",
    "    site='microsoft_xbox'\n",
    "    site_urls = sites[site]['urls']\n",
    "    keywords = sites[site]['keywords']\n",
    "\n",
    "    availables = {}\n",
    "    \n",
    "    for site_url, keyword in zip(site_urls, keywords):\n",
    "        content = get_body(site_url)\n",
    "        available = check_microsoft(content, keyword)\n",
    "        availables[site_url] = available\n",
    "\n",
    "    site='microsoft_halo'\n",
    "\n",
    "    for site_url in sites[site]:\n",
    "        content = get_body(site_url)\n",
    "        available = check_halo(content)\n",
    "        availables[site_url] = available\n",
    "\n",
    "    availables.update({'MS inventories':check_ms_inventory()})\n",
    "    availables.update({'https://www.coolblue.nl/en/product/867421/xbox-series-x.html': check_coolblue()})\n",
    "    availables.update({'https://www.bcc.nl/gaming/xbox/xbox-series-console/microsoft-gameconsole-xbox-series-x/293589':check_bcc()})\n",
    "    availables.update({'https://www.mediamarkt.nl/nl/product/_microsoft-xbox-series-x-1667555.html#': mm.check_mediamarkt()})\n",
    "    availables.update({'https://www.bol.com/nl/nl/p/xbox-series-x-console/9300000003688723': check_bol()})\n",
    "    return availables"
   ]
  },
  {
   "cell_type": "code",
   "execution_count": null,
   "metadata": {},
   "outputs": [],
   "source": [
    "# Gather Links\n",
    "f = r\"./xbox.json\"\n",
    "with open(f,  encoding='utf-8') as json_file:\n",
    "    sites = json.load(json_file)"
   ]
  },
  {
   "cell_type": "code",
   "execution_count": null,
   "metadata": {},
   "outputs": [],
   "source": [
    "# Google Chat webhook\n",
    "xbox = os.environ['xbox']"
   ]
  },
  {
   "cell_type": "code",
   "execution_count": null,
   "metadata": {},
   "outputs": [],
   "source": [
    "run = True\n",
    "counter = 0\n",
    "mm = MediaMarkt()\n",
    "while run:\n",
    "    try:\n",
    "        availables = run_all_checks(mm)\n",
    "        anystock = any(availables.values())\n",
    "        counter+=1\n",
    "        if anystock:\n",
    "            available = {i:j for i, j in availables.items() if j == True}\n",
    "            print(available)\n",
    "            n.send_hangout(bot_message = available, webhook = xbox)\n",
    "            run = False\n",
    "            mm.driver.close()\n",
    "            print(counter)\n",
    "        else:\n",
    "            time.sleep(3*60)\n",
    "            continue\n",
    "    except KeyboardInterrupt:\n",
    "        mm.driver.close()\n",
    "        break\n",
    "    except Exception:\n",
    "        print('skipped')\n",
    "        time.sleep(3*60)\n",
    "        continue\n",
    "    "
   ]
  }
 ],
 "metadata": {
  "kernelspec": {
   "display_name": "Python 3",
   "language": "python",
   "name": "python3"
  },
  "language_info": {
   "codemirror_mode": {
    "name": "ipython",
    "version": 3
   },
   "file_extension": ".py",
   "mimetype": "text/x-python",
   "name": "python",
   "nbconvert_exporter": "python",
   "pygments_lexer": "ipython3",
   "version": "3.6.9"
  }
 },
 "nbformat": 4,
 "nbformat_minor": 4
}
